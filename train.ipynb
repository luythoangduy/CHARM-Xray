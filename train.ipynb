{
 "cells": [
  {
   "cell_type": "markdown",
   "id": "474aed61",
   "metadata": {
    "papermill": {
     "duration": 0.012332,
     "end_time": "2025-05-08T04:31:47.847452",
     "exception": false,
     "start_time": "2025-05-08T04:31:47.835120",
     "status": "completed"
    },
    "tags": []
   },
   "source": [
    "# Install"
   ]
  },
  {
   "cell_type": "markdown",
   "id": "109c0408",
   "metadata": {
    "papermill": {
     "duration": 0.007219,
     "end_time": "2025-05-08T04:31:47.862363",
     "exception": false,
     "start_time": "2025-05-08T04:31:47.855144",
     "status": "completed"
    },
    "tags": []
   },
   "source": [
    "# Data"
   ]
  },
  {
   "cell_type": "code",
   "execution_count": 1,
   "id": "99f1d0c2",
   "metadata": {
    "_cell_guid": "55935d31-2694-45da-a34a-94261649439c",
    "_uuid": "e97fa043-02da-4543-b1ac-513ffc44dec2",
    "collapsed": false,
    "execution": {
     "iopub.execute_input": "2025-05-08T04:31:47.878067Z",
     "iopub.status.busy": "2025-05-08T04:31:47.877769Z",
     "iopub.status.idle": "2025-05-08T04:32:04.390073Z",
     "shell.execute_reply": "2025-05-08T04:32:04.389267Z"
    },
    "jupyter": {
     "outputs_hidden": false
    },
    "papermill": {
     "duration": 16.521947,
     "end_time": "2025-05-08T04:32:04.391619",
     "exception": false,
     "start_time": "2025-05-08T04:31:47.869672",
     "status": "completed"
    },
    "tags": []
   },
   "outputs": [],
   "source": [
    "import fastai\n",
    "from fastai.vision.all import *\n",
    "from tqdm import tqdm\n",
    "from glob import glob"
   ]
  },
  {
   "cell_type": "code",
   "execution_count": 2,
   "id": "219e16ae",
   "metadata": {
    "_cell_guid": "738a2e57-62b1-4cd1-970c-e9505a16a5b5",
    "_uuid": "08422815-d5d5-4f12-93bf-58e031e70dda",
    "collapsed": false,
    "execution": {
     "iopub.execute_input": "2025-05-08T04:32:04.408448Z",
     "iopub.status.busy": "2025-05-08T04:32:04.408201Z",
     "iopub.status.idle": "2025-05-08T04:32:04.417798Z",
     "shell.execute_reply": "2025-05-08T04:32:04.417327Z"
    },
    "jupyter": {
     "outputs_hidden": false
    },
    "papermill": {
     "duration": 0.018973,
     "end_time": "2025-05-08T04:32:04.419004",
     "exception": false,
     "start_time": "2025-05-08T04:32:04.400031",
     "status": "completed"
    },
    "tags": []
   },
   "outputs": [],
   "source": [
    "SEED = 85\n",
    "def seed_everything(seed):\n",
    "    random.seed(seed)\n",
    "    os.environ[\"PYTHONHASHSEED\"] = str(seed)\n",
    "    np.random.seed(seed)\n",
    "    torch.manual_seed(seed)\n",
    "    torch.cuda.manual_seed(seed)\n",
    "    torch.backends.cudnn.deterministic = True\n",
    "    torch.backends.cudnn.benchmark = False\n",
    "\n",
    "seed_everything(SEED)"
   ]
  },
  {
   "cell_type": "code",
   "execution_count": 3,
   "id": "91c23958",
   "metadata": {
    "execution": {
     "iopub.execute_input": "2025-05-08T04:32:04.435107Z",
     "iopub.status.busy": "2025-05-08T04:32:04.434872Z",
     "iopub.status.idle": "2025-05-08T04:32:04.512107Z",
     "shell.execute_reply": "2025-05-08T04:32:04.511517Z"
    },
    "papermill": {
     "duration": 0.086732,
     "end_time": "2025-05-08T04:32:04.513276",
     "exception": false,
     "start_time": "2025-05-08T04:32:04.426544",
     "status": "completed"
    },
    "tags": []
   },
   "outputs": [],
   "source": [
    "DEVICE = torch.device(\"cuda\" if torch.cuda.is_available() else \"cpu\")\n",
    "IMAGE_SIZE = [224, 224]\n",
    "BATCH_SIZE = 128\n",
    "EPOCHS = 10"
   ]
  },
  {
   "cell_type": "code",
   "execution_count": 4,
   "id": "5c230677",
   "metadata": {
    "_cell_guid": "4e4d9570-14a8-46bd-a77b-4c59057d578e",
    "_uuid": "a146646c-ca7b-4441-869a-7407da42f4b0",
    "collapsed": false,
    "execution": {
     "iopub.execute_input": "2025-05-08T04:32:04.529333Z",
     "iopub.status.busy": "2025-05-08T04:32:04.529118Z",
     "iopub.status.idle": "2025-05-08T04:32:05.360226Z",
     "shell.execute_reply": "2025-05-08T04:32:05.359354Z"
    },
    "jupyter": {
     "outputs_hidden": false
    },
    "papermill": {
     "duration": 0.840446,
     "end_time": "2025-05-08T04:32:05.361465",
     "exception": false,
     "start_time": "2025-05-08T04:32:04.521019",
     "status": "completed"
    },
    "tags": []
   },
   "outputs": [
    {
     "name": "stderr",
     "output_type": "stream",
     "text": [
      "100%|██████████| 14/14 [00:00<00:00, 29.59it/s]\n"
     ]
    }
   ],
   "source": [
    "labels_train_val = pd.read_csv('/kaggle/input/data/train_val_list.txt')\n",
    "labels_train_val.columns = ['Image_Index']\n",
    "labels_test = pd.read_csv('/kaggle/input/data/test_list.txt')\n",
    "labels_test.columns = ['Image_Index']\n",
    "disease_labels = ['Atelectasis', 'Consolidation', 'Infiltration', 'Pneumothorax', 'Edema', 'Emphysema', 'Fibrosis', 'Effusion', 'Pneumonia', 'Pleural_Thickening',\n",
    "'Cardiomegaly', 'Nodule', 'Mass', 'Hernia']\n",
    "# NIH Dataset Labels CSV File \n",
    "labels_df = pd.read_csv('/kaggle/input/data/Data_Entry_2017.csv')\n",
    "labels_df.columns = ['Image_Index', 'Finding_Labels', 'Follow_Up_#', 'Patient_ID',\n",
    "                  'Patient_Age', 'Patient_Gender', 'View_Position',\n",
    "                  'Original_Image_Width', 'Original_Image_Height',\n",
    "                  'Original_Image_Pixel_Spacing_X',\n",
    "                  'Original_Image_Pixel_Spacing_Y', 'dfd']\n",
    "# One hot encoding\n",
    "for diseases in tqdm(disease_labels): \n",
    "    labels_df[diseases] = labels_df['Finding_Labels'].map(lambda result: 1 if diseases in result else 0)\n",
    "\n",
    "# labels_df.to_csv('/kaggle/working/newData.csv')\n",
    "labels_df=labels_df[labels_df.Finding_Labels != 'No Finding']\n",
    "#labels_df.head(3)"
   ]
  },
  {
   "cell_type": "code",
   "execution_count": 5,
   "id": "51f65295",
   "metadata": {
    "_cell_guid": "e00c2fca-fb51-4231-a493-2b62f43b83eb",
    "_uuid": "5a632ffd-8096-481a-bc78-4192c1663625",
    "collapsed": false,
    "execution": {
     "iopub.execute_input": "2025-05-08T04:32:05.379062Z",
     "iopub.status.busy": "2025-05-08T04:32:05.378820Z",
     "iopub.status.idle": "2025-05-08T04:32:06.597509Z",
     "shell.execute_reply": "2025-05-08T04:32:06.596697Z"
    },
    "jupyter": {
     "outputs_hidden": false
    },
    "papermill": {
     "duration": 1.228336,
     "end_time": "2025-05-08T04:32:06.598710",
     "exception": false,
     "start_time": "2025-05-08T04:32:05.370374",
     "status": "completed"
    },
    "tags": []
   },
   "outputs": [
    {
     "data": {
      "text/html": [
       "<div>\n",
       "<style scoped>\n",
       "    .dataframe tbody tr th:only-of-type {\n",
       "        vertical-align: middle;\n",
       "    }\n",
       "\n",
       "    .dataframe tbody tr th {\n",
       "        vertical-align: top;\n",
       "    }\n",
       "\n",
       "    .dataframe thead th {\n",
       "        text-align: right;\n",
       "    }\n",
       "</style>\n",
       "<table border=\"1\" class=\"dataframe\">\n",
       "  <thead>\n",
       "    <tr style=\"text-align: right;\">\n",
       "      <th></th>\n",
       "      <th>Image_Index</th>\n",
       "      <th>Finding_Labels</th>\n",
       "      <th>Follow_Up_#</th>\n",
       "      <th>Patient_ID</th>\n",
       "      <th>Patient_Age</th>\n",
       "      <th>Patient_Gender</th>\n",
       "      <th>View_Position</th>\n",
       "      <th>Original_Image_Width</th>\n",
       "      <th>Original_Image_Height</th>\n",
       "      <th>Original_Image_Pixel_Spacing_X</th>\n",
       "      <th>...</th>\n",
       "      <th>Emphysema</th>\n",
       "      <th>Fibrosis</th>\n",
       "      <th>Effusion</th>\n",
       "      <th>Pneumonia</th>\n",
       "      <th>Pleural_Thickening</th>\n",
       "      <th>Cardiomegaly</th>\n",
       "      <th>Nodule</th>\n",
       "      <th>Mass</th>\n",
       "      <th>Hernia</th>\n",
       "      <th>Paths</th>\n",
       "    </tr>\n",
       "  </thead>\n",
       "  <tbody>\n",
       "    <tr>\n",
       "      <th>0</th>\n",
       "      <td>00000001_000.png</td>\n",
       "      <td>[Cardiomegaly]</td>\n",
       "      <td>0</td>\n",
       "      <td>1</td>\n",
       "      <td>58</td>\n",
       "      <td>M</td>\n",
       "      <td>PA</td>\n",
       "      <td>2682</td>\n",
       "      <td>2749</td>\n",
       "      <td>0.143</td>\n",
       "      <td>...</td>\n",
       "      <td>0</td>\n",
       "      <td>0</td>\n",
       "      <td>0</td>\n",
       "      <td>0</td>\n",
       "      <td>0</td>\n",
       "      <td>1</td>\n",
       "      <td>0</td>\n",
       "      <td>0</td>\n",
       "      <td>0</td>\n",
       "      <td>/kaggle/input/data/images_001/images/00000001_000.png</td>\n",
       "    </tr>\n",
       "    <tr>\n",
       "      <th>1</th>\n",
       "      <td>00000001_001.png</td>\n",
       "      <td>[Cardiomegaly, Emphysema]</td>\n",
       "      <td>1</td>\n",
       "      <td>1</td>\n",
       "      <td>58</td>\n",
       "      <td>M</td>\n",
       "      <td>PA</td>\n",
       "      <td>2894</td>\n",
       "      <td>2729</td>\n",
       "      <td>0.143</td>\n",
       "      <td>...</td>\n",
       "      <td>1</td>\n",
       "      <td>0</td>\n",
       "      <td>0</td>\n",
       "      <td>0</td>\n",
       "      <td>0</td>\n",
       "      <td>1</td>\n",
       "      <td>0</td>\n",
       "      <td>0</td>\n",
       "      <td>0</td>\n",
       "      <td>/kaggle/input/data/images_001/images/00000001_001.png</td>\n",
       "    </tr>\n",
       "    <tr>\n",
       "      <th>2</th>\n",
       "      <td>00000001_002.png</td>\n",
       "      <td>[Cardiomegaly, Effusion]</td>\n",
       "      <td>2</td>\n",
       "      <td>1</td>\n",
       "      <td>58</td>\n",
       "      <td>M</td>\n",
       "      <td>PA</td>\n",
       "      <td>2500</td>\n",
       "      <td>2048</td>\n",
       "      <td>0.168</td>\n",
       "      <td>...</td>\n",
       "      <td>0</td>\n",
       "      <td>0</td>\n",
       "      <td>1</td>\n",
       "      <td>0</td>\n",
       "      <td>0</td>\n",
       "      <td>1</td>\n",
       "      <td>0</td>\n",
       "      <td>0</td>\n",
       "      <td>0</td>\n",
       "      <td>/kaggle/input/data/images_001/images/00000001_002.png</td>\n",
       "    </tr>\n",
       "    <tr>\n",
       "      <th>4</th>\n",
       "      <td>00000003_000.png</td>\n",
       "      <td>[Hernia]</td>\n",
       "      <td>0</td>\n",
       "      <td>3</td>\n",
       "      <td>81</td>\n",
       "      <td>F</td>\n",
       "      <td>PA</td>\n",
       "      <td>2582</td>\n",
       "      <td>2991</td>\n",
       "      <td>0.143</td>\n",
       "      <td>...</td>\n",
       "      <td>0</td>\n",
       "      <td>0</td>\n",
       "      <td>0</td>\n",
       "      <td>0</td>\n",
       "      <td>0</td>\n",
       "      <td>0</td>\n",
       "      <td>0</td>\n",
       "      <td>0</td>\n",
       "      <td>1</td>\n",
       "      <td>/kaggle/input/data/images_001/images/00000003_000.png</td>\n",
       "    </tr>\n",
       "    <tr>\n",
       "      <th>5</th>\n",
       "      <td>00000003_001.png</td>\n",
       "      <td>[Hernia]</td>\n",
       "      <td>1</td>\n",
       "      <td>3</td>\n",
       "      <td>74</td>\n",
       "      <td>F</td>\n",
       "      <td>PA</td>\n",
       "      <td>2500</td>\n",
       "      <td>2048</td>\n",
       "      <td>0.168</td>\n",
       "      <td>...</td>\n",
       "      <td>0</td>\n",
       "      <td>0</td>\n",
       "      <td>0</td>\n",
       "      <td>0</td>\n",
       "      <td>0</td>\n",
       "      <td>0</td>\n",
       "      <td>0</td>\n",
       "      <td>0</td>\n",
       "      <td>1</td>\n",
       "      <td>/kaggle/input/data/images_001/images/00000003_001.png</td>\n",
       "    </tr>\n",
       "  </tbody>\n",
       "</table>\n",
       "<p>5 rows × 27 columns</p>\n",
       "</div>"
      ],
      "text/plain": [
       "        Image_Index             Finding_Labels  Follow_Up_#  Patient_ID  \\\n",
       "0  00000001_000.png             [Cardiomegaly]            0           1   \n",
       "1  00000001_001.png  [Cardiomegaly, Emphysema]            1           1   \n",
       "2  00000001_002.png   [Cardiomegaly, Effusion]            2           1   \n",
       "4  00000003_000.png                   [Hernia]            0           3   \n",
       "5  00000003_001.png                   [Hernia]            1           3   \n",
       "\n",
       "   Patient_Age Patient_Gender View_Position  Original_Image_Width  \\\n",
       "0           58              M            PA                  2682   \n",
       "1           58              M            PA                  2894   \n",
       "2           58              M            PA                  2500   \n",
       "4           81              F            PA                  2582   \n",
       "5           74              F            PA                  2500   \n",
       "\n",
       "   Original_Image_Height  Original_Image_Pixel_Spacing_X  ...  Emphysema  \\\n",
       "0                   2749                           0.143  ...          0   \n",
       "1                   2729                           0.143  ...          1   \n",
       "2                   2048                           0.168  ...          0   \n",
       "4                   2991                           0.143  ...          0   \n",
       "5                   2048                           0.168  ...          0   \n",
       "\n",
       "   Fibrosis  Effusion  Pneumonia  Pleural_Thickening  Cardiomegaly  Nodule  \\\n",
       "0         0         0          0                   0             1       0   \n",
       "1         0         0          0                   0             1       0   \n",
       "2         0         1          0                   0             1       0   \n",
       "4         0         0          0                   0             0       0   \n",
       "5         0         0          0                   0             0       0   \n",
       "\n",
       "   Mass  Hernia                                                  Paths  \n",
       "0     0       0  /kaggle/input/data/images_001/images/00000001_000.png  \n",
       "1     0       0  /kaggle/input/data/images_001/images/00000001_001.png  \n",
       "2     0       0  /kaggle/input/data/images_001/images/00000001_002.png  \n",
       "4     0       1  /kaggle/input/data/images_001/images/00000003_000.png  \n",
       "5     0       1  /kaggle/input/data/images_001/images/00000003_001.png  \n",
       "\n",
       "[5 rows x 27 columns]"
      ]
     },
     "execution_count": 5,
     "metadata": {},
     "output_type": "execute_result"
    }
   ],
   "source": [
    "\n",
    "labels_df['Finding_Labels'] = labels_df['Finding_Labels'].apply(lambda s: [l for l in str(s).split('|')])\n",
    "\n",
    "num_glob = glob('/kaggle/input/data/*/images/*.png')\n",
    "img_path = {os.path.basename(x): x for x in num_glob}\n",
    "\n",
    "labels_df['Paths'] = labels_df['Image_Index'].map(img_path.get)\n",
    "labels_df.head()"
   ]
  },
  {
   "cell_type": "code",
   "execution_count": 6,
   "id": "43159e4e",
   "metadata": {
    "_cell_guid": "1052fa10-fd86-4042-ae7b-ec09fbba0d86",
    "_uuid": "ba306f3c-3183-4087-8143-e385f83a22df",
    "collapsed": false,
    "execution": {
     "iopub.execute_input": "2025-05-08T04:32:06.616027Z",
     "iopub.status.busy": "2025-05-08T04:32:06.615778Z",
     "iopub.status.idle": "2025-05-08T04:32:06.620634Z",
     "shell.execute_reply": "2025-05-08T04:32:06.620135Z"
    },
    "jupyter": {
     "outputs_hidden": false
    },
    "papermill": {
     "duration": 0.014343,
     "end_time": "2025-05-08T04:32:06.621532",
     "exception": false,
     "start_time": "2025-05-08T04:32:06.607189",
     "status": "completed"
    },
    "tags": []
   },
   "outputs": [
    {
     "data": {
      "text/plain": [
       "14402"
      ]
     },
     "execution_count": 6,
     "metadata": {},
     "output_type": "execute_result"
    }
   ],
   "source": [
    "unique_patients = np.unique(labels_df['Patient_ID'])\n",
    "len(unique_patients)"
   ]
  },
  {
   "cell_type": "code",
   "execution_count": 7,
   "id": "d9909fe7",
   "metadata": {
    "_cell_guid": "8ff1d9c5-1b3e-4747-8716-f0c811db89d8",
    "_uuid": "31d9e8b0-d79f-4b79-8f89-2bfaa6e7ab99",
    "collapsed": false,
    "execution": {
     "iopub.execute_input": "2025-05-08T04:32:06.638450Z",
     "iopub.status.busy": "2025-05-08T04:32:06.638275Z",
     "iopub.status.idle": "2025-05-08T04:32:06.643609Z",
     "shell.execute_reply": "2025-05-08T04:32:06.643103Z"
    },
    "jupyter": {
     "outputs_hidden": false
    },
    "papermill": {
     "duration": 0.014863,
     "end_time": "2025-05-08T04:32:06.644567",
     "exception": false,
     "start_time": "2025-05-08T04:32:06.629704",
     "status": "completed"
    },
    "tags": []
   },
   "outputs": [
    {
     "data": {
      "text/plain": [
       "11521"
      ]
     },
     "execution_count": 7,
     "metadata": {},
     "output_type": "execute_result"
    }
   ],
   "source": [
    "from sklearn.model_selection import train_test_split\n",
    "\n",
    "# train-70\n",
    "# val-10\n",
    "# test-20\n",
    "train_val_df_patients, test_df_patients = train_test_split(unique_patients, \n",
    "                                   test_size = 0.2,\n",
    "                                   random_state = SEED,\n",
    "                                    shuffle= True\n",
    "                                   )\n",
    "len(train_val_df_patients)"
   ]
  },
  {
   "cell_type": "code",
   "execution_count": 8,
   "id": "88a5b9a1",
   "metadata": {
    "_cell_guid": "dc7d2e26-3cd9-4631-9fc5-62e3b856893a",
    "_uuid": "5060ce8a-6576-434f-93f5-927f625d461a",
    "collapsed": false,
    "execution": {
     "iopub.execute_input": "2025-05-08T04:32:06.662501Z",
     "iopub.status.busy": "2025-05-08T04:32:06.662324Z",
     "iopub.status.idle": "2025-05-08T04:32:06.679116Z",
     "shell.execute_reply": "2025-05-08T04:32:06.678616Z"
    },
    "jupyter": {
     "outputs_hidden": false
    },
    "papermill": {
     "duration": 0.027495,
     "end_time": "2025-05-08T04:32:06.680168",
     "exception": false,
     "start_time": "2025-05-08T04:32:06.652673",
     "status": "completed"
    },
    "tags": []
   },
   "outputs": [],
   "source": [
    "train_val_df = labels_df[labels_df['Patient_ID'].isin(train_val_df_patients)]"
   ]
  },
  {
   "cell_type": "code",
   "execution_count": 9,
   "id": "5c0743e2",
   "metadata": {
    "_cell_guid": "47af73dc-5657-479e-9a12-cf79a4f16807",
    "_uuid": "ce4122ec-3f90-4da8-ae78-6fb3ed4921c7",
    "collapsed": false,
    "execution": {
     "iopub.execute_input": "2025-05-08T04:32:06.697825Z",
     "iopub.status.busy": "2025-05-08T04:32:06.697430Z",
     "iopub.status.idle": "2025-05-08T04:32:06.712136Z",
     "shell.execute_reply": "2025-05-08T04:32:06.711516Z"
    },
    "jupyter": {
     "outputs_hidden": false
    },
    "papermill": {
     "duration": 0.024368,
     "end_time": "2025-05-08T04:32:06.713220",
     "exception": false,
     "start_time": "2025-05-08T04:32:06.688852",
     "status": "completed"
    },
    "tags": []
   },
   "outputs": [
    {
     "data": {
      "text/html": [
       "<div>\n",
       "<style scoped>\n",
       "    .dataframe tbody tr th:only-of-type {\n",
       "        vertical-align: middle;\n",
       "    }\n",
       "\n",
       "    .dataframe tbody tr th {\n",
       "        vertical-align: top;\n",
       "    }\n",
       "\n",
       "    .dataframe thead th {\n",
       "        text-align: right;\n",
       "    }\n",
       "</style>\n",
       "<table border=\"1\" class=\"dataframe\">\n",
       "  <thead>\n",
       "    <tr style=\"text-align: right;\">\n",
       "      <th></th>\n",
       "      <th>Image_Index</th>\n",
       "      <th>Finding_Labels</th>\n",
       "      <th>Follow_Up_#</th>\n",
       "      <th>Patient_ID</th>\n",
       "      <th>Patient_Age</th>\n",
       "      <th>Patient_Gender</th>\n",
       "      <th>View_Position</th>\n",
       "      <th>Original_Image_Width</th>\n",
       "      <th>Original_Image_Height</th>\n",
       "      <th>Original_Image_Pixel_Spacing_X</th>\n",
       "      <th>...</th>\n",
       "      <th>Emphysema</th>\n",
       "      <th>Fibrosis</th>\n",
       "      <th>Effusion</th>\n",
       "      <th>Pneumonia</th>\n",
       "      <th>Pleural_Thickening</th>\n",
       "      <th>Cardiomegaly</th>\n",
       "      <th>Nodule</th>\n",
       "      <th>Mass</th>\n",
       "      <th>Hernia</th>\n",
       "      <th>Paths</th>\n",
       "    </tr>\n",
       "  </thead>\n",
       "  <tbody>\n",
       "    <tr>\n",
       "      <th>0</th>\n",
       "      <td>00000001_000.png</td>\n",
       "      <td>[Cardiomegaly]</td>\n",
       "      <td>0</td>\n",
       "      <td>1</td>\n",
       "      <td>58</td>\n",
       "      <td>M</td>\n",
       "      <td>PA</td>\n",
       "      <td>2682</td>\n",
       "      <td>2749</td>\n",
       "      <td>0.143</td>\n",
       "      <td>...</td>\n",
       "      <td>0</td>\n",
       "      <td>0</td>\n",
       "      <td>0</td>\n",
       "      <td>0</td>\n",
       "      <td>0</td>\n",
       "      <td>1</td>\n",
       "      <td>0</td>\n",
       "      <td>0</td>\n",
       "      <td>0</td>\n",
       "      <td>/kaggle/input/data/images_001/images/00000001_000.png</td>\n",
       "    </tr>\n",
       "    <tr>\n",
       "      <th>1</th>\n",
       "      <td>00000001_001.png</td>\n",
       "      <td>[Cardiomegaly, Emphysema]</td>\n",
       "      <td>1</td>\n",
       "      <td>1</td>\n",
       "      <td>58</td>\n",
       "      <td>M</td>\n",
       "      <td>PA</td>\n",
       "      <td>2894</td>\n",
       "      <td>2729</td>\n",
       "      <td>0.143</td>\n",
       "      <td>...</td>\n",
       "      <td>1</td>\n",
       "      <td>0</td>\n",
       "      <td>0</td>\n",
       "      <td>0</td>\n",
       "      <td>0</td>\n",
       "      <td>1</td>\n",
       "      <td>0</td>\n",
       "      <td>0</td>\n",
       "      <td>0</td>\n",
       "      <td>/kaggle/input/data/images_001/images/00000001_001.png</td>\n",
       "    </tr>\n",
       "    <tr>\n",
       "      <th>2</th>\n",
       "      <td>00000001_002.png</td>\n",
       "      <td>[Cardiomegaly, Effusion]</td>\n",
       "      <td>2</td>\n",
       "      <td>1</td>\n",
       "      <td>58</td>\n",
       "      <td>M</td>\n",
       "      <td>PA</td>\n",
       "      <td>2500</td>\n",
       "      <td>2048</td>\n",
       "      <td>0.168</td>\n",
       "      <td>...</td>\n",
       "      <td>0</td>\n",
       "      <td>0</td>\n",
       "      <td>1</td>\n",
       "      <td>0</td>\n",
       "      <td>0</td>\n",
       "      <td>1</td>\n",
       "      <td>0</td>\n",
       "      <td>0</td>\n",
       "      <td>0</td>\n",
       "      <td>/kaggle/input/data/images_001/images/00000001_002.png</td>\n",
       "    </tr>\n",
       "    <tr>\n",
       "      <th>12</th>\n",
       "      <td>00000004_000.png</td>\n",
       "      <td>[Mass, Nodule]</td>\n",
       "      <td>0</td>\n",
       "      <td>4</td>\n",
       "      <td>82</td>\n",
       "      <td>M</td>\n",
       "      <td>AP</td>\n",
       "      <td>2500</td>\n",
       "      <td>2048</td>\n",
       "      <td>0.168</td>\n",
       "      <td>...</td>\n",
       "      <td>0</td>\n",
       "      <td>0</td>\n",
       "      <td>0</td>\n",
       "      <td>0</td>\n",
       "      <td>0</td>\n",
       "      <td>0</td>\n",
       "      <td>1</td>\n",
       "      <td>1</td>\n",
       "      <td>0</td>\n",
       "      <td>/kaggle/input/data/images_001/images/00000004_000.png</td>\n",
       "    </tr>\n",
       "    <tr>\n",
       "      <th>19</th>\n",
       "      <td>00000005_006.png</td>\n",
       "      <td>[Infiltration]</td>\n",
       "      <td>6</td>\n",
       "      <td>5</td>\n",
       "      <td>70</td>\n",
       "      <td>F</td>\n",
       "      <td>PA</td>\n",
       "      <td>2992</td>\n",
       "      <td>2991</td>\n",
       "      <td>0.143</td>\n",
       "      <td>...</td>\n",
       "      <td>0</td>\n",
       "      <td>0</td>\n",
       "      <td>0</td>\n",
       "      <td>0</td>\n",
       "      <td>0</td>\n",
       "      <td>0</td>\n",
       "      <td>0</td>\n",
       "      <td>0</td>\n",
       "      <td>0</td>\n",
       "      <td>/kaggle/input/data/images_001/images/00000005_006.png</td>\n",
       "    </tr>\n",
       "  </tbody>\n",
       "</table>\n",
       "<p>5 rows × 27 columns</p>\n",
       "</div>"
      ],
      "text/plain": [
       "         Image_Index             Finding_Labels  Follow_Up_#  Patient_ID  \\\n",
       "0   00000001_000.png             [Cardiomegaly]            0           1   \n",
       "1   00000001_001.png  [Cardiomegaly, Emphysema]            1           1   \n",
       "2   00000001_002.png   [Cardiomegaly, Effusion]            2           1   \n",
       "12  00000004_000.png             [Mass, Nodule]            0           4   \n",
       "19  00000005_006.png             [Infiltration]            6           5   \n",
       "\n",
       "    Patient_Age Patient_Gender View_Position  Original_Image_Width  \\\n",
       "0            58              M            PA                  2682   \n",
       "1            58              M            PA                  2894   \n",
       "2            58              M            PA                  2500   \n",
       "12           82              M            AP                  2500   \n",
       "19           70              F            PA                  2992   \n",
       "\n",
       "    Original_Image_Height  Original_Image_Pixel_Spacing_X  ...  Emphysema  \\\n",
       "0                    2749                           0.143  ...          0   \n",
       "1                    2729                           0.143  ...          1   \n",
       "2                    2048                           0.168  ...          0   \n",
       "12                   2048                           0.168  ...          0   \n",
       "19                   2991                           0.143  ...          0   \n",
       "\n",
       "    Fibrosis  Effusion  Pneumonia  Pleural_Thickening  Cardiomegaly  Nodule  \\\n",
       "0          0         0          0                   0             1       0   \n",
       "1          0         0          0                   0             1       0   \n",
       "2          0         1          0                   0             1       0   \n",
       "12         0         0          0                   0             0       1   \n",
       "19         0         0          0                   0             0       0   \n",
       "\n",
       "    Mass  Hernia                                                  Paths  \n",
       "0      0       0  /kaggle/input/data/images_001/images/00000001_000.png  \n",
       "1      0       0  /kaggle/input/data/images_001/images/00000001_001.png  \n",
       "2      0       0  /kaggle/input/data/images_001/images/00000001_002.png  \n",
       "12     1       0  /kaggle/input/data/images_001/images/00000004_000.png  \n",
       "19     0       0  /kaggle/input/data/images_001/images/00000005_006.png  \n",
       "\n",
       "[5 rows x 27 columns]"
      ]
     },
     "execution_count": 9,
     "metadata": {},
     "output_type": "execute_result"
    }
   ],
   "source": [
    "train_val_df.head()"
   ]
  },
  {
   "cell_type": "code",
   "execution_count": 10,
   "id": "c80d9284",
   "metadata": {
    "_cell_guid": "1f8001a9-76cc-47ad-82af-9402d77c6173",
    "_uuid": "d01adf34-18c5-49af-b3b5-338879c7cb31",
    "collapsed": false,
    "execution": {
     "iopub.execute_input": "2025-05-08T04:32:06.730784Z",
     "iopub.status.busy": "2025-05-08T04:32:06.730614Z",
     "iopub.status.idle": "2025-05-08T04:32:06.734335Z",
     "shell.execute_reply": "2025-05-08T04:32:06.733711Z"
    },
    "jupyter": {
     "outputs_hidden": false
    },
    "papermill": {
     "duration": 0.01328,
     "end_time": "2025-05-08T04:32:06.735320",
     "exception": false,
     "start_time": "2025-05-08T04:32:06.722040",
     "status": "completed"
    },
    "tags": []
   },
   "outputs": [
    {
     "name": "stdout",
     "output_type": "stream",
     "text": [
      "train_val size 41721\n",
      "test size 10038\n"
     ]
    }
   ],
   "source": [
    "labels_df.shape\n",
    "print('train_val size', train_val_df.shape[0])\n",
    "print('test size', labels_df.shape[0] - train_val_df.shape[0])"
   ]
  },
  {
   "cell_type": "markdown",
   "id": "9bf319c1",
   "metadata": {
    "papermill": {
     "duration": 0.010152,
     "end_time": "2025-05-08T04:32:06.753743",
     "exception": false,
     "start_time": "2025-05-08T04:32:06.743591",
     "status": "completed"
    },
    "tags": []
   },
   "source": [
    "# Data builder"
   ]
  },
  {
   "cell_type": "code",
   "execution_count": 11,
   "id": "1521ad70",
   "metadata": {
    "_cell_guid": "a56c961f-a443-4ae9-8f9a-a52be3e90b99",
    "_uuid": "db273220-b8dd-4b32-b257-3e4f2a5f8cfa",
    "collapsed": false,
    "execution": {
     "iopub.execute_input": "2025-05-08T04:32:06.771036Z",
     "iopub.status.busy": "2025-05-08T04:32:06.770827Z",
     "iopub.status.idle": "2025-05-08T04:32:08.060050Z",
     "shell.execute_reply": "2025-05-08T04:32:08.059471Z"
    },
    "jupyter": {
     "outputs_hidden": false
    },
    "papermill": {
     "duration": 1.29927,
     "end_time": "2025-05-08T04:32:08.061327",
     "exception": false,
     "start_time": "2025-05-08T04:32:06.762057",
     "status": "completed"
    },
    "tags": []
   },
   "outputs": [],
   "source": [
    "item_transforms = [\n",
    "    Resize((224, 224)),\n",
    "]\n",
    "\n",
    "batch_transforms = [\n",
    "    Flip(),\n",
    "    Rotate(),\n",
    "    Normalize.from_stats(*imagenet_stats),\n",
    "]\n",
    "\n",
    "\n",
    "def get_x(row):\n",
    "    return row['Paths']\n",
    "\n",
    "def get_y(row):\n",
    "    labels = row[disease_labels].tolist()\n",
    "    return labels\n",
    "\n",
    "dblock = DataBlock(\n",
    "    blocks=(ImageBlock, MultiCategoryBlock(encoded=True,vocab=disease_labels)),\n",
    "                   splitter=RandomSplitter(valid_pct=0.125, seed=SEED),\n",
    "                   get_x=get_x,\n",
    "                   get_y=get_y,\n",
    "                   item_tfms=item_transforms,\n",
    "                   batch_tfms=batch_transforms\n",
    "                  )\n",
    "dls = dblock.dataloaders(train_val_df, bs=64)\n",
    "# print(dblock.datasets(train_val_merge).train)"
   ]
  },
  {
   "cell_type": "markdown",
   "id": "793d0ea3",
   "metadata": {
    "papermill": {
     "duration": 0.008413,
     "end_time": "2025-05-08T04:32:08.078738",
     "exception": false,
     "start_time": "2025-05-08T04:32:08.070325",
     "status": "completed"
    },
    "tags": []
   },
   "source": [
    "# Model"
   ]
  },
  {
   "cell_type": "code",
   "execution_count": 12,
   "id": "0b8e3480",
   "metadata": {
    "execution": {
     "iopub.execute_input": "2025-05-08T04:32:08.096913Z",
     "iopub.status.busy": "2025-05-08T04:32:08.096692Z",
     "iopub.status.idle": "2025-05-08T04:32:08.121898Z",
     "shell.execute_reply": "2025-05-08T04:32:08.121224Z"
    },
    "papermill": {
     "duration": 0.035905,
     "end_time": "2025-05-08T04:32:08.123072",
     "exception": false,
     "start_time": "2025-05-08T04:32:08.087167",
     "status": "completed"
    },
    "tags": []
   },
   "outputs": [],
   "source": [
    "import torch\n",
    "import torch.nn as nn\n",
    "import torchvision.models as models\n",
    "from torch.nn import functional as F\n",
    "from copy import deepcopy\n",
    "\n",
    "# Configuration block for all parameters\n",
    "class ModelConfig:\n",
    "    # Momentum Encoder parameters\n",
    "    MOMENTUM = 0.9999\n",
    "    \n",
    "    # Spatial Attention parameters\n",
    "    ATTENTION_REDUCTION = 8\n",
    "    \n",
    "    # Memory Bank parameters\n",
    "    BANK_SIZE = 512\n",
    "    RARITY_THRESHOLD = 0.2\n",
    "    RETRIEVAL_K = 3\n",
    "    \n",
    "    # Model architecture parameters\n",
    "    DROPOUT_RATE = 0.3\n",
    "    HIDDEN_DIM = 512\n",
    "    \n",
    "    @staticmethod\n",
    "    def get_feature_dim(model_name):\n",
    "        if model_name == 'resnet50':\n",
    "            return 2048\n",
    "        elif model_name == 'densenet121':\n",
    "            return 1024\n",
    "        elif model_name in ['efficientnet_b0', 'efficientnet_b1']:\n",
    "            # This is a placeholder - actual value is determined at runtime\n",
    "            return None\n",
    "        else:\n",
    "            raise ValueError(f\"Model {model_name} not supported\")\n",
    "\n",
    "# Momentum Encoder: Simplified to final block copy\n",
    "class MomentumFinalBlock(nn.Module):\n",
    "    def __init__(self, final_block, momentum=None):\n",
    "        super(MomentumFinalBlock, self).__init__()\n",
    "        self.momentum = momentum if momentum is not None else ModelConfig.MOMENTUM\n",
    "        self.final_block = deepcopy(final_block)\n",
    "        for param in self.final_block.parameters():\n",
    "            param.requires_grad = False\n",
    "\n",
    "    def forward(self, x):\n",
    "        return self.final_block(x)\n",
    "\n",
    "    def update(self, main_final_block):\n",
    "        for param_q, param_k in zip(main_final_block.parameters(), self.final_block.parameters()):\n",
    "            param_k.data = param_k.data * self.momentum + param_q.data * (1. - self.momentum)\n",
    "\n",
    "# Spatial Attention: Lightweight ROI selection\n",
    "class SpatialAttention(nn.Module):\n",
    "    def __init__(self, in_channels, reduction=None):\n",
    "        super(SpatialAttention, self).__init__()\n",
    "        reduction = reduction if reduction is not None else ModelConfig.ATTENTION_REDUCTION\n",
    "        reduced_channels = max(in_channels // reduction, 8)\n",
    "        \n",
    "        self.conv1 = nn.Conv2d(in_channels, reduced_channels, kernel_size=1)\n",
    "        self.conv3 = nn.Conv2d(in_channels, reduced_channels, kernel_size=3, padding=1)\n",
    "        self.conv5 = nn.Conv2d(in_channels, reduced_channels, kernel_size=5, padding=2)\n",
    "        \n",
    "        self.spatial_att = nn.Sequential(\n",
    "            nn.Conv2d(reduced_channels * 3, 1, kernel_size=1),\n",
    "            nn.Sigmoid()\n",
    "        )\n",
    "\n",
    "    def forward(self, x):\n",
    "        f1 = self.conv1(x)\n",
    "        f3 = self.conv3(x)\n",
    "        f5 = self.conv5(x)\n",
    "        \n",
    "        features = torch.cat([f1, f3, f5], dim=1)\n",
    "        attention = self.spatial_att(features)  # [batch_size, 1, H, W]\n",
    "        return attention\n",
    "\n",
    "# Memory Bank: Store rare/important features\n",
    "class MemoryBank(nn.Module):\n",
    "    def __init__(self, feature_dim, bank_size=None, rarity_threshold=None):\n",
    "        super(MemoryBank, self).__init__()\n",
    "        self.feature_dim = feature_dim\n",
    "        self.bank_size = bank_size if bank_size is not None else ModelConfig.BANK_SIZE\n",
    "        self.rarity_threshold = rarity_threshold if rarity_threshold is not None else ModelConfig.RARITY_THRESHOLD\n",
    "        \n",
    "        self.register_buffer('memory', torch.zeros(self.bank_size, feature_dim))\n",
    "        self.register_buffer('index', torch.tensor(0))\n",
    "\n",
    "    def update(self, features, rarity_scores):\n",
    "        batch_size = features.size(0)\n",
    "        mask = rarity_scores < self.rarity_threshold\n",
    "        rare_features = features[mask]\n",
    "        \n",
    "        if rare_features.size(0) > 0:\n",
    "            num_to_add = min(rare_features.size(0), self.bank_size - self.index.item())\n",
    "            if num_to_add > 0:\n",
    "                self.memory[self.index:self.index + num_to_add] = rare_features[:num_to_add]\n",
    "                self.index = (self.index + num_to_add) % self.bank_size\n",
    "\n",
    "    def retrieve(self, query, k=None):\n",
    "        k = k if k is not None else ModelConfig.RETRIEVAL_K\n",
    "        valid_memory = self.memory\n",
    "        if valid_memory.size(0) == 0:\n",
    "            return torch.zeros_like(query)\n",
    "        \n",
    "        norm_query = F.normalize(query, dim=1)\n",
    "        norm_memory = F.normalize(valid_memory, dim=1)\n",
    "        similarity = torch.matmul(norm_query, norm_memory.T)\n",
    "        \n",
    "        # Create a mask for entries where similarity != 1\n",
    "        mask = similarity != 1.0\n",
    "        \n",
    "        k = min(k, valid_memory.size(0))\n",
    "        \n",
    "        # Initialize containers for results\n",
    "        batch_size = query.size(0)\n",
    "        result = torch.zeros_like(query)\n",
    "        \n",
    "        for i in range(batch_size):\n",
    "            # Get indices where similarity is not 1 for this query\n",
    "            valid_indices = torch.where(mask[i])[0]\n",
    "            \n",
    "            if len(valid_indices) == 0:\n",
    "                # If all memories have similarity=1, just return zeros\n",
    "                continue\n",
    "            \n",
    "            # Get similarities only for valid indices\n",
    "            valid_similarities = similarity[i, valid_indices]\n",
    "            \n",
    "            # Get top-k among valid similarities\n",
    "            k_valid = min(k, valid_similarities.size(0))\n",
    "            weights, rel_indices = valid_similarities.topk(k_valid)\n",
    "            \n",
    "            # Convert relative indices to absolute indices\n",
    "            abs_indices = valid_indices[rel_indices]\n",
    "            \n",
    "            # Get features for these indices\n",
    "            retrieved = valid_memory[abs_indices]\n",
    "            \n",
    "            # Apply weights\n",
    "            weights = weights.unsqueeze(1).expand_as(retrieved)\n",
    "            weighted_features = (retrieved * weights).sum(dim=0)\n",
    "            \n",
    "            result[i] = weighted_features\n",
    "            \n",
    "        return result\n",
    "\n",
    "# Main Model\n",
    "class ChestXrayModel(nn.Module):\n",
    "    def __init__(self, num_classes, model_name='efficientnet_b0', config=None):\n",
    "        super(ChestXrayModel, self).__init__()\n",
    "        \n",
    "        # Use provided config or the default ModelConfig\n",
    "        self.config = config if config is not None else ModelConfig\n",
    "        \n",
    "        # Backbone and Final Block\n",
    "        if model_name == 'resnet50':\n",
    "            self.base_model = models.resnet50(pretrained=True)\n",
    "            self.backbone = nn.Sequential(\n",
    "                self.base_model.conv1, self.base_model.bn1, self.base_model.relu,\n",
    "                self.base_model.maxpool, self.base_model.layer1, self.base_model.layer2,\n",
    "                self.base_model.layer3\n",
    "            )\n",
    "            self.final_block = self.base_model.layer4\n",
    "            self.feature_dim = 2048\n",
    "        elif model_name == 'densenet121':\n",
    "            self.base_model = models.densenet121(pretrained=True)\n",
    "            features = list(self.base_model.features.children())\n",
    "            self.backbone = nn.Sequential(*features[:-1])\n",
    "            self.final_block = nn.Sequential(features[-1])\n",
    "            self.feature_dim = 1024\n",
    "        elif model_name in ['efficientnet_b0', 'efficientnet_b1']:\n",
    "            self.base_model = models.efficientnet_v2_s(pretrained=True) if model_name == 'efficientnet_b0' else models.efficientnet_b1(pretrained=True)\n",
    "            features = list(self.base_model.features)\n",
    "            self.backbone = nn.Sequential(*features[:-1])\n",
    "            self.final_block = nn.Sequential(features[-1])\n",
    "            self.feature_dim = self.base_model.features[-1][0].out_channels\n",
    "        else:\n",
    "            raise ValueError(f\"Model {model_name} not supported\")\n",
    "\n",
    "        self.base_model.fc = nn.Identity() if hasattr(self.base_model, 'fc') else None\n",
    "        self.base_model.classifier = nn.Identity() if hasattr(self.base_model, 'classifier') else None\n",
    "\n",
    "        # Momentum Encoder\n",
    "        self.momentum_final_block = MomentumFinalBlock(self.final_block, momentum=self.config.MOMENTUM)\n",
    "\n",
    "        # Spatial Attention\n",
    "        self.spatial_attention = SpatialAttention(self.feature_dim, reduction=self.config.ATTENTION_REDUCTION)\n",
    "\n",
    "        # Memory Bank\n",
    "        self.memory_bank = MemoryBank(\n",
    "            self.feature_dim, \n",
    "            bank_size=self.config.BANK_SIZE, \n",
    "            rarity_threshold=self.config.RARITY_THRESHOLD\n",
    "        )\n",
    "\n",
    "        # Classifier\n",
    "        self.classifier = nn.Sequential(\n",
    "            nn.BatchNorm1d(self.feature_dim),\n",
    "            nn.Linear(self.feature_dim, self.config.HIDDEN_DIM),\n",
    "            nn.ReLU(),\n",
    "            nn.Dropout(self.config.DROPOUT_RATE),\n",
    "            nn.Linear(self.config.HIDDEN_DIM, num_classes)\n",
    "        )\n",
    "        self.model_name = model_name\n",
    "\n",
    "    def forward(self, x):\n",
    "        # Extract features\n",
    "        backbone_features = self.backbone(x)\n",
    "        main_features = self.final_block(backbone_features)\n",
    "        with torch.no_grad():\n",
    "            momentum_features = self.momentum_final_block(backbone_features)\n",
    "\n",
    "        # Spatial attention and ROI extraction\n",
    "        attention_map = self.spatial_attention(main_features)\n",
    "        roi_features = main_features * attention_map\n",
    "        roi_pooled = F.adaptive_avg_pool2d(roi_features, (1, 1)).flatten(1)\n",
    "\n",
    "        # Momentum features\n",
    "        momentum_pooled = F.adaptive_avg_pool2d(momentum_features, (1, 1)).flatten(1)\n",
    "\n",
    "        # Combine ROI and momentum features (simple addition)\n",
    "        fused_features = roi_pooled + momentum_pooled\n",
    "\n",
    "        # Update and retrieve from memory bank\n",
    "        if self.training:\n",
    "            mean_norm = torch.mean(torch.norm(fused_features, dim=1))\n",
    "            rarity_scores = torch.abs(torch.norm(fused_features, dim=1) - mean_norm) / mean_norm\n",
    "            self.memory_bank.update(fused_features.detach(), rarity_scores)\n",
    "        \n",
    "        memory_features = self.memory_bank.retrieve(fused_features, k=self.config.RETRIEVAL_K)\n",
    "        enhanced_features = fused_features + memory_features\n",
    "\n",
    "        # Classification\n",
    "        out = self.classifier(enhanced_features)\n",
    "\n",
    "        # Update momentum encoder during training\n",
    "        if self.training:\n",
    "             self.momentum_final_block.update(self.final_block)\n",
    "\n",
    "        return out\n",
    "\n"
   ]
  },
  {
   "cell_type": "markdown",
   "id": "f42bb0ec",
   "metadata": {
    "papermill": {
     "duration": 0.008385,
     "end_time": "2025-05-08T04:32:08.139805",
     "exception": false,
     "start_time": "2025-05-08T04:32:08.131420",
     "status": "completed"
    },
    "tags": []
   },
   "source": [
    "# Train Script"
   ]
  },
  {
   "cell_type": "code",
   "execution_count": 13,
   "id": "59d8feda",
   "metadata": {
    "execution": {
     "iopub.execute_input": "2025-05-08T04:32:08.204466Z",
     "iopub.status.busy": "2025-05-08T04:32:08.204226Z",
     "iopub.status.idle": "2025-05-08T04:32:08.220092Z",
     "shell.execute_reply": "2025-05-08T04:32:08.219410Z"
    },
    "papermill": {
     "duration": 0.026925,
     "end_time": "2025-05-08T04:32:08.221225",
     "exception": false,
     "start_time": "2025-05-08T04:32:08.194300",
     "status": "completed"
    },
    "tags": []
   },
   "outputs": [],
   "source": [
    "from fastai.vision.all import *\n",
    "import torch.nn as nn\n",
    "import torch\n",
    "import torchvision.models as models\n",
    "from copy import deepcopy\n",
    "\n",
    "# Focal Loss Implementation\n",
    "class FocalLoss(nn.Module):\n",
    "    def __init__(self, alpha=1, gamma=2, reduction='mean'):\n",
    "        \"\"\"\n",
    "        Focal Loss to address class imbalance and hard sample mining\n",
    "        \n",
    "        Args:\n",
    "            alpha (float): Weighting factor for positive samples\n",
    "            gamma (float): Focusing parameter\n",
    "            reduction (str): Reduction method ('mean', 'sum', or 'none')\n",
    "        \"\"\"\n",
    "        super(FocalLoss, self).__init__()\n",
    "        self.alpha = alpha\n",
    "        self.gamma = gamma\n",
    "        self.reduction = reduction\n",
    "\n",
    "    def forward(self, inputs, targets):\n",
    "        \"\"\"\n",
    "        Compute focal loss\n",
    "        \n",
    "        Args:\n",
    "            inputs (torch.Tensor): Model predictions (logits)\n",
    "            targets (torch.Tensor): Ground truth labels\n",
    "        \n",
    "        Returns:\n",
    "            torch.Tensor: Computed loss\n",
    "        \"\"\"\n",
    "        # Apply sigmoid to convert logits to probabilities\n",
    "        BCE_loss = F.binary_cross_entropy_with_logits(inputs, targets, reduction='none')\n",
    "        \n",
    "        # Focal Loss modification\n",
    "        pt = torch.exp(-BCE_loss)\n",
    "        F_loss = self.alpha * (1-pt)**self.gamma * BCE_loss\n",
    "        \n",
    "        if self.reduction == 'mean':\n",
    "            return torch.mean(F_loss)\n",
    "        elif self.reduction == 'sum':\n",
    "            return torch.sum(F_loss)\n",
    "        else:\n",
    "            return F_loss\n",
    "\n",
    "# Asymmetric Loss Implementation\n",
    "class AsymmetricLoss(nn.Module):\n",
    "    def __init__(self, gamma_neg=4, gamma_pos=1, clip=0.05, eps=1e-8, reduction='mean'):\n",
    "        \"\"\"\n",
    "        Asymmetric Loss to handle class imbalance and hard negative mining\n",
    "        \n",
    "        Args:\n",
    "            gamma_neg (float): Focusing parameter for negative samples\n",
    "            gamma_pos (float): Focusing parameter for positive samples\n",
    "            clip (float): Clip the predictions to prevent extreme values\n",
    "            eps (float): Small epsilon to prevent log(0)\n",
    "            reduction (str): Reduction method ('mean', 'sum', or 'none')\n",
    "        \"\"\"\n",
    "        super(AsymmetricLoss, self).__init__()\n",
    "        self.gamma_neg = gamma_neg\n",
    "        self.gamma_pos = gamma_pos\n",
    "        self.clip = clip\n",
    "        self.eps = eps\n",
    "        self.reduction = reduction\n",
    "\n",
    "    def forward(self, x, y):\n",
    "        \"\"\"\n",
    "        Compute asymmetric loss\n",
    "        \n",
    "        Args:\n",
    "            x (torch.Tensor): Model predictions (logits)\n",
    "            y (torch.Tensor): Ground truth labels\n",
    "        \n",
    "        Returns:\n",
    "            torch.Tensor: Computed loss\n",
    "        \"\"\"\n",
    "        # Convert to probabilities\n",
    "        x_sigmoid = torch.sigmoid(x)\n",
    "        \n",
    "        # Clip predictions to prevent extreme values\n",
    "        xs_min = x_sigmoid.clamp(min=self.eps)\n",
    "        xs_max = x_sigmoid.clamp(max=1-self.eps)\n",
    "        \n",
    "        # Asymmetric term for positive and negative samples\n",
    "        loss_pos = -y * torch.log(xs_min) * torch.pow(1 - xs_min, self.gamma_pos)\n",
    "        loss_neg = -(1 - y) * torch.log(1 - xs_max) * torch.pow(xs_max, self.gamma_neg)\n",
    "        \n",
    "        loss = loss_pos + loss_neg\n",
    "        \n",
    "        if self.reduction == 'mean':\n",
    "            return torch.mean(loss)\n",
    "        elif self.reduction == 'sum':\n",
    "            return torch.sum(loss)\n",
    "        else:\n",
    "            return loss\n",
    "\n",
    "# Create a custom fastai Learner for ChestXrayModel\n",
    "def create_fastai_learner(\n",
    "    dls,                            # DataLoaders object\n",
    "    num_classes=14,                 # Number of output classes\n",
    "    lr=1e-4,                        # Learning rate\n",
    "    momentum=0.9,                   # Momentum for the momentum encoder (aligned with model)\n",
    "    dropout_rate=0.3,               # Dropout rate for classifier\n",
    "    mixup=False,                    # Whether to use mixup augmentation\n",
    "    wd=1e-2,                        # Weight decay\n",
    "    model=None,                     # Pass a pre-instantiated model if you have one\n",
    "    cbs=None,                       # Additional callbacks\n",
    "    warmup_epochs=0,                # Number of warm-up epochs for momentum encoder\n",
    "    loss_type='focal',              # Loss type: 'focal' or 'asymmetric'\n",
    "    focal_alpha=1,                  # Focal loss alpha parameter\n",
    "    focal_gamma=2,                  # Focal loss gamma parameter\n",
    "    asymmetric_gamma_neg=4,         # Asymmetric loss gamma for negative samples\n",
    "    asymmetric_gamma_pos=1          # Asymmetric loss gamma for positive samples\n",
    "):\n",
    "    # Create model if not provided\n",
    "    if model is None:\n",
    "        model = ChestXrayModel(\n",
    "            num_classes=num_classes\n",
    "        )\n",
    "    \n",
    "    # Register a custom callback to update momentum encoder with warm-up\n",
    "    class MomentumUpdateCallback(Callback):\n",
    "        def __init__(self, warmup_epochs):\n",
    "            super().__init__()\n",
    "            self.warmup_epochs = warmup_epochs\n",
    "        \n",
    "        def after_batch(self):\n",
    "            if hasattr(self.learn.model, 'momentum_final_block'):\n",
    "                # Apply warm-up during the first few epochs\n",
    "                is_warmup = self.learn.epoch < self.warmup_epochs\n",
    "                self.learn.model.momentum_final_block.update(\n",
    "                    self.learn.model.final_block, warmup=is_warmup\n",
    "                )\n",
    "    \n",
    "    # Define a custom loss function with multiple loss options\n",
    "    class ChestXrayLoss(Module):\n",
    "        def __init__(self, loss_type, **kwargs):\n",
    "            super().__init__()\n",
    "            if loss_type == 'focal':\n",
    "                self.loss = FocalLoss(\n",
    "                    #alpha=kwargs.get('focal_alpha', 1),\n",
    "                    #gamma=kwargs.get('focal_gamma', 2)\n",
    "                )\n",
    "            elif loss_type == 'asymmetric':\n",
    "                self.loss = AsymmetricLoss(\n",
    "                    gamma_neg=kwargs.get('asymmetric_gamma_neg', 4),\n",
    "                    gamma_pos=kwargs.get('asymmetric_gamma_pos', 1)\n",
    "                )\n",
    "            elif loss_type == 'bce':\n",
    "                self.loss = nn.BCEWithLogitsLoss()\n",
    "            else:\n",
    "                raise ValueError(f\"Unsupported loss type: {loss_type}\")\n",
    "        \n",
    "        def forward(self, preds, targets):\n",
    "            return self.loss(preds, targets)\n",
    "    \n",
    "    # Prepare default callbacks\n",
    "    default_cbs = [\n",
    "        MomentumUpdateCallback(warmup_epochs),  # Custom callback with warm-up\n",
    "        SaveModelCallback(monitor='valid_loss'),  # Save best model\n",
    "        EarlyStoppingCallback(monitor='valid_loss', patience=3)  # Early stopping\n",
    "    ]\n",
    "    \n",
    "    # Add user-specified callbacks\n",
    "    if cbs is not None:\n",
    "        if isinstance(cbs, list):\n",
    "            default_cbs.extend(cbs)\n",
    "        else:\n",
    "            default_cbs.append(cbs)\n",
    "    \n",
    "    # Create the learner with custom model and loss\n",
    "    learn = Learner(\n",
    "        dls, \n",
    "        model, \n",
    "        loss_func=ChestXrayLoss(\n",
    "            loss_type=loss_type, \n",
    "            focal_alpha=focal_alpha, \n",
    "            focal_gamma=focal_gamma,\n",
    "            asymmetric_gamma_neg=asymmetric_gamma_neg,\n",
    "            asymmetric_gamma_pos=asymmetric_gamma_pos\n",
    "        ),\n",
    "        metrics=[accuracy_multi, F1ScoreMulti(), RocAucMulti()],  # Multi-label metrics\n",
    "        wd=wd,\n",
    "        cbs=default_cbs\n",
    "    )\n",
    "    \n",
    "    # Modify the model's forward method to work with fastai's expectations\n",
    "    class ModelWrapper(nn.Module):\n",
    "        def __init__(self, model):\n",
    "            super().__init__()\n",
    "            self.model = model\n",
    "        \n",
    "        def forward(self, x):\n",
    "            return self.model(x)  # Model returns only class predictions\n",
    "    \n",
    "    # Wrap the model\n",
    "    learn.model = ModelWrapper(learn.model)\n",
    "    \n",
    "    # Enable mixed precision training if available\n",
    "    learn.to_fp16()\n",
    "    \n",
    "    # Add mixup if requested (suitable for multi-label with BCE)\n",
    "    if mixup:\n",
    "        learn.add_cb(MixUp())\n",
    "    \n",
    "    # Add a progress bar callback for better training visualization\n",
    "    learn.add_cb(ProgressCallback())\n",
    "    \n",
    "    # Add CSV logger to track metrics\n",
    "    learn.add_cb(CSVLogger())\n",
    "    \n",
    "    return learn"
   ]
  },
  {
   "cell_type": "markdown",
   "id": "0e6f265c",
   "metadata": {
    "papermill": {
     "duration": 0.00833,
     "end_time": "2025-05-08T04:32:08.238113",
     "exception": false,
     "start_time": "2025-05-08T04:32:08.229783",
     "status": "completed"
    },
    "tags": []
   },
   "source": [
    "# Stage 2"
   ]
  },
  {
   "cell_type": "code",
   "execution_count": 14,
   "id": "6990b567",
   "metadata": {
    "execution": {
     "iopub.execute_input": "2025-05-08T04:32:08.255749Z",
     "iopub.status.busy": "2025-05-08T04:32:08.255521Z",
     "iopub.status.idle": "2025-05-08T04:32:08.258938Z",
     "shell.execute_reply": "2025-05-08T04:32:08.258431Z"
    },
    "papermill": {
     "duration": 0.013554,
     "end_time": "2025-05-08T04:32:08.259957",
     "exception": false,
     "start_time": "2025-05-08T04:32:08.246403",
     "status": "completed"
    },
    "tags": []
   },
   "outputs": [],
   "source": [
    "import fastai\n",
    "from fastai.vision.all import *\n",
    "from tqdm import tqdm\n",
    "from glob import glob"
   ]
  },
  {
   "cell_type": "code",
   "execution_count": 15,
   "id": "721cc768",
   "metadata": {
    "execution": {
     "iopub.execute_input": "2025-05-08T04:32:08.277318Z",
     "iopub.status.busy": "2025-05-08T04:32:08.277142Z",
     "iopub.status.idle": "2025-05-08T04:32:09.726465Z",
     "shell.execute_reply": "2025-05-08T04:32:09.725644Z"
    },
    "papermill": {
     "duration": 1.459595,
     "end_time": "2025-05-08T04:32:09.727885",
     "exception": false,
     "start_time": "2025-05-08T04:32:08.268290",
     "status": "completed"
    },
    "tags": []
   },
   "outputs": [
    {
     "name": "stderr",
     "output_type": "stream",
     "text": [
      "100%|██████████| 14/14 [00:00<00:00, 28.15it/s]\n"
     ]
    },
    {
     "data": {
      "text/html": [
       "<div>\n",
       "<style scoped>\n",
       "    .dataframe tbody tr th:only-of-type {\n",
       "        vertical-align: middle;\n",
       "    }\n",
       "\n",
       "    .dataframe tbody tr th {\n",
       "        vertical-align: top;\n",
       "    }\n",
       "\n",
       "    .dataframe thead th {\n",
       "        text-align: right;\n",
       "    }\n",
       "</style>\n",
       "<table border=\"1\" class=\"dataframe\">\n",
       "  <thead>\n",
       "    <tr style=\"text-align: right;\">\n",
       "      <th></th>\n",
       "      <th>Image_Index</th>\n",
       "      <th>Finding_Labels</th>\n",
       "      <th>Follow_Up_#</th>\n",
       "      <th>Patient_ID</th>\n",
       "      <th>Patient_Age</th>\n",
       "      <th>Patient_Gender</th>\n",
       "      <th>View_Position</th>\n",
       "      <th>Original_Image_Width</th>\n",
       "      <th>Original_Image_Height</th>\n",
       "      <th>Original_Image_Pixel_Spacing_X</th>\n",
       "      <th>...</th>\n",
       "      <th>Emphysema</th>\n",
       "      <th>Fibrosis</th>\n",
       "      <th>Effusion</th>\n",
       "      <th>Pneumonia</th>\n",
       "      <th>Pleural_Thickening</th>\n",
       "      <th>Cardiomegaly</th>\n",
       "      <th>Nodule</th>\n",
       "      <th>Mass</th>\n",
       "      <th>Hernia</th>\n",
       "      <th>Paths</th>\n",
       "    </tr>\n",
       "  </thead>\n",
       "  <tbody>\n",
       "    <tr>\n",
       "      <th>0</th>\n",
       "      <td>00000001_000.png</td>\n",
       "      <td>[Cardiomegaly]</td>\n",
       "      <td>0</td>\n",
       "      <td>1</td>\n",
       "      <td>58</td>\n",
       "      <td>M</td>\n",
       "      <td>PA</td>\n",
       "      <td>2682</td>\n",
       "      <td>2749</td>\n",
       "      <td>0.143</td>\n",
       "      <td>...</td>\n",
       "      <td>0</td>\n",
       "      <td>0</td>\n",
       "      <td>0</td>\n",
       "      <td>0</td>\n",
       "      <td>0</td>\n",
       "      <td>1</td>\n",
       "      <td>0</td>\n",
       "      <td>0</td>\n",
       "      <td>0</td>\n",
       "      <td>/kaggle/input/data/images_001/images/00000001_000.png</td>\n",
       "    </tr>\n",
       "    <tr>\n",
       "      <th>1</th>\n",
       "      <td>00000001_001.png</td>\n",
       "      <td>[Cardiomegaly, Emphysema]</td>\n",
       "      <td>1</td>\n",
       "      <td>1</td>\n",
       "      <td>58</td>\n",
       "      <td>M</td>\n",
       "      <td>PA</td>\n",
       "      <td>2894</td>\n",
       "      <td>2729</td>\n",
       "      <td>0.143</td>\n",
       "      <td>...</td>\n",
       "      <td>1</td>\n",
       "      <td>0</td>\n",
       "      <td>0</td>\n",
       "      <td>0</td>\n",
       "      <td>0</td>\n",
       "      <td>1</td>\n",
       "      <td>0</td>\n",
       "      <td>0</td>\n",
       "      <td>0</td>\n",
       "      <td>/kaggle/input/data/images_001/images/00000001_001.png</td>\n",
       "    </tr>\n",
       "    <tr>\n",
       "      <th>2</th>\n",
       "      <td>00000001_002.png</td>\n",
       "      <td>[Cardiomegaly, Effusion]</td>\n",
       "      <td>2</td>\n",
       "      <td>1</td>\n",
       "      <td>58</td>\n",
       "      <td>M</td>\n",
       "      <td>PA</td>\n",
       "      <td>2500</td>\n",
       "      <td>2048</td>\n",
       "      <td>0.168</td>\n",
       "      <td>...</td>\n",
       "      <td>0</td>\n",
       "      <td>0</td>\n",
       "      <td>1</td>\n",
       "      <td>0</td>\n",
       "      <td>0</td>\n",
       "      <td>1</td>\n",
       "      <td>0</td>\n",
       "      <td>0</td>\n",
       "      <td>0</td>\n",
       "      <td>/kaggle/input/data/images_001/images/00000001_002.png</td>\n",
       "    </tr>\n",
       "    <tr>\n",
       "      <th>3</th>\n",
       "      <td>00000002_000.png</td>\n",
       "      <td>[No Finding]</td>\n",
       "      <td>0</td>\n",
       "      <td>2</td>\n",
       "      <td>81</td>\n",
       "      <td>M</td>\n",
       "      <td>PA</td>\n",
       "      <td>2500</td>\n",
       "      <td>2048</td>\n",
       "      <td>0.171</td>\n",
       "      <td>...</td>\n",
       "      <td>0</td>\n",
       "      <td>0</td>\n",
       "      <td>0</td>\n",
       "      <td>0</td>\n",
       "      <td>0</td>\n",
       "      <td>0</td>\n",
       "      <td>0</td>\n",
       "      <td>0</td>\n",
       "      <td>0</td>\n",
       "      <td>/kaggle/input/data/images_001/images/00000002_000.png</td>\n",
       "    </tr>\n",
       "    <tr>\n",
       "      <th>4</th>\n",
       "      <td>00000003_000.png</td>\n",
       "      <td>[Hernia]</td>\n",
       "      <td>0</td>\n",
       "      <td>3</td>\n",
       "      <td>81</td>\n",
       "      <td>F</td>\n",
       "      <td>PA</td>\n",
       "      <td>2582</td>\n",
       "      <td>2991</td>\n",
       "      <td>0.143</td>\n",
       "      <td>...</td>\n",
       "      <td>0</td>\n",
       "      <td>0</td>\n",
       "      <td>0</td>\n",
       "      <td>0</td>\n",
       "      <td>0</td>\n",
       "      <td>0</td>\n",
       "      <td>0</td>\n",
       "      <td>0</td>\n",
       "      <td>1</td>\n",
       "      <td>/kaggle/input/data/images_001/images/00000003_000.png</td>\n",
       "    </tr>\n",
       "  </tbody>\n",
       "</table>\n",
       "<p>5 rows × 27 columns</p>\n",
       "</div>"
      ],
      "text/plain": [
       "        Image_Index             Finding_Labels  Follow_Up_#  Patient_ID  \\\n",
       "0  00000001_000.png             [Cardiomegaly]            0           1   \n",
       "1  00000001_001.png  [Cardiomegaly, Emphysema]            1           1   \n",
       "2  00000001_002.png   [Cardiomegaly, Effusion]            2           1   \n",
       "3  00000002_000.png               [No Finding]            0           2   \n",
       "4  00000003_000.png                   [Hernia]            0           3   \n",
       "\n",
       "   Patient_Age Patient_Gender View_Position  Original_Image_Width  \\\n",
       "0           58              M            PA                  2682   \n",
       "1           58              M            PA                  2894   \n",
       "2           58              M            PA                  2500   \n",
       "3           81              M            PA                  2500   \n",
       "4           81              F            PA                  2582   \n",
       "\n",
       "   Original_Image_Height  Original_Image_Pixel_Spacing_X  ...  Emphysema  \\\n",
       "0                   2749                           0.143  ...          0   \n",
       "1                   2729                           0.143  ...          1   \n",
       "2                   2048                           0.168  ...          0   \n",
       "3                   2048                           0.171  ...          0   \n",
       "4                   2991                           0.143  ...          0   \n",
       "\n",
       "   Fibrosis  Effusion  Pneumonia  Pleural_Thickening  Cardiomegaly  Nodule  \\\n",
       "0         0         0          0                   0             1       0   \n",
       "1         0         0          0                   0             1       0   \n",
       "2         0         1          0                   0             1       0   \n",
       "3         0         0          0                   0             0       0   \n",
       "4         0         0          0                   0             0       0   \n",
       "\n",
       "   Mass  Hernia                                                  Paths  \n",
       "0     0       0  /kaggle/input/data/images_001/images/00000001_000.png  \n",
       "1     0       0  /kaggle/input/data/images_001/images/00000001_001.png  \n",
       "2     0       0  /kaggle/input/data/images_001/images/00000001_002.png  \n",
       "3     0       0  /kaggle/input/data/images_001/images/00000002_000.png  \n",
       "4     0       1  /kaggle/input/data/images_001/images/00000003_000.png  \n",
       "\n",
       "[5 rows x 27 columns]"
      ]
     },
     "execution_count": 15,
     "metadata": {},
     "output_type": "execute_result"
    }
   ],
   "source": [
    "#learn = learn.load('/kaggle/working/models/fastai_momentum_cross_spatial_70_20_10')\n",
    "SEED = 85\n",
    "def seed_everything(seed):\n",
    "    random.seed(seed)\n",
    "    os.environ[\"PYTHONHASHSEED\"] = str(seed)\n",
    "    np.random.seed(seed)\n",
    "    torch.manual_seed(seed)\n",
    "    torch.cuda.manual_seed(seed)\n",
    "    torch.backends.cudnn.deterministic = True\n",
    "    torch.backends.cudnn.benchmark = False\n",
    "\n",
    "seed_everything(SEED)\n",
    "labels_train_val = pd.read_csv('/kaggle/input/data/train_val_list.txt')\n",
    "labels_train_val.columns = ['Image_Index']\n",
    "labels_test = pd.read_csv('/kaggle/input/data/test_list.txt')\n",
    "labels_test.columns = ['Image_Index']\n",
    "disease_labels = ['Atelectasis', 'Consolidation', 'Infiltration', 'Pneumothorax', 'Edema', 'Emphysema', 'Fibrosis', 'Effusion', 'Pneumonia', 'Pleural_Thickening',\n",
    "'Cardiomegaly', 'Nodule', 'Mass', 'Hernia']\n",
    "# NIH Dataset Labels CSV File \n",
    "labels_df = pd.read_csv('/kaggle/input/data/Data_Entry_2017.csv')\n",
    "labels_df.columns = ['Image_Index', 'Finding_Labels', 'Follow_Up_#', 'Patient_ID',\n",
    "                  'Patient_Age', 'Patient_Gender', 'View_Position',\n",
    "                  'Original_Image_Width', 'Original_Image_Height',\n",
    "                  'Original_Image_Pixel_Spacing_X',\n",
    "                  'Original_Image_Pixel_Spacing_Y', 'dfd']\n",
    "# One hot encoding\n",
    "for diseases in tqdm(disease_labels): \n",
    "    labels_df[diseases] = labels_df['Finding_Labels'].map(lambda result: 1 if diseases in result else 0)\n",
    "\n",
    "# labels_df.to_csv('/kaggle/working/newData.csv')\n",
    "# labels_df=labels_df[labels_df.Finding_Labels != 'No Finding']\n",
    "# #labels_df.head(3)\n",
    "\n",
    "labels_df['Finding_Labels'] = labels_df['Finding_Labels'].apply(lambda s: [l for l in str(s).split('|')])\n",
    "\n",
    "num_glob = glob('/kaggle/input/data/*/images/*.png')\n",
    "img_path = {os.path.basename(x): x for x in num_glob}\n",
    "\n",
    "labels_df['Paths'] = labels_df['Image_Index'].map(img_path.get)\n",
    "labels_df.head()"
   ]
  },
  {
   "cell_type": "code",
   "execution_count": 16,
   "id": "34748e29",
   "metadata": {
    "execution": {
     "iopub.execute_input": "2025-05-08T04:32:09.749343Z",
     "iopub.status.busy": "2025-05-08T04:32:09.749108Z",
     "iopub.status.idle": "2025-05-08T04:32:09.756483Z",
     "shell.execute_reply": "2025-05-08T04:32:09.755821Z"
    },
    "papermill": {
     "duration": 0.019474,
     "end_time": "2025-05-08T04:32:09.757644",
     "exception": false,
     "start_time": "2025-05-08T04:32:09.738170",
     "status": "completed"
    },
    "tags": []
   },
   "outputs": [
    {
     "data": {
      "text/plain": [
       "30805"
      ]
     },
     "execution_count": 16,
     "metadata": {},
     "output_type": "execute_result"
    }
   ],
   "source": [
    "unique_patients = np.unique(labels_df['Patient_ID'])\n",
    "len(unique_patients)"
   ]
  },
  {
   "cell_type": "code",
   "execution_count": 17,
   "id": "a2bcf14f",
   "metadata": {
    "execution": {
     "iopub.execute_input": "2025-05-08T04:32:09.780261Z",
     "iopub.status.busy": "2025-05-08T04:32:09.779690Z",
     "iopub.status.idle": "2025-05-08T04:32:09.787329Z",
     "shell.execute_reply": "2025-05-08T04:32:09.786664Z"
    },
    "papermill": {
     "duration": 0.019961,
     "end_time": "2025-05-08T04:32:09.788503",
     "exception": false,
     "start_time": "2025-05-08T04:32:09.768542",
     "status": "completed"
    },
    "tags": []
   },
   "outputs": [
    {
     "data": {
      "text/plain": [
       "24644"
      ]
     },
     "execution_count": 17,
     "metadata": {},
     "output_type": "execute_result"
    }
   ],
   "source": [
    "from sklearn.model_selection import train_test_split\n",
    "\n",
    "# train-70\n",
    "# val-10\n",
    "# test-20\n",
    "train_val_df_patients, test_df_patients = train_test_split(unique_patients, \n",
    "                                   test_size = 0.2,\n",
    "                                   random_state = SEED,\n",
    "                                    shuffle= True\n",
    "                                   )\n",
    "len(train_val_df_patients)"
   ]
  },
  {
   "cell_type": "code",
   "execution_count": 18,
   "id": "e26138d5",
   "metadata": {
    "execution": {
     "iopub.execute_input": "2025-05-08T04:32:09.808903Z",
     "iopub.status.busy": "2025-05-08T04:32:09.808268Z",
     "iopub.status.idle": "2025-05-08T04:32:09.850427Z",
     "shell.execute_reply": "2025-05-08T04:32:09.849723Z"
    },
    "papermill": {
     "duration": 0.053941,
     "end_time": "2025-05-08T04:32:09.852082",
     "exception": false,
     "start_time": "2025-05-08T04:32:09.798141",
     "status": "completed"
    },
    "tags": []
   },
   "outputs": [],
   "source": [
    "train_val_df = labels_df[labels_df['Patient_ID'].isin(train_val_df_patients)]\n",
    "test_df = labels_df[labels_df['Patient_ID'].isin(test_df_patients)]"
   ]
  },
  {
   "cell_type": "code",
   "execution_count": 19,
   "id": "5460ff21",
   "metadata": {
    "execution": {
     "iopub.execute_input": "2025-05-08T04:32:09.873893Z",
     "iopub.status.busy": "2025-05-08T04:32:09.873681Z",
     "iopub.status.idle": "2025-05-08T04:32:09.877417Z",
     "shell.execute_reply": "2025-05-08T04:32:09.876801Z"
    },
    "papermill": {
     "duration": 0.015203,
     "end_time": "2025-05-08T04:32:09.878457",
     "exception": false,
     "start_time": "2025-05-08T04:32:09.863254",
     "status": "completed"
    },
    "tags": []
   },
   "outputs": [
    {
     "name": "stdout",
     "output_type": "stream",
     "text": [
      "train_val size 89764\n",
      "test size 22356\n"
     ]
    }
   ],
   "source": [
    "labels_df.shape\n",
    "print('train_val size', train_val_df.shape[0])\n",
    "print('test size', labels_df.shape[0] - train_val_df.shape[0])"
   ]
  },
  {
   "cell_type": "code",
   "execution_count": 20,
   "id": "b1cdeae8",
   "metadata": {
    "execution": {
     "iopub.execute_input": "2025-05-08T04:32:09.898383Z",
     "iopub.status.busy": "2025-05-08T04:32:09.897899Z",
     "iopub.status.idle": "2025-05-08T04:32:10.698811Z",
     "shell.execute_reply": "2025-05-08T04:32:10.698210Z"
    },
    "papermill": {
     "duration": 0.812123,
     "end_time": "2025-05-08T04:32:10.700203",
     "exception": false,
     "start_time": "2025-05-08T04:32:09.888080",
     "status": "completed"
    },
    "tags": []
   },
   "outputs": [],
   "source": [
    "item_transforms = [\n",
    "    Resize((224, 224)),\n",
    "]\n",
    "\n",
    "batch_transforms = [\n",
    "    Flip(),\n",
    "    Rotate(),\n",
    "    Normalize.from_stats(*imagenet_stats),\n",
    "]\n",
    "\n",
    "\n",
    "def get_x(row):\n",
    "    return row['Paths']\n",
    "\n",
    "def get_y(row):\n",
    "    labels = row[disease_labels].tolist()\n",
    "    return labels\n",
    "\n",
    "dblock = DataBlock(\n",
    "    blocks=(ImageBlock, MultiCategoryBlock(encoded=True,vocab=disease_labels)),\n",
    "                   splitter=RandomSplitter(valid_pct=0.125, seed=SEED),\n",
    "                   get_x=get_x,\n",
    "                   get_y=get_y,\n",
    "                   item_tfms=item_transforms,\n",
    "                   batch_tfms=batch_transforms\n",
    "                  )\n",
    "dls_phase2 = dblock.dataloaders(train_val_df, bs=128)\n",
    "cbs_phase2=[\n",
    "    SaveModelCallback(monitor='valid_loss', min_delta=0.0001, with_opt=True),\n",
    "    EarlyStoppingCallback(monitor='valid_loss', min_delta=0.001, patience=5),\n",
    "    ShowGraphCallback()\n",
    "    ]\n",
    "dls_test = dblock.dataloaders(test_df, bs=32, shuffle=False)\n",
    "# print(dblock.datasets(train_val_merge).train)"
   ]
  },
  {
   "cell_type": "code",
   "execution_count": 21,
   "id": "44918fc8",
   "metadata": {
    "execution": {
     "iopub.execute_input": "2025-05-08T04:32:10.721516Z",
     "iopub.status.busy": "2025-05-08T04:32:10.721303Z",
     "iopub.status.idle": "2025-05-08T04:32:10.725842Z",
     "shell.execute_reply": "2025-05-08T04:32:10.725325Z"
    },
    "papermill": {
     "duration": 0.015379,
     "end_time": "2025-05-08T04:32:10.726852",
     "exception": false,
     "start_time": "2025-05-08T04:32:10.711473",
     "status": "completed"
    },
    "tags": []
   },
   "outputs": [],
   "source": [
    "from sklearn.metrics import roc_auc_score\n",
    "def get_roc_auc(learner):\n",
    "    #arch = model_arch\n",
    "    # learner = vision_learner(dls, arch, metrics=[accuracy_multi, F1ScoreMulti(), RocAucMulti()])\n",
    "    # learner.model = torch.nn.DataParallel(learner.model)\n",
    "    # learner.load(model_path)\n",
    "    # learner.to('cuda')\n",
    "    learner.freeze()\n",
    "    preds, y_test = learner.get_preds(ds_idx=1)\n",
    "    roc_auc = roc_auc_score(y_test, preds)\n",
    "    \n",
    "    scores=[]\n",
    "    for i in range(0,14):\n",
    "        label_roc_auc_score=roc_auc_score(y_test[:,i],preds[:,i])\n",
    "        scores.append(label_roc_auc_score)\n",
    "    print('ROC_AUC_Labels:', list(zip(disease_labels,scores)))   \n",
    "    \n",
    "#     print('AVERAGE', sum(scores)/len(scores))\n",
    "    print(f'SCORE: {roc_auc}')\n",
    "    del learner\n",
    "    #gc.collect()\n",
    "    return {\n",
    "        'roc_auc': roc_auc,\n",
    "        'preds': preds,\n",
    "        'y_test': y_test\n",
    "    }"
   ]
  },
  {
   "cell_type": "code",
   "execution_count": 22,
   "id": "2bbcbd91",
   "metadata": {
    "execution": {
     "iopub.execute_input": "2025-05-08T04:32:10.745905Z",
     "iopub.status.busy": "2025-05-08T04:32:10.745708Z",
     "iopub.status.idle": "2025-05-08T04:32:10.748818Z",
     "shell.execute_reply": "2025-05-08T04:32:10.748343Z"
    },
    "papermill": {
     "duration": 0.013732,
     "end_time": "2025-05-08T04:32:10.749809",
     "exception": false,
     "start_time": "2025-05-08T04:32:10.736077",
     "status": "completed"
    },
    "tags": []
   },
   "outputs": [],
   "source": [
    "# from fastai.vision.all import *\n",
    "\n",
    "# cbs=[\n",
    "#     SaveModelCallback(monitor='valid_loss', min_delta=0.0001, with_opt=True),\n",
    "#     EarlyStoppingCallback(monitor='valid_loss', min_delta=0.001, patience=5),\n",
    "#     ShowGraphCallback()\n",
    "#     ]\n",
    "\n",
    "# learn = create_fastai_learner(dls,cbs=cbs,loss_type='bce')\n",
    "# lrs = learn.lr_find(suggest_funcs=(minimum, steep, valley, slide))\n",
    "# print('intial learning rate=', lrs.valley)\n",
    "# learn.fine_tune(freeze_epochs=3,epochs=20, base_lr=lrs.valley)\n",
    "# #learn.model = torch.nn.DataParallel(learn.model)\n",
    "# print('--------------Phase1-Done---------------')\n",
    "\n",
    "\n",
    "\n",
    "# print('--------------Begin-Phase2---------------')\n",
    "# learn = create_fastai_learner(dls_phase2,cbs=cbs_phase2,loss_type='asymmetric')\n",
    "# learn = learn.load('/kaggle/working/models/model')\n",
    "# learn.unfreeze()\n",
    "# learn.fit_one_cycle(5, slice(2e-5, 8e-5))\n",
    "# print('--------------Phase2-Done---------------')\n",
    "\n",
    "\n",
    "\n",
    "\n",
    "# print('--------------Begin-Testing---------------')\n",
    "# learn = create_fastai_learner(dls_test,cbs=cbs_phase2,loss_type='asymmetric')\n",
    "# learn = learn.load('/kaggle/working/models/model')\n",
    "# model_result= get_roc_auc(learn)\n",
    "# preds = modelv1_result['preds']\n",
    "# torch.save(preds, 'modelv1_result.pt')\n"
   ]
  },
  {
   "cell_type": "code",
   "execution_count": 23,
   "id": "28991110",
   "metadata": {
    "execution": {
     "iopub.execute_input": "2025-05-08T04:32:10.769311Z",
     "iopub.status.busy": "2025-05-08T04:32:10.769118Z",
     "iopub.status.idle": "2025-05-08T15:37:33.932380Z",
     "shell.execute_reply": "2025-05-08T15:37:33.931574Z"
    },
    "papermill": {
     "duration": 39923.174284,
     "end_time": "2025-05-08T15:37:33.933664",
     "exception": false,
     "start_time": "2025-05-08T04:32:10.759380",
     "status": "completed"
    },
    "tags": []
   },
   "outputs": [
    {
     "name": "stdout",
     "output_type": "stream",
     "text": [
      "Starting grid search with 4 parameter combinations\n",
      "\n",
      "Experiment 1/4\n",
      "\n",
      "=== Running experiment: momentum=0.99, k=2, threshold=0.2 ===\n",
      "--------------Begin-Phase1---------------\n"
     ]
    },
    {
     "name": "stderr",
     "output_type": "stream",
     "text": [
      "/usr/local/lib/python3.11/dist-packages/torchvision/models/_utils.py:208: UserWarning: The parameter 'pretrained' is deprecated since 0.13 and may be removed in the future, please use 'weights' instead.\n",
      "  warnings.warn(\n",
      "/usr/local/lib/python3.11/dist-packages/torchvision/models/_utils.py:223: UserWarning: Arguments other than a weight enum or `None` for 'weights' are deprecated since 0.13 and may be removed in the future. The current behavior is equivalent to passing `weights=EfficientNet_V2_S_Weights.IMAGENET1K_V1`. You can also use `weights=EfficientNet_V2_S_Weights.DEFAULT` to get the most up-to-date weights.\n",
      "  warnings.warn(msg)\n",
      "Downloading: \"https://download.pytorch.org/models/efficientnet_v2_s-dd5fe13b.pth\" to /root/.cache/torch/hub/checkpoints/efficientnet_v2_s-dd5fe13b.pth\n",
      "100%|██████████| 82.7M/82.7M [00:00<00:00, 97.4MB/s]\n",
      "/usr/local/lib/python3.11/dist-packages/fastai/callback/fp16.py:47: FutureWarning: `torch.cuda.amp.autocast(args...)` is deprecated. Please use `torch.amp.autocast('cuda', args...)` instead.\n",
      "  self.autocast,self.learn.scaler,self.scales = autocast(dtype=dtype),GradScaler(**self.kwargs),L()\n",
      "/usr/local/lib/python3.11/dist-packages/fastai/callback/fp16.py:47: FutureWarning: `torch.cuda.amp.GradScaler(args...)` is deprecated. Please use `torch.amp.GradScaler('cuda', args...)` instead.\n",
      "  self.autocast,self.learn.scaler,self.scales = autocast(dtype=dtype),GradScaler(**self.kwargs),L()\n"
     ]
    },
    {
     "data": {
      "text/html": [
       "\n",
       "<style>\n",
       "    /* Turns off some styling */\n",
       "    progress {\n",
       "        /* gets rid of default border in Firefox and Opera. */\n",
       "        border: none;\n",
       "        /* Needs to be in here for Safari polyfill so background images work as expected. */\n",
       "        background-size: auto;\n",
       "    }\n",
       "    progress:not([value]), progress:not([value])::-webkit-progress-bar {\n",
       "        background: repeating-linear-gradient(45deg, #7e7e7e, #7e7e7e 10px, #5c5c5c 10px, #5c5c5c 20px);\n",
       "    }\n",
       "    .progress-bar-interrupted, .progress-bar-interrupted::-webkit-progress-bar {\n",
       "        background: #F44336;\n",
       "    }\n",
       "</style>\n"
      ],
      "text/plain": [
       "<IPython.core.display.HTML object>"
      ]
     },
     "metadata": {},
     "output_type": "display_data"
    },
    {
     "data": {
      "text/html": [],
      "text/plain": [
       "<IPython.core.display.HTML object>"
      ]
     },
     "metadata": {},
     "output_type": "display_data"
    },
    {
     "data": {
      "text/html": [
       "\n",
       "<style>\n",
       "    /* Turns off some styling */\n",
       "    progress {\n",
       "        /* gets rid of default border in Firefox and Opera. */\n",
       "        border: none;\n",
       "        /* Needs to be in here for Safari polyfill so background images work as expected. */\n",
       "        background-size: auto;\n",
       "    }\n",
       "    progress:not([value]), progress:not([value])::-webkit-progress-bar {\n",
       "        background: repeating-linear-gradient(45deg, #7e7e7e, #7e7e7e 10px, #5c5c5c 10px, #5c5c5c 20px);\n",
       "    }\n",
       "    .progress-bar-interrupted, .progress-bar-interrupted::-webkit-progress-bar {\n",
       "        background: #F44336;\n",
       "    }\n",
       "</style>\n"
      ],
      "text/plain": [
       "<IPython.core.display.HTML object>"
      ]
     },
     "metadata": {},
     "output_type": "display_data"
    },
    {
     "data": {
      "text/html": [],
      "text/plain": [
       "<IPython.core.display.HTML object>"
      ]
     },
     "metadata": {},
     "output_type": "display_data"
    },
    {
     "name": "stderr",
     "output_type": "stream",
     "text": [
      "/usr/local/lib/python3.11/dist-packages/fastai/learner.py:53: FutureWarning: You are using `torch.load` with `weights_only=False` (the current default value), which uses the default pickle module implicitly. It is possible to construct malicious pickle data which will execute arbitrary code during unpickling (See https://github.com/pytorch/pytorch/blob/main/SECURITY.md#untrusted-models for more details). In a future release, the default value for `weights_only` will be flipped to `True`. This limits the functions that could be executed during unpickling. Arbitrary objects will no longer be allowed to be loaded via this mode unless they are explicitly allowlisted by the user via `torch.serialization.add_safe_globals`. We recommend you start setting `weights_only=True` for any use case where you don't have full control of the loaded file. Please open an issue on GitHub for any issues related to this experimental feature.\n",
      "  state = torch.load(file, map_location=device, **torch_load_kwargs)\n"
     ]
    },
    {
     "name": "stdout",
     "output_type": "stream",
     "text": [
      "initial learning rate= 0.00019054606673307717\n"
     ]
    },
    {
     "data": {
      "text/html": [
       "\n",
       "<style>\n",
       "    /* Turns off some styling */\n",
       "    progress {\n",
       "        /* gets rid of default border in Firefox and Opera. */\n",
       "        border: none;\n",
       "        /* Needs to be in here for Safari polyfill so background images work as expected. */\n",
       "        background-size: auto;\n",
       "    }\n",
       "    progress:not([value]), progress:not([value])::-webkit-progress-bar {\n",
       "        background: repeating-linear-gradient(45deg, #7e7e7e, #7e7e7e 10px, #5c5c5c 10px, #5c5c5c 20px);\n",
       "    }\n",
       "    .progress-bar-interrupted, .progress-bar-interrupted::-webkit-progress-bar {\n",
       "        background: #F44336;\n",
       "    }\n",
       "</style>\n"
      ],
      "text/plain": [
       "<IPython.core.display.HTML object>"
      ]
     },
     "metadata": {},
     "output_type": "display_data"
    },
    {
     "data": {
      "text/html": [
       "<table border=\"1\" class=\"dataframe\">\n",
       "  <thead>\n",
       "    <tr style=\"text-align: left;\">\n",
       "      <th>epoch</th>\n",
       "      <th>train_loss</th>\n",
       "      <th>valid_loss</th>\n",
       "      <th>accuracy_multi</th>\n",
       "      <th>f1_score</th>\n",
       "      <th>roc_auc_score</th>\n",
       "      <th>time</th>\n",
       "    </tr>\n",
       "  </thead>\n",
       "  <tbody>\n",
       "  </tbody>\n",
       "</table>"
      ],
      "text/plain": [
       "<IPython.core.display.HTML object>"
      ]
     },
     "metadata": {},
     "output_type": "display_data"
    },
    {
     "data": {
      "text/html": [
       "\n",
       "<style>\n",
       "    /* Turns off some styling */\n",
       "    progress {\n",
       "        /* gets rid of default border in Firefox and Opera. */\n",
       "        border: none;\n",
       "        /* Needs to be in here for Safari polyfill so background images work as expected. */\n",
       "        background-size: auto;\n",
       "    }\n",
       "    progress:not([value]), progress:not([value])::-webkit-progress-bar {\n",
       "        background: repeating-linear-gradient(45deg, #7e7e7e, #7e7e7e 10px, #5c5c5c 10px, #5c5c5c 20px);\n",
       "    }\n",
       "    .progress-bar-interrupted, .progress-bar-interrupted::-webkit-progress-bar {\n",
       "        background: #F44336;\n",
       "    }\n",
       "</style>\n"
      ],
      "text/plain": [
       "<IPython.core.display.HTML object>"
      ]
     },
     "metadata": {},
     "output_type": "display_data"
    },
    {
     "data": {
      "text/html": [
       "<table border=\"1\" class=\"dataframe\">\n",
       "  <thead>\n",
       "    <tr style=\"text-align: left;\">\n",
       "      <th>epoch</th>\n",
       "      <th>train_loss</th>\n",
       "      <th>valid_loss</th>\n",
       "      <th>accuracy_multi</th>\n",
       "      <th>f1_score</th>\n",
       "      <th>roc_auc_score</th>\n",
       "      <th>time</th>\n",
       "    </tr>\n",
       "  </thead>\n",
       "  <tbody>\n",
       "    <tr>\n",
       "      <td>0</td>\n",
       "      <td>0.312216</td>\n",
       "      <td>0.298697</td>\n",
       "      <td>0.889180</td>\n",
       "      <td>0.001654</td>\n",
       "      <td>0.549607</td>\n",
       "      <td>08:32</td>\n",
       "    </tr>\n",
       "    <tr>\n",
       "      <td>1</td>\n",
       "      <td>0.287268</td>\n",
       "      <td>0.271539</td>\n",
       "      <td>0.894275</td>\n",
       "      <td>0.084345</td>\n",
       "      <td>0.717221</td>\n",
       "      <td>08:04</td>\n",
       "    </tr>\n",
       "    <tr>\n",
       "      <td>2</td>\n",
       "      <td>0.263967</td>\n",
       "      <td>0.255274</td>\n",
       "      <td>0.898301</td>\n",
       "      <td>0.210579</td>\n",
       "      <td>0.770671</td>\n",
       "      <td>08:00</td>\n",
       "    </tr>\n",
       "  </tbody>\n",
       "</table>"
      ],
      "text/plain": [
       "<IPython.core.display.HTML object>"
      ]
     },
     "metadata": {},
     "output_type": "display_data"
    },
    {
     "name": "stdout",
     "output_type": "stream",
     "text": [
      "Better model found at epoch 0 with valid_loss value: 0.2986968457698822.\n",
      "Better model found at epoch 0 with valid_loss value: 0.2986968457698822.\n",
      "Better model found at epoch 0 with valid_loss value: 0.2986968457698822.\n"
     ]
    },
    {
     "data": {
      "image/png": "[encoded data removed]",
      "text/plain": [
       "<Figure size 600x400 with 1 Axes>"
      ]
     },
     "metadata": {},
     "output_type": "display_data"
    },
    {
     "name": "stdout",
     "output_type": "stream",
     "text": [
      "Better model found at epoch 1 with valid_loss value: 0.2715385854244232.\n",
      "Better model found at epoch 1 with valid_loss value: 0.2715385854244232.\n",
      "Better model found at epoch 1 with valid_loss value: 0.2715385854244232.\n",
      "Better model found at epoch 2 with valid_loss value: 0.2552737295627594.\n",
      "Better model found at epoch 2 with valid_loss value: 0.2552737295627594.\n",
      "Better model found at epoch 2 with valid_loss value: 0.2552737295627594.\n"
     ]
    },
    {
     "name": "stderr",
     "output_type": "stream",
     "text": [
      "/usr/local/lib/python3.11/dist-packages/fastai/learner.py:53: FutureWarning: You are using `torch.load` with `weights_only=False` (the current default value), which uses the default pickle module implicitly. It is possible to construct malicious pickle data which will execute arbitrary code during unpickling (See https://github.com/pytorch/pytorch/blob/main/SECURITY.md#untrusted-models for more details). In a future release, the default value for `weights_only` will be flipped to `True`. This limits the functions that could be executed during unpickling. Arbitrary objects will no longer be allowed to be loaded via this mode unless they are explicitly allowlisted by the user via `torch.serialization.add_safe_globals`. We recommend you start setting `weights_only=True` for any use case where you don't have full control of the loaded file. Please open an issue on GitHub for any issues related to this experimental feature.\n",
      "  state = torch.load(file, map_location=device, **torch_load_kwargs)\n",
      "/usr/local/lib/python3.11/dist-packages/fastai/callback/fp16.py:47: FutureWarning: `torch.cuda.amp.autocast(args...)` is deprecated. Please use `torch.amp.autocast('cuda', args...)` instead.\n",
      "  self.autocast,self.learn.scaler,self.scales = autocast(dtype=dtype),GradScaler(**self.kwargs),L()\n",
      "/usr/local/lib/python3.11/dist-packages/fastai/callback/fp16.py:47: FutureWarning: `torch.cuda.amp.GradScaler(args...)` is deprecated. Please use `torch.amp.GradScaler('cuda', args...)` instead.\n",
      "  self.autocast,self.learn.scaler,self.scales = autocast(dtype=dtype),GradScaler(**self.kwargs),L()\n"
     ]
    },
    {
     "data": {
      "text/html": [
       "\n",
       "<style>\n",
       "    /* Turns off some styling */\n",
       "    progress {\n",
       "        /* gets rid of default border in Firefox and Opera. */\n",
       "        border: none;\n",
       "        /* Needs to be in here for Safari polyfill so background images work as expected. */\n",
       "        background-size: auto;\n",
       "    }\n",
       "    progress:not([value]), progress:not([value])::-webkit-progress-bar {\n",
       "        background: repeating-linear-gradient(45deg, #7e7e7e, #7e7e7e 10px, #5c5c5c 10px, #5c5c5c 20px);\n",
       "    }\n",
       "    .progress-bar-interrupted, .progress-bar-interrupted::-webkit-progress-bar {\n",
       "        background: #F44336;\n",
       "    }\n",
       "</style>\n"
      ],
      "text/plain": [
       "<IPython.core.display.HTML object>"
      ]
     },
     "metadata": {},
     "output_type": "display_data"
    },
    {
     "data": {
      "text/html": [
       "<table border=\"1\" class=\"dataframe\">\n",
       "  <thead>\n",
       "    <tr style=\"text-align: left;\">\n",
       "      <th>epoch</th>\n",
       "      <th>train_loss</th>\n",
       "      <th>valid_loss</th>\n",
       "      <th>accuracy_multi</th>\n",
       "      <th>f1_score</th>\n",
       "      <th>roc_auc_score</th>\n",
       "      <th>time</th>\n",
       "    </tr>\n",
       "  </thead>\n",
       "  <tbody>\n",
       "  </tbody>\n",
       "</table>"
      ],
      "text/plain": [
       "<IPython.core.display.HTML object>"
      ]
     },
     "metadata": {},
     "output_type": "display_data"
    },
    {
     "data": {
      "text/html": [
       "\n",
       "<style>\n",
       "    /* Turns off some styling */\n",
       "    progress {\n",
       "        /* gets rid of default border in Firefox and Opera. */\n",
       "        border: none;\n",
       "        /* Needs to be in here for Safari polyfill so background images work as expected. */\n",
       "        background-size: auto;\n",
       "    }\n",
       "    progress:not([value]), progress:not([value])::-webkit-progress-bar {\n",
       "        background: repeating-linear-gradient(45deg, #7e7e7e, #7e7e7e 10px, #5c5c5c 10px, #5c5c5c 20px);\n",
       "    }\n",
       "    .progress-bar-interrupted, .progress-bar-interrupted::-webkit-progress-bar {\n",
       "        background: #F44336;\n",
       "    }\n",
       "</style>\n"
      ],
      "text/plain": [
       "<IPython.core.display.HTML object>"
      ]
     },
     "metadata": {},
     "output_type": "display_data"
    },
    {
     "data": {
      "text/html": [
       "<table border=\"1\" class=\"dataframe\">\n",
       "  <thead>\n",
       "    <tr style=\"text-align: left;\">\n",
       "      <th>epoch</th>\n",
       "      <th>train_loss</th>\n",
       "      <th>valid_loss</th>\n",
       "      <th>accuracy_multi</th>\n",
       "      <th>f1_score</th>\n",
       "      <th>roc_auc_score</th>\n",
       "      <th>time</th>\n",
       "    </tr>\n",
       "  </thead>\n",
       "  <tbody>\n",
       "    <tr>\n",
       "      <td>0</td>\n",
       "      <td>0.247892</td>\n",
       "      <td>0.246377</td>\n",
       "      <td>0.902863</td>\n",
       "      <td>0.239610</td>\n",
       "      <td>0.795512</td>\n",
       "      <td>07:59</td>\n",
       "    </tr>\n",
       "    <tr>\n",
       "      <td>1</td>\n",
       "      <td>0.243297</td>\n",
       "      <td>0.245140</td>\n",
       "      <td>0.902959</td>\n",
       "      <td>0.239396</td>\n",
       "      <td>0.799758</td>\n",
       "      <td>08:03</td>\n",
       "    </tr>\n",
       "    <tr>\n",
       "      <td>2</td>\n",
       "      <td>0.240369</td>\n",
       "      <td>0.245437</td>\n",
       "      <td>0.902027</td>\n",
       "      <td>0.253661</td>\n",
       "      <td>0.801319</td>\n",
       "      <td>08:03</td>\n",
       "    </tr>\n",
       "    <tr>\n",
       "      <td>3</td>\n",
       "      <td>0.236804</td>\n",
       "      <td>0.245397</td>\n",
       "      <td>0.902493</td>\n",
       "      <td>0.261749</td>\n",
       "      <td>0.799235</td>\n",
       "      <td>08:00</td>\n",
       "    </tr>\n",
       "    <tr>\n",
       "      <td>4</td>\n",
       "      <td>0.229778</td>\n",
       "      <td>0.245309</td>\n",
       "      <td>0.902233</td>\n",
       "      <td>0.289992</td>\n",
       "      <td>0.804253</td>\n",
       "      <td>08:03</td>\n",
       "    </tr>\n",
       "  </tbody>\n",
       "</table>"
      ],
      "text/plain": [
       "<IPython.core.display.HTML object>"
      ]
     },
     "metadata": {},
     "output_type": "display_data"
    },
    {
     "name": "stdout",
     "output_type": "stream",
     "text": [
      "Better model found at epoch 0 with valid_loss value: 0.2463771253824234.\n",
      "Better model found at epoch 0 with valid_loss value: 0.2463771253824234.\n",
      "Better model found at epoch 0 with valid_loss value: 0.2463771253824234.\n"
     ]
    },
    {
     "data": {
      "image/png": "[encoded data removed]",
      "text/plain": [
       "<Figure size 600x400 with 1 Axes>"
      ]
     },
     "metadata": {},
     "output_type": "display_data"
    },
    {
     "name": "stdout",
     "output_type": "stream",
     "text": [
      "Better model found at epoch 1 with valid_loss value: 0.24514010548591614.\n",
      "Better model found at epoch 1 with valid_loss value: 0.24514010548591614.\n",
      "Better model found at epoch 1 with valid_loss value: 0.24514010548591614.\n",
      "No improvement since epoch 1: early stopping\n"
     ]
    },
    {
     "name": "stderr",
     "output_type": "stream",
     "text": [
      "/usr/local/lib/python3.11/dist-packages/fastai/learner.py:53: FutureWarning: You are using `torch.load` with `weights_only=False` (the current default value), which uses the default pickle module implicitly. It is possible to construct malicious pickle data which will execute arbitrary code during unpickling (See https://github.com/pytorch/pytorch/blob/main/SECURITY.md#untrusted-models for more details). In a future release, the default value for `weights_only` will be flipped to `True`. This limits the functions that could be executed during unpickling. Arbitrary objects will no longer be allowed to be loaded via this mode unless they are explicitly allowlisted by the user via `torch.serialization.add_safe_globals`. We recommend you start setting `weights_only=True` for any use case where you don't have full control of the loaded file. Please open an issue on GitHub for any issues related to this experimental feature.\n",
      "  state = torch.load(file, map_location=device, **torch_load_kwargs)\n"
     ]
    },
    {
     "name": "stdout",
     "output_type": "stream",
     "text": [
      "--------------Phase1-Done---------------\n",
      "--------------Begin-Phase2---------------\n"
     ]
    },
    {
     "name": "stderr",
     "output_type": "stream",
     "text": [
      "/usr/local/lib/python3.11/dist-packages/torchvision/models/_utils.py:208: UserWarning: The parameter 'pretrained' is deprecated since 0.13 and may be removed in the future, please use 'weights' instead.\n",
      "  warnings.warn(\n",
      "/usr/local/lib/python3.11/dist-packages/torchvision/models/_utils.py:223: UserWarning: Arguments other than a weight enum or `None` for 'weights' are deprecated since 0.13 and may be removed in the future. The current behavior is equivalent to passing `weights=EfficientNet_V2_S_Weights.IMAGENET1K_V1`. You can also use `weights=EfficientNet_V2_S_Weights.DEFAULT` to get the most up-to-date weights.\n",
      "  warnings.warn(msg)\n",
      "/usr/local/lib/python3.11/dist-packages/fastai/callback/fp16.py:47: FutureWarning: `torch.cuda.amp.autocast(args...)` is deprecated. Please use `torch.amp.autocast('cuda', args...)` instead.\n",
      "  self.autocast,self.learn.scaler,self.scales = autocast(dtype=dtype),GradScaler(**self.kwargs),L()\n",
      "/usr/local/lib/python3.11/dist-packages/fastai/callback/fp16.py:47: FutureWarning: `torch.cuda.amp.GradScaler(args...)` is deprecated. Please use `torch.amp.GradScaler('cuda', args...)` instead.\n",
      "  self.autocast,self.learn.scaler,self.scales = autocast(dtype=dtype),GradScaler(**self.kwargs),L()\n"
     ]
    },
    {
     "data": {
      "text/html": [
       "\n",
       "<style>\n",
       "    /* Turns off some styling */\n",
       "    progress {\n",
       "        /* gets rid of default border in Firefox and Opera. */\n",
       "        border: none;\n",
       "        /* Needs to be in here for Safari polyfill so background images work as expected. */\n",
       "        background-size: auto;\n",
       "    }\n",
       "    progress:not([value]), progress:not([value])::-webkit-progress-bar {\n",
       "        background: repeating-linear-gradient(45deg, #7e7e7e, #7e7e7e 10px, #5c5c5c 10px, #5c5c5c 20px);\n",
       "    }\n",
       "    .progress-bar-interrupted, .progress-bar-interrupted::-webkit-progress-bar {\n",
       "        background: #F44336;\n",
       "    }\n",
       "</style>\n"
      ],
      "text/plain": [
       "<IPython.core.display.HTML object>"
      ]
     },
     "metadata": {},
     "output_type": "display_data"
    },
    {
     "data": {
      "text/html": [
       "<table border=\"1\" class=\"dataframe\">\n",
       "  <thead>\n",
       "    <tr style=\"text-align: left;\">\n",
       "      <th>epoch</th>\n",
       "      <th>train_loss</th>\n",
       "      <th>valid_loss</th>\n",
       "      <th>accuracy_multi</th>\n",
       "      <th>f1_score</th>\n",
       "      <th>roc_auc_score</th>\n",
       "      <th>time</th>\n",
       "    </tr>\n",
       "  </thead>\n",
       "  <tbody>\n",
       "  </tbody>\n",
       "</table>"
      ],
      "text/plain": [
       "<IPython.core.display.HTML object>"
      ]
     },
     "metadata": {},
     "output_type": "display_data"
    },
    {
     "data": {
      "text/html": [
       "\n",
       "<style>\n",
       "    /* Turns off some styling */\n",
       "    progress {\n",
       "        /* gets rid of default border in Firefox and Opera. */\n",
       "        border: none;\n",
       "        /* Needs to be in here for Safari polyfill so background images work as expected. */\n",
       "        background-size: auto;\n",
       "    }\n",
       "    progress:not([value]), progress:not([value])::-webkit-progress-bar {\n",
       "        background: repeating-linear-gradient(45deg, #7e7e7e, #7e7e7e 10px, #5c5c5c 10px, #5c5c5c 20px);\n",
       "    }\n",
       "    .progress-bar-interrupted, .progress-bar-interrupted::-webkit-progress-bar {\n",
       "        background: #F44336;\n",
       "    }\n",
       "</style>\n"
      ],
      "text/plain": [
       "<IPython.core.display.HTML object>"
      ]
     },
     "metadata": {},
     "output_type": "display_data"
    },
    {
     "data": {
      "text/html": [
       "<table border=\"1\" class=\"dataframe\">\n",
       "  <thead>\n",
       "    <tr style=\"text-align: left;\">\n",
       "      <th>epoch</th>\n",
       "      <th>train_loss</th>\n",
       "      <th>valid_loss</th>\n",
       "      <th>accuracy_multi</th>\n",
       "      <th>f1_score</th>\n",
       "      <th>roc_auc_score</th>\n",
       "      <th>time</th>\n",
       "    </tr>\n",
       "  </thead>\n",
       "  <tbody>\n",
       "    <tr>\n",
       "      <td>0</td>\n",
       "      <td>0.031490</td>\n",
       "      <td>0.030266</td>\n",
       "      <td>0.932767</td>\n",
       "      <td>0.275012</td>\n",
       "      <td>0.830451</td>\n",
       "      <td>18:02</td>\n",
       "    </tr>\n",
       "    <tr>\n",
       "      <td>1</td>\n",
       "      <td>0.030401</td>\n",
       "      <td>0.029609</td>\n",
       "      <td>0.932391</td>\n",
       "      <td>0.271604</td>\n",
       "      <td>0.837989</td>\n",
       "      <td>18:02</td>\n",
       "    </tr>\n",
       "    <tr>\n",
       "      <td>2</td>\n",
       "      <td>0.030005</td>\n",
       "      <td>0.029364</td>\n",
       "      <td>0.934772</td>\n",
       "      <td>0.284897</td>\n",
       "      <td>0.842430</td>\n",
       "      <td>18:16</td>\n",
       "    </tr>\n",
       "    <tr>\n",
       "      <td>3</td>\n",
       "      <td>0.029265</td>\n",
       "      <td>0.029299</td>\n",
       "      <td>0.935167</td>\n",
       "      <td>0.289191</td>\n",
       "      <td>0.843476</td>\n",
       "      <td>18:08</td>\n",
       "    </tr>\n",
       "  </tbody>\n",
       "</table>"
      ],
      "text/plain": [
       "<IPython.core.display.HTML object>"
      ]
     },
     "metadata": {},
     "output_type": "display_data"
    },
    {
     "name": "stdout",
     "output_type": "stream",
     "text": [
      "Better model found at epoch 0 with valid_loss value: 0.030266495421528816.\n",
      "Better model found at epoch 0 with valid_loss value: 0.030266495421528816.\n",
      "Better model found at epoch 0 with valid_loss value: 0.030266495421528816.\n"
     ]
    },
    {
     "data": {
      "image/png": "[encoded data removed]",
      "text/plain": [
       "<Figure size 600x400 with 1 Axes>"
      ]
     },
     "metadata": {},
     "output_type": "display_data"
    },
    {
     "name": "stdout",
     "output_type": "stream",
     "text": [
      "Better model found at epoch 1 with valid_loss value: 0.02960922382771969.\n",
      "Better model found at epoch 1 with valid_loss value: 0.02960922382771969.\n",
      "Better model found at epoch 1 with valid_loss value: 0.02960922382771969.\n",
      "Better model found at epoch 2 with valid_loss value: 0.02936411090195179.\n",
      "Better model found at epoch 2 with valid_loss value: 0.02936411090195179.\n",
      "Better model found at epoch 2 with valid_loss value: 0.02936411090195179.\n",
      "Better model found at epoch 3 with valid_loss value: 0.02929949201643467.\n",
      "No improvement since epoch 0: early stopping\n"
     ]
    },
    {
     "name": "stderr",
     "output_type": "stream",
     "text": [
      "/usr/local/lib/python3.11/dist-packages/fastai/learner.py:53: FutureWarning: You are using `torch.load` with `weights_only=False` (the current default value), which uses the default pickle module implicitly. It is possible to construct malicious pickle data which will execute arbitrary code during unpickling (See https://github.com/pytorch/pytorch/blob/main/SECURITY.md#untrusted-models for more details). In a future release, the default value for `weights_only` will be flipped to `True`. This limits the functions that could be executed during unpickling. Arbitrary objects will no longer be allowed to be loaded via this mode unless they are explicitly allowlisted by the user via `torch.serialization.add_safe_globals`. We recommend you start setting `weights_only=True` for any use case where you don't have full control of the loaded file. Please open an issue on GitHub for any issues related to this experimental feature.\n",
      "  state = torch.load(file, map_location=device, **torch_load_kwargs)\n",
      "/usr/local/lib/python3.11/dist-packages/fastai/learner.py:61: UserWarning: Saved file doesn't contain an optimizer state.\n",
      "  elif with_opt: warn(\"Saved file doesn't contain an optimizer state.\")\n"
     ]
    },
    {
     "name": "stdout",
     "output_type": "stream",
     "text": [
      "--------------Phase2-Done---------------\n",
      "--------------Begin-Testing---------------\n"
     ]
    },
    {
     "name": "stderr",
     "output_type": "stream",
     "text": [
      "/usr/local/lib/python3.11/dist-packages/torchvision/models/_utils.py:208: UserWarning: The parameter 'pretrained' is deprecated since 0.13 and may be removed in the future, please use 'weights' instead.\n",
      "  warnings.warn(\n",
      "/usr/local/lib/python3.11/dist-packages/torchvision/models/_utils.py:223: UserWarning: Arguments other than a weight enum or `None` for 'weights' are deprecated since 0.13 and may be removed in the future. The current behavior is equivalent to passing `weights=EfficientNet_V2_S_Weights.IMAGENET1K_V1`. You can also use `weights=EfficientNet_V2_S_Weights.DEFAULT` to get the most up-to-date weights.\n",
      "  warnings.warn(msg)\n",
      "/usr/local/lib/python3.11/dist-packages/fastai/callback/fp16.py:47: FutureWarning: `torch.cuda.amp.autocast(args...)` is deprecated. Please use `torch.amp.autocast('cuda', args...)` instead.\n",
      "  self.autocast,self.learn.scaler,self.scales = autocast(dtype=dtype),GradScaler(**self.kwargs),L()\n",
      "/usr/local/lib/python3.11/dist-packages/fastai/callback/fp16.py:47: FutureWarning: `torch.cuda.amp.GradScaler(args...)` is deprecated. Please use `torch.amp.GradScaler('cuda', args...)` instead.\n",
      "  self.autocast,self.learn.scaler,self.scales = autocast(dtype=dtype),GradScaler(**self.kwargs),L()\n"
     ]
    },
    {
     "data": {
      "text/html": [
       "\n",
       "<style>\n",
       "    /* Turns off some styling */\n",
       "    progress {\n",
       "        /* gets rid of default border in Firefox and Opera. */\n",
       "        border: none;\n",
       "        /* Needs to be in here for Safari polyfill so background images work as expected. */\n",
       "        background-size: auto;\n",
       "    }\n",
       "    progress:not([value]), progress:not([value])::-webkit-progress-bar {\n",
       "        background: repeating-linear-gradient(45deg, #7e7e7e, #7e7e7e 10px, #5c5c5c 10px, #5c5c5c 20px);\n",
       "    }\n",
       "    .progress-bar-interrupted, .progress-bar-interrupted::-webkit-progress-bar {\n",
       "        background: #F44336;\n",
       "    }\n",
       "</style>\n"
      ],
      "text/plain": [
       "<IPython.core.display.HTML object>"
      ]
     },
     "metadata": {},
     "output_type": "display_data"
    },
    {
     "data": {
      "text/html": [],
      "text/plain": [
       "<IPython.core.display.HTML object>"
      ]
     },
     "metadata": {},
     "output_type": "display_data"
    },
    {
     "data": {
      "text/html": [
       "\n",
       "<style>\n",
       "    /* Turns off some styling */\n",
       "    progress {\n",
       "        /* gets rid of default border in Firefox and Opera. */\n",
       "        border: none;\n",
       "        /* Needs to be in here for Safari polyfill so background images work as expected. */\n",
       "        background-size: auto;\n",
       "    }\n",
       "    progress:not([value]), progress:not([value])::-webkit-progress-bar {\n",
       "        background: repeating-linear-gradient(45deg, #7e7e7e, #7e7e7e 10px, #5c5c5c 10px, #5c5c5c 20px);\n",
       "    }\n",
       "    .progress-bar-interrupted, .progress-bar-interrupted::-webkit-progress-bar {\n",
       "        background: #F44336;\n",
       "    }\n",
       "</style>\n"
      ],
      "text/plain": [
       "<IPython.core.display.HTML object>"
      ]
     },
     "metadata": {},
     "output_type": "display_data"
    },
    {
     "data": {
      "text/html": [],
      "text/plain": [
       "<IPython.core.display.HTML object>"
      ]
     },
     "metadata": {},
     "output_type": "display_data"
    },
    {
     "name": "stdout",
     "output_type": "stream",
     "text": [
      "ROC_AUC_Labels: [('Atelectasis', 0.8080169949229266), ('Consolidation', 0.7928948504728872), ('Infiltration', 0.7086733668790435), ('Pneumothorax', 0.8953149303798654), ('Edema', 0.8865522263192143), ('Emphysema', 0.9028328794149814), ('Fibrosis', 0.8688771615387169), ('Effusion', 0.897437529428512), ('Pneumonia', 0.7056565579405698), ('Pleural_Thickening', 0.8285730376854503), ('Cardiomegaly', 0.895895940928422), ('Nodule', 0.7490957838854054), ('Mass', 0.8528957023060797), ('Hernia', 0.9483802943287868)]\n",
      "SCORE: 0.8386498040307758\n",
      "Error in experiment: 'class_auc'\n",
      "\n",
      "Experiment 2/4\n",
      "\n",
      "=== Running experiment: momentum=0.99, k=3, threshold=0.2 ===\n",
      "--------------Begin-Phase1---------------\n"
     ]
    },
    {
     "name": "stderr",
     "output_type": "stream",
     "text": [
      "/usr/local/lib/python3.11/dist-packages/torchvision/models/_utils.py:208: UserWarning: The parameter 'pretrained' is deprecated since 0.13 and may be removed in the future, please use 'weights' instead.\n",
      "  warnings.warn(\n",
      "/usr/local/lib/python3.11/dist-packages/torchvision/models/_utils.py:223: UserWarning: Arguments other than a weight enum or `None` for 'weights' are deprecated since 0.13 and may be removed in the future. The current behavior is equivalent to passing `weights=EfficientNet_V2_S_Weights.IMAGENET1K_V1`. You can also use `weights=EfficientNet_V2_S_Weights.DEFAULT` to get the most up-to-date weights.\n",
      "  warnings.warn(msg)\n",
      "/usr/local/lib/python3.11/dist-packages/fastai/callback/fp16.py:47: FutureWarning: `torch.cuda.amp.autocast(args...)` is deprecated. Please use `torch.amp.autocast('cuda', args...)` instead.\n",
      "  self.autocast,self.learn.scaler,self.scales = autocast(dtype=dtype),GradScaler(**self.kwargs),L()\n",
      "/usr/local/lib/python3.11/dist-packages/fastai/callback/fp16.py:47: FutureWarning: `torch.cuda.amp.GradScaler(args...)` is deprecated. Please use `torch.amp.GradScaler('cuda', args...)` instead.\n",
      "  self.autocast,self.learn.scaler,self.scales = autocast(dtype=dtype),GradScaler(**self.kwargs),L()\n"
     ]
    },
    {
     "data": {
      "text/html": [
       "\n",
       "<style>\n",
       "    /* Turns off some styling */\n",
       "    progress {\n",
       "        /* gets rid of default border in Firefox and Opera. */\n",
       "        border: none;\n",
       "        /* Needs to be in here for Safari polyfill so background images work as expected. */\n",
       "        background-size: auto;\n",
       "    }\n",
       "    progress:not([value]), progress:not([value])::-webkit-progress-bar {\n",
       "        background: repeating-linear-gradient(45deg, #7e7e7e, #7e7e7e 10px, #5c5c5c 10px, #5c5c5c 20px);\n",
       "    }\n",
       "    .progress-bar-interrupted, .progress-bar-interrupted::-webkit-progress-bar {\n",
       "        background: #F44336;\n",
       "    }\n",
       "</style>\n"
      ],
      "text/plain": [
       "<IPython.core.display.HTML object>"
      ]
     },
     "metadata": {},
     "output_type": "display_data"
    },
    {
     "data": {
      "text/html": [],
      "text/plain": [
       "<IPython.core.display.HTML object>"
      ]
     },
     "metadata": {},
     "output_type": "display_data"
    },
    {
     "data": {
      "text/html": [
       "\n",
       "<style>\n",
       "    /* Turns off some styling */\n",
       "    progress {\n",
       "        /* gets rid of default border in Firefox and Opera. */\n",
       "        border: none;\n",
       "        /* Needs to be in here for Safari polyfill so background images work as expected. */\n",
       "        background-size: auto;\n",
       "    }\n",
       "    progress:not([value]), progress:not([value])::-webkit-progress-bar {\n",
       "        background: repeating-linear-gradient(45deg, #7e7e7e, #7e7e7e 10px, #5c5c5c 10px, #5c5c5c 20px);\n",
       "    }\n",
       "    .progress-bar-interrupted, .progress-bar-interrupted::-webkit-progress-bar {\n",
       "        background: #F44336;\n",
       "    }\n",
       "</style>\n"
      ],
      "text/plain": [
       "<IPython.core.display.HTML object>"
      ]
     },
     "metadata": {},
     "output_type": "display_data"
    },
    {
     "data": {
      "text/html": [],
      "text/plain": [
       "<IPython.core.display.HTML object>"
      ]
     },
     "metadata": {},
     "output_type": "display_data"
    },
    {
     "name": "stderr",
     "output_type": "stream",
     "text": [
      "/usr/local/lib/python3.11/dist-packages/fastai/learner.py:53: FutureWarning: You are using `torch.load` with `weights_only=False` (the current default value), which uses the default pickle module implicitly. It is possible to construct malicious pickle data which will execute arbitrary code during unpickling (See https://github.com/pytorch/pytorch/blob/main/SECURITY.md#untrusted-models for more details). In a future release, the default value for `weights_only` will be flipped to `True`. This limits the functions that could be executed during unpickling. Arbitrary objects will no longer be allowed to be loaded via this mode unless they are explicitly allowlisted by the user via `torch.serialization.add_safe_globals`. We recommend you start setting `weights_only=True` for any use case where you don't have full control of the loaded file. Please open an issue on GitHub for any issues related to this experimental feature.\n",
      "  state = torch.load(file, map_location=device, **torch_load_kwargs)\n"
     ]
    },
    {
     "name": "stdout",
     "output_type": "stream",
     "text": [
      "initial learning rate= 0.00019054606673307717\n"
     ]
    },
    {
     "data": {
      "text/html": [
       "\n",
       "<style>\n",
       "    /* Turns off some styling */\n",
       "    progress {\n",
       "        /* gets rid of default border in Firefox and Opera. */\n",
       "        border: none;\n",
       "        /* Needs to be in here for Safari polyfill so background images work as expected. */\n",
       "        background-size: auto;\n",
       "    }\n",
       "    progress:not([value]), progress:not([value])::-webkit-progress-bar {\n",
       "        background: repeating-linear-gradient(45deg, #7e7e7e, #7e7e7e 10px, #5c5c5c 10px, #5c5c5c 20px);\n",
       "    }\n",
       "    .progress-bar-interrupted, .progress-bar-interrupted::-webkit-progress-bar {\n",
       "        background: #F44336;\n",
       "    }\n",
       "</style>\n"
      ],
      "text/plain": [
       "<IPython.core.display.HTML object>"
      ]
     },
     "metadata": {},
     "output_type": "display_data"
    },
    {
     "data": {
      "text/html": [
       "<table border=\"1\" class=\"dataframe\">\n",
       "  <thead>\n",
       "    <tr style=\"text-align: left;\">\n",
       "      <th>epoch</th>\n",
       "      <th>train_loss</th>\n",
       "      <th>valid_loss</th>\n",
       "      <th>accuracy_multi</th>\n",
       "      <th>f1_score</th>\n",
       "      <th>roc_auc_score</th>\n",
       "      <th>time</th>\n",
       "    </tr>\n",
       "  </thead>\n",
       "  <tbody>\n",
       "  </tbody>\n",
       "</table>"
      ],
      "text/plain": [
       "<IPython.core.display.HTML object>"
      ]
     },
     "metadata": {},
     "output_type": "display_data"
    },
    {
     "data": {
      "text/html": [
       "\n",
       "<style>\n",
       "    /* Turns off some styling */\n",
       "    progress {\n",
       "        /* gets rid of default border in Firefox and Opera. */\n",
       "        border: none;\n",
       "        /* Needs to be in here for Safari polyfill so background images work as expected. */\n",
       "        background-size: auto;\n",
       "    }\n",
       "    progress:not([value]), progress:not([value])::-webkit-progress-bar {\n",
       "        background: repeating-linear-gradient(45deg, #7e7e7e, #7e7e7e 10px, #5c5c5c 10px, #5c5c5c 20px);\n",
       "    }\n",
       "    .progress-bar-interrupted, .progress-bar-interrupted::-webkit-progress-bar {\n",
       "        background: #F44336;\n",
       "    }\n",
       "</style>\n"
      ],
      "text/plain": [
       "<IPython.core.display.HTML object>"
      ]
     },
     "metadata": {},
     "output_type": "display_data"
    },
    {
     "data": {
      "text/html": [
       "<table border=\"1\" class=\"dataframe\">\n",
       "  <thead>\n",
       "    <tr style=\"text-align: left;\">\n",
       "      <th>epoch</th>\n",
       "      <th>train_loss</th>\n",
       "      <th>valid_loss</th>\n",
       "      <th>accuracy_multi</th>\n",
       "      <th>f1_score</th>\n",
       "      <th>roc_auc_score</th>\n",
       "      <th>time</th>\n",
       "    </tr>\n",
       "  </thead>\n",
       "  <tbody>\n",
       "    <tr>\n",
       "      <td>0</td>\n",
       "      <td>0.315862</td>\n",
       "      <td>0.299131</td>\n",
       "      <td>0.889591</td>\n",
       "      <td>0.005426</td>\n",
       "      <td>0.541637</td>\n",
       "      <td>08:28</td>\n",
       "    </tr>\n",
       "    <tr>\n",
       "      <td>1</td>\n",
       "      <td>0.286303</td>\n",
       "      <td>0.272384</td>\n",
       "      <td>0.893480</td>\n",
       "      <td>0.076798</td>\n",
       "      <td>0.715708</td>\n",
       "      <td>08:20</td>\n",
       "    </tr>\n",
       "    <tr>\n",
       "      <td>2</td>\n",
       "      <td>0.262215</td>\n",
       "      <td>0.254257</td>\n",
       "      <td>0.899657</td>\n",
       "      <td>0.206904</td>\n",
       "      <td>0.775846</td>\n",
       "      <td>08:18</td>\n",
       "    </tr>\n",
       "  </tbody>\n",
       "</table>"
      ],
      "text/plain": [
       "<IPython.core.display.HTML object>"
      ]
     },
     "metadata": {},
     "output_type": "display_data"
    },
    {
     "name": "stdout",
     "output_type": "stream",
     "text": [
      "Better model found at epoch 0 with valid_loss value: 0.29913127422332764.\n",
      "Better model found at epoch 0 with valid_loss value: 0.29913127422332764.\n",
      "Better model found at epoch 0 with valid_loss value: 0.29913127422332764.\n"
     ]
    },
    {
     "data": {
      "image/png": "[encoded data removed]",
      "text/plain": [
       "<Figure size 600x400 with 1 Axes>"
      ]
     },
     "metadata": {},
     "output_type": "display_data"
    },
    {
     "name": "stdout",
     "output_type": "stream",
     "text": [
      "Better model found at epoch 1 with valid_loss value: 0.2723836600780487.\n",
      "Better model found at epoch 1 with valid_loss value: 0.2723836600780487.\n",
      "Better model found at epoch 1 with valid_loss value: 0.2723836600780487.\n",
      "Better model found at epoch 2 with valid_loss value: 0.2542569637298584.\n",
      "Better model found at epoch 2 with valid_loss value: 0.2542569637298584.\n",
      "Better model found at epoch 2 with valid_loss value: 0.2542569637298584.\n"
     ]
    },
    {
     "name": "stderr",
     "output_type": "stream",
     "text": [
      "/usr/local/lib/python3.11/dist-packages/fastai/learner.py:53: FutureWarning: You are using `torch.load` with `weights_only=False` (the current default value), which uses the default pickle module implicitly. It is possible to construct malicious pickle data which will execute arbitrary code during unpickling (See https://github.com/pytorch/pytorch/blob/main/SECURITY.md#untrusted-models for more details). In a future release, the default value for `weights_only` will be flipped to `True`. This limits the functions that could be executed during unpickling. Arbitrary objects will no longer be allowed to be loaded via this mode unless they are explicitly allowlisted by the user via `torch.serialization.add_safe_globals`. We recommend you start setting `weights_only=True` for any use case where you don't have full control of the loaded file. Please open an issue on GitHub for any issues related to this experimental feature.\n",
      "  state = torch.load(file, map_location=device, **torch_load_kwargs)\n",
      "/usr/local/lib/python3.11/dist-packages/fastai/callback/fp16.py:47: FutureWarning: `torch.cuda.amp.autocast(args...)` is deprecated. Please use `torch.amp.autocast('cuda', args...)` instead.\n",
      "  self.autocast,self.learn.scaler,self.scales = autocast(dtype=dtype),GradScaler(**self.kwargs),L()\n",
      "/usr/local/lib/python3.11/dist-packages/fastai/callback/fp16.py:47: FutureWarning: `torch.cuda.amp.GradScaler(args...)` is deprecated. Please use `torch.amp.GradScaler('cuda', args...)` instead.\n",
      "  self.autocast,self.learn.scaler,self.scales = autocast(dtype=dtype),GradScaler(**self.kwargs),L()\n"
     ]
    },
    {
     "data": {
      "text/html": [
       "\n",
       "<style>\n",
       "    /* Turns off some styling */\n",
       "    progress {\n",
       "        /* gets rid of default border in Firefox and Opera. */\n",
       "        border: none;\n",
       "        /* Needs to be in here for Safari polyfill so background images work as expected. */\n",
       "        background-size: auto;\n",
       "    }\n",
       "    progress:not([value]), progress:not([value])::-webkit-progress-bar {\n",
       "        background: repeating-linear-gradient(45deg, #7e7e7e, #7e7e7e 10px, #5c5c5c 10px, #5c5c5c 20px);\n",
       "    }\n",
       "    .progress-bar-interrupted, .progress-bar-interrupted::-webkit-progress-bar {\n",
       "        background: #F44336;\n",
       "    }\n",
       "</style>\n"
      ],
      "text/plain": [
       "<IPython.core.display.HTML object>"
      ]
     },
     "metadata": {},
     "output_type": "display_data"
    },
    {
     "data": {
      "text/html": [
       "<table border=\"1\" class=\"dataframe\">\n",
       "  <thead>\n",
       "    <tr style=\"text-align: left;\">\n",
       "      <th>epoch</th>\n",
       "      <th>train_loss</th>\n",
       "      <th>valid_loss</th>\n",
       "      <th>accuracy_multi</th>\n",
       "      <th>f1_score</th>\n",
       "      <th>roc_auc_score</th>\n",
       "      <th>time</th>\n",
       "    </tr>\n",
       "  </thead>\n",
       "  <tbody>\n",
       "  </tbody>\n",
       "</table>"
      ],
      "text/plain": [
       "<IPython.core.display.HTML object>"
      ]
     },
     "metadata": {},
     "output_type": "display_data"
    },
    {
     "data": {
      "text/html": [
       "\n",
       "<style>\n",
       "    /* Turns off some styling */\n",
       "    progress {\n",
       "        /* gets rid of default border in Firefox and Opera. */\n",
       "        border: none;\n",
       "        /* Needs to be in here for Safari polyfill so background images work as expected. */\n",
       "        background-size: auto;\n",
       "    }\n",
       "    progress:not([value]), progress:not([value])::-webkit-progress-bar {\n",
       "        background: repeating-linear-gradient(45deg, #7e7e7e, #7e7e7e 10px, #5c5c5c 10px, #5c5c5c 20px);\n",
       "    }\n",
       "    .progress-bar-interrupted, .progress-bar-interrupted::-webkit-progress-bar {\n",
       "        background: #F44336;\n",
       "    }\n",
       "</style>\n"
      ],
      "text/plain": [
       "<IPython.core.display.HTML object>"
      ]
     },
     "metadata": {},
     "output_type": "display_data"
    },
    {
     "data": {
      "text/html": [
       "<table border=\"1\" class=\"dataframe\">\n",
       "  <thead>\n",
       "    <tr style=\"text-align: left;\">\n",
       "      <th>epoch</th>\n",
       "      <th>train_loss</th>\n",
       "      <th>valid_loss</th>\n",
       "      <th>accuracy_multi</th>\n",
       "      <th>f1_score</th>\n",
       "      <th>roc_auc_score</th>\n",
       "      <th>time</th>\n",
       "    </tr>\n",
       "  </thead>\n",
       "  <tbody>\n",
       "    <tr>\n",
       "      <td>0</td>\n",
       "      <td>0.250057</td>\n",
       "      <td>0.246788</td>\n",
       "      <td>0.902246</td>\n",
       "      <td>0.229624</td>\n",
       "      <td>0.792345</td>\n",
       "      <td>08:19</td>\n",
       "    </tr>\n",
       "    <tr>\n",
       "      <td>1</td>\n",
       "      <td>0.244111</td>\n",
       "      <td>0.244965</td>\n",
       "      <td>0.901986</td>\n",
       "      <td>0.243870</td>\n",
       "      <td>0.799438</td>\n",
       "      <td>08:24</td>\n",
       "    </tr>\n",
       "    <tr>\n",
       "      <td>2</td>\n",
       "      <td>0.239943</td>\n",
       "      <td>0.243156</td>\n",
       "      <td>0.903260</td>\n",
       "      <td>0.256558</td>\n",
       "      <td>0.801271</td>\n",
       "      <td>08:20</td>\n",
       "    </tr>\n",
       "    <tr>\n",
       "      <td>3</td>\n",
       "      <td>0.236099</td>\n",
       "      <td>0.243939</td>\n",
       "      <td>0.904575</td>\n",
       "      <td>0.268178</td>\n",
       "      <td>0.800615</td>\n",
       "      <td>08:17</td>\n",
       "    </tr>\n",
       "    <tr>\n",
       "      <td>4</td>\n",
       "      <td>0.228450</td>\n",
       "      <td>0.247156</td>\n",
       "      <td>0.903356</td>\n",
       "      <td>0.274579</td>\n",
       "      <td>0.798926</td>\n",
       "      <td>08:16</td>\n",
       "    </tr>\n",
       "    <tr>\n",
       "      <td>5</td>\n",
       "      <td>0.226110</td>\n",
       "      <td>0.246484</td>\n",
       "      <td>0.902863</td>\n",
       "      <td>0.281702</td>\n",
       "      <td>0.805156</td>\n",
       "      <td>08:13</td>\n",
       "    </tr>\n",
       "  </tbody>\n",
       "</table>"
      ],
      "text/plain": [
       "<IPython.core.display.HTML object>"
      ]
     },
     "metadata": {},
     "output_type": "display_data"
    },
    {
     "name": "stdout",
     "output_type": "stream",
     "text": [
      "Better model found at epoch 0 with valid_loss value: 0.24678754806518555.\n",
      "Better model found at epoch 0 with valid_loss value: 0.24678754806518555.\n",
      "Better model found at epoch 0 with valid_loss value: 0.24678754806518555.\n"
     ]
    },
    {
     "data": {
      "image/png": "[encoded data removed]",
      "text/plain": [
       "<Figure size 600x400 with 1 Axes>"
      ]
     },
     "metadata": {},
     "output_type": "display_data"
    },
    {
     "name": "stdout",
     "output_type": "stream",
     "text": [
      "Better model found at epoch 1 with valid_loss value: 0.24496452510356903.\n",
      "Better model found at epoch 1 with valid_loss value: 0.24496452510356903.\n",
      "Better model found at epoch 1 with valid_loss value: 0.24496452510356903.\n",
      "Better model found at epoch 2 with valid_loss value: 0.24315586686134338.\n",
      "Better model found at epoch 2 with valid_loss value: 0.24315586686134338.\n",
      "Better model found at epoch 2 with valid_loss value: 0.24315586686134338.\n",
      "No improvement since epoch 2: early stopping\n"
     ]
    },
    {
     "name": "stderr",
     "output_type": "stream",
     "text": [
      "/usr/local/lib/python3.11/dist-packages/fastai/learner.py:53: FutureWarning: You are using `torch.load` with `weights_only=False` (the current default value), which uses the default pickle module implicitly. It is possible to construct malicious pickle data which will execute arbitrary code during unpickling (See https://github.com/pytorch/pytorch/blob/main/SECURITY.md#untrusted-models for more details). In a future release, the default value for `weights_only` will be flipped to `True`. This limits the functions that could be executed during unpickling. Arbitrary objects will no longer be allowed to be loaded via this mode unless they are explicitly allowlisted by the user via `torch.serialization.add_safe_globals`. We recommend you start setting `weights_only=True` for any use case where you don't have full control of the loaded file. Please open an issue on GitHub for any issues related to this experimental feature.\n",
      "  state = torch.load(file, map_location=device, **torch_load_kwargs)\n"
     ]
    },
    {
     "name": "stdout",
     "output_type": "stream",
     "text": [
      "--------------Phase1-Done---------------\n",
      "--------------Begin-Phase2---------------\n"
     ]
    },
    {
     "name": "stderr",
     "output_type": "stream",
     "text": [
      "/usr/local/lib/python3.11/dist-packages/torchvision/models/_utils.py:208: UserWarning: The parameter 'pretrained' is deprecated since 0.13 and may be removed in the future, please use 'weights' instead.\n",
      "  warnings.warn(\n",
      "/usr/local/lib/python3.11/dist-packages/torchvision/models/_utils.py:223: UserWarning: Arguments other than a weight enum or `None` for 'weights' are deprecated since 0.13 and may be removed in the future. The current behavior is equivalent to passing `weights=EfficientNet_V2_S_Weights.IMAGENET1K_V1`. You can also use `weights=EfficientNet_V2_S_Weights.DEFAULT` to get the most up-to-date weights.\n",
      "  warnings.warn(msg)\n",
      "/usr/local/lib/python3.11/dist-packages/fastai/callback/fp16.py:47: FutureWarning: `torch.cuda.amp.autocast(args...)` is deprecated. Please use `torch.amp.autocast('cuda', args...)` instead.\n",
      "  self.autocast,self.learn.scaler,self.scales = autocast(dtype=dtype),GradScaler(**self.kwargs),L()\n",
      "/usr/local/lib/python3.11/dist-packages/fastai/callback/fp16.py:47: FutureWarning: `torch.cuda.amp.GradScaler(args...)` is deprecated. Please use `torch.amp.GradScaler('cuda', args...)` instead.\n",
      "  self.autocast,self.learn.scaler,self.scales = autocast(dtype=dtype),GradScaler(**self.kwargs),L()\n"
     ]
    },
    {
     "data": {
      "text/html": [
       "\n",
       "<style>\n",
       "    /* Turns off some styling */\n",
       "    progress {\n",
       "        /* gets rid of default border in Firefox and Opera. */\n",
       "        border: none;\n",
       "        /* Needs to be in here for Safari polyfill so background images work as expected. */\n",
       "        background-size: auto;\n",
       "    }\n",
       "    progress:not([value]), progress:not([value])::-webkit-progress-bar {\n",
       "        background: repeating-linear-gradient(45deg, #7e7e7e, #7e7e7e 10px, #5c5c5c 10px, #5c5c5c 20px);\n",
       "    }\n",
       "    .progress-bar-interrupted, .progress-bar-interrupted::-webkit-progress-bar {\n",
       "        background: #F44336;\n",
       "    }\n",
       "</style>\n"
      ],
      "text/plain": [
       "<IPython.core.display.HTML object>"
      ]
     },
     "metadata": {},
     "output_type": "display_data"
    },
    {
     "data": {
      "text/html": [
       "<table border=\"1\" class=\"dataframe\">\n",
       "  <thead>\n",
       "    <tr style=\"text-align: left;\">\n",
       "      <th>epoch</th>\n",
       "      <th>train_loss</th>\n",
       "      <th>valid_loss</th>\n",
       "      <th>accuracy_multi</th>\n",
       "      <th>f1_score</th>\n",
       "      <th>roc_auc_score</th>\n",
       "      <th>time</th>\n",
       "    </tr>\n",
       "  </thead>\n",
       "  <tbody>\n",
       "  </tbody>\n",
       "</table>"
      ],
      "text/plain": [
       "<IPython.core.display.HTML object>"
      ]
     },
     "metadata": {},
     "output_type": "display_data"
    },
    {
     "data": {
      "text/html": [
       "\n",
       "<style>\n",
       "    /* Turns off some styling */\n",
       "    progress {\n",
       "        /* gets rid of default border in Firefox and Opera. */\n",
       "        border: none;\n",
       "        /* Needs to be in here for Safari polyfill so background images work as expected. */\n",
       "        background-size: auto;\n",
       "    }\n",
       "    progress:not([value]), progress:not([value])::-webkit-progress-bar {\n",
       "        background: repeating-linear-gradient(45deg, #7e7e7e, #7e7e7e 10px, #5c5c5c 10px, #5c5c5c 20px);\n",
       "    }\n",
       "    .progress-bar-interrupted, .progress-bar-interrupted::-webkit-progress-bar {\n",
       "        background: #F44336;\n",
       "    }\n",
       "</style>\n"
      ],
      "text/plain": [
       "<IPython.core.display.HTML object>"
      ]
     },
     "metadata": {},
     "output_type": "display_data"
    },
    {
     "data": {
      "text/html": [
       "<table border=\"1\" class=\"dataframe\">\n",
       "  <thead>\n",
       "    <tr style=\"text-align: left;\">\n",
       "      <th>epoch</th>\n",
       "      <th>train_loss</th>\n",
       "      <th>valid_loss</th>\n",
       "      <th>accuracy_multi</th>\n",
       "      <th>f1_score</th>\n",
       "      <th>roc_auc_score</th>\n",
       "      <th>time</th>\n",
       "    </tr>\n",
       "  </thead>\n",
       "  <tbody>\n",
       "    <tr>\n",
       "      <td>0</td>\n",
       "      <td>0.031161</td>\n",
       "      <td>0.030049</td>\n",
       "      <td>0.932741</td>\n",
       "      <td>0.292028</td>\n",
       "      <td>0.837680</td>\n",
       "      <td>18:05</td>\n",
       "    </tr>\n",
       "    <tr>\n",
       "      <td>1</td>\n",
       "      <td>0.030283</td>\n",
       "      <td>0.029336</td>\n",
       "      <td>0.933963</td>\n",
       "      <td>0.302908</td>\n",
       "      <td>0.840323</td>\n",
       "      <td>17:58</td>\n",
       "    </tr>\n",
       "    <tr>\n",
       "      <td>2</td>\n",
       "      <td>0.029541</td>\n",
       "      <td>0.029131</td>\n",
       "      <td>0.933658</td>\n",
       "      <td>0.294423</td>\n",
       "      <td>0.844978</td>\n",
       "      <td>17:53</td>\n",
       "    </tr>\n",
       "    <tr>\n",
       "      <td>3</td>\n",
       "      <td>0.028684</td>\n",
       "      <td>0.028968</td>\n",
       "      <td>0.935402</td>\n",
       "      <td>0.312162</td>\n",
       "      <td>0.848057</td>\n",
       "      <td>17:51</td>\n",
       "    </tr>\n",
       "    <tr>\n",
       "      <td>4</td>\n",
       "      <td>0.028331</td>\n",
       "      <td>0.029113</td>\n",
       "      <td>0.936001</td>\n",
       "      <td>0.309826</td>\n",
       "      <td>0.850642</td>\n",
       "      <td>17:48</td>\n",
       "    </tr>\n",
       "  </tbody>\n",
       "</table>"
      ],
      "text/plain": [
       "<IPython.core.display.HTML object>"
      ]
     },
     "metadata": {},
     "output_type": "display_data"
    },
    {
     "name": "stdout",
     "output_type": "stream",
     "text": [
      "Better model found at epoch 0 with valid_loss value: 0.030048711225390434.\n",
      "Better model found at epoch 0 with valid_loss value: 0.030048711225390434.\n",
      "Better model found at epoch 0 with valid_loss value: 0.030048711225390434.\n"
     ]
    },
    {
     "data": {
      "image/png": "[encoded data removed]",
      "text/plain": [
       "<Figure size 600x400 with 1 Axes>"
      ]
     },
     "metadata": {},
     "output_type": "display_data"
    },
    {
     "name": "stdout",
     "output_type": "stream",
     "text": [
      "Better model found at epoch 1 with valid_loss value: 0.02933594398200512.\n",
      "Better model found at epoch 1 with valid_loss value: 0.02933594398200512.\n",
      "Better model found at epoch 1 with valid_loss value: 0.02933594398200512.\n",
      "Better model found at epoch 2 with valid_loss value: 0.029131421819329262.\n",
      "Better model found at epoch 2 with valid_loss value: 0.029131421819329262.\n",
      "Better model found at epoch 2 with valid_loss value: 0.029131421819329262.\n",
      "Better model found at epoch 3 with valid_loss value: 0.02896786481142044.\n",
      "Better model found at epoch 3 with valid_loss value: 0.02896786481142044.\n",
      "Better model found at epoch 3 with valid_loss value: 0.02896786481142044.\n"
     ]
    },
    {
     "name": "stderr",
     "output_type": "stream",
     "text": [
      "/usr/local/lib/python3.11/dist-packages/fastai/learner.py:53: FutureWarning: You are using `torch.load` with `weights_only=False` (the current default value), which uses the default pickle module implicitly. It is possible to construct malicious pickle data which will execute arbitrary code during unpickling (See https://github.com/pytorch/pytorch/blob/main/SECURITY.md#untrusted-models for more details). In a future release, the default value for `weights_only` will be flipped to `True`. This limits the functions that could be executed during unpickling. Arbitrary objects will no longer be allowed to be loaded via this mode unless they are explicitly allowlisted by the user via `torch.serialization.add_safe_globals`. We recommend you start setting `weights_only=True` for any use case where you don't have full control of the loaded file. Please open an issue on GitHub for any issues related to this experimental feature.\n",
      "  state = torch.load(file, map_location=device, **torch_load_kwargs)\n"
     ]
    },
    {
     "name": "stdout",
     "output_type": "stream",
     "text": [
      "--------------Phase2-Done---------------\n",
      "--------------Begin-Testing---------------\n"
     ]
    },
    {
     "name": "stderr",
     "output_type": "stream",
     "text": [
      "/usr/local/lib/python3.11/dist-packages/torchvision/models/_utils.py:208: UserWarning: The parameter 'pretrained' is deprecated since 0.13 and may be removed in the future, please use 'weights' instead.\n",
      "  warnings.warn(\n",
      "/usr/local/lib/python3.11/dist-packages/torchvision/models/_utils.py:223: UserWarning: Arguments other than a weight enum or `None` for 'weights' are deprecated since 0.13 and may be removed in the future. The current behavior is equivalent to passing `weights=EfficientNet_V2_S_Weights.IMAGENET1K_V1`. You can also use `weights=EfficientNet_V2_S_Weights.DEFAULT` to get the most up-to-date weights.\n",
      "  warnings.warn(msg)\n",
      "/usr/local/lib/python3.11/dist-packages/fastai/callback/fp16.py:47: FutureWarning: `torch.cuda.amp.autocast(args...)` is deprecated. Please use `torch.amp.autocast('cuda', args...)` instead.\n",
      "  self.autocast,self.learn.scaler,self.scales = autocast(dtype=dtype),GradScaler(**self.kwargs),L()\n",
      "/usr/local/lib/python3.11/dist-packages/fastai/callback/fp16.py:47: FutureWarning: `torch.cuda.amp.GradScaler(args...)` is deprecated. Please use `torch.amp.GradScaler('cuda', args...)` instead.\n",
      "  self.autocast,self.learn.scaler,self.scales = autocast(dtype=dtype),GradScaler(**self.kwargs),L()\n"
     ]
    },
    {
     "data": {
      "text/html": [
       "\n",
       "<style>\n",
       "    /* Turns off some styling */\n",
       "    progress {\n",
       "        /* gets rid of default border in Firefox and Opera. */\n",
       "        border: none;\n",
       "        /* Needs to be in here for Safari polyfill so background images work as expected. */\n",
       "        background-size: auto;\n",
       "    }\n",
       "    progress:not([value]), progress:not([value])::-webkit-progress-bar {\n",
       "        background: repeating-linear-gradient(45deg, #7e7e7e, #7e7e7e 10px, #5c5c5c 10px, #5c5c5c 20px);\n",
       "    }\n",
       "    .progress-bar-interrupted, .progress-bar-interrupted::-webkit-progress-bar {\n",
       "        background: #F44336;\n",
       "    }\n",
       "</style>\n"
      ],
      "text/plain": [
       "<IPython.core.display.HTML object>"
      ]
     },
     "metadata": {},
     "output_type": "display_data"
    },
    {
     "data": {
      "text/html": [],
      "text/plain": [
       "<IPython.core.display.HTML object>"
      ]
     },
     "metadata": {},
     "output_type": "display_data"
    },
    {
     "data": {
      "text/html": [
       "\n",
       "<style>\n",
       "    /* Turns off some styling */\n",
       "    progress {\n",
       "        /* gets rid of default border in Firefox and Opera. */\n",
       "        border: none;\n",
       "        /* Needs to be in here for Safari polyfill so background images work as expected. */\n",
       "        background-size: auto;\n",
       "    }\n",
       "    progress:not([value]), progress:not([value])::-webkit-progress-bar {\n",
       "        background: repeating-linear-gradient(45deg, #7e7e7e, #7e7e7e 10px, #5c5c5c 10px, #5c5c5c 20px);\n",
       "    }\n",
       "    .progress-bar-interrupted, .progress-bar-interrupted::-webkit-progress-bar {\n",
       "        background: #F44336;\n",
       "    }\n",
       "</style>\n"
      ],
      "text/plain": [
       "<IPython.core.display.HTML object>"
      ]
     },
     "metadata": {},
     "output_type": "display_data"
    },
    {
     "data": {
      "text/html": [],
      "text/plain": [
       "<IPython.core.display.HTML object>"
      ]
     },
     "metadata": {},
     "output_type": "display_data"
    },
    {
     "name": "stdout",
     "output_type": "stream",
     "text": [
      "ROC_AUC_Labels: [('Atelectasis', 0.8153740953900506), ('Consolidation', 0.798648893346148), ('Infiltration', 0.7169645448335291), ('Pneumothorax', 0.8859803976687093), ('Edema', 0.8948780714529173), ('Emphysema', 0.9218688569120684), ('Fibrosis', 0.8424010089946563), ('Effusion', 0.9083158131029423), ('Pneumonia', 0.7312036895577114), ('Pleural_Thickening', 0.8326501303382358), ('Cardiomegaly', 0.9151565864689617), ('Nodule', 0.778409904184069), ('Mass', 0.8717151467505242), ('Hernia', 0.9788899856424983)]\n",
      "SCORE: 0.8494612231887874\n",
      "Error in experiment: 'class_auc'\n",
      "\n",
      "Experiment 3/4\n",
      "\n",
      "=== Running experiment: momentum=0.99, k=4, threshold=0.2 ===\n",
      "--------------Begin-Phase1---------------\n"
     ]
    },
    {
     "name": "stderr",
     "output_type": "stream",
     "text": [
      "/usr/local/lib/python3.11/dist-packages/torchvision/models/_utils.py:208: UserWarning: The parameter 'pretrained' is deprecated since 0.13 and may be removed in the future, please use 'weights' instead.\n",
      "  warnings.warn(\n",
      "/usr/local/lib/python3.11/dist-packages/torchvision/models/_utils.py:223: UserWarning: Arguments other than a weight enum or `None` for 'weights' are deprecated since 0.13 and may be removed in the future. The current behavior is equivalent to passing `weights=EfficientNet_V2_S_Weights.IMAGENET1K_V1`. You can also use `weights=EfficientNet_V2_S_Weights.DEFAULT` to get the most up-to-date weights.\n",
      "  warnings.warn(msg)\n",
      "/usr/local/lib/python3.11/dist-packages/fastai/callback/fp16.py:47: FutureWarning: `torch.cuda.amp.autocast(args...)` is deprecated. Please use `torch.amp.autocast('cuda', args...)` instead.\n",
      "  self.autocast,self.learn.scaler,self.scales = autocast(dtype=dtype),GradScaler(**self.kwargs),L()\n",
      "/usr/local/lib/python3.11/dist-packages/fastai/callback/fp16.py:47: FutureWarning: `torch.cuda.amp.GradScaler(args...)` is deprecated. Please use `torch.amp.GradScaler('cuda', args...)` instead.\n",
      "  self.autocast,self.learn.scaler,self.scales = autocast(dtype=dtype),GradScaler(**self.kwargs),L()\n"
     ]
    },
    {
     "data": {
      "text/html": [
       "\n",
       "<style>\n",
       "    /* Turns off some styling */\n",
       "    progress {\n",
       "        /* gets rid of default border in Firefox and Opera. */\n",
       "        border: none;\n",
       "        /* Needs to be in here for Safari polyfill so background images work as expected. */\n",
       "        background-size: auto;\n",
       "    }\n",
       "    progress:not([value]), progress:not([value])::-webkit-progress-bar {\n",
       "        background: repeating-linear-gradient(45deg, #7e7e7e, #7e7e7e 10px, #5c5c5c 10px, #5c5c5c 20px);\n",
       "    }\n",
       "    .progress-bar-interrupted, .progress-bar-interrupted::-webkit-progress-bar {\n",
       "        background: #F44336;\n",
       "    }\n",
       "</style>\n"
      ],
      "text/plain": [
       "<IPython.core.display.HTML object>"
      ]
     },
     "metadata": {},
     "output_type": "display_data"
    },
    {
     "data": {
      "text/html": [],
      "text/plain": [
       "<IPython.core.display.HTML object>"
      ]
     },
     "metadata": {},
     "output_type": "display_data"
    },
    {
     "data": {
      "text/html": [
       "\n",
       "<style>\n",
       "    /* Turns off some styling */\n",
       "    progress {\n",
       "        /* gets rid of default border in Firefox and Opera. */\n",
       "        border: none;\n",
       "        /* Needs to be in here for Safari polyfill so background images work as expected. */\n",
       "        background-size: auto;\n",
       "    }\n",
       "    progress:not([value]), progress:not([value])::-webkit-progress-bar {\n",
       "        background: repeating-linear-gradient(45deg, #7e7e7e, #7e7e7e 10px, #5c5c5c 10px, #5c5c5c 20px);\n",
       "    }\n",
       "    .progress-bar-interrupted, .progress-bar-interrupted::-webkit-progress-bar {\n",
       "        background: #F44336;\n",
       "    }\n",
       "</style>\n"
      ],
      "text/plain": [
       "<IPython.core.display.HTML object>"
      ]
     },
     "metadata": {},
     "output_type": "display_data"
    },
    {
     "data": {
      "text/html": [],
      "text/plain": [
       "<IPython.core.display.HTML object>"
      ]
     },
     "metadata": {},
     "output_type": "display_data"
    },
    {
     "name": "stderr",
     "output_type": "stream",
     "text": [
      "/usr/local/lib/python3.11/dist-packages/fastai/learner.py:53: FutureWarning: You are using `torch.load` with `weights_only=False` (the current default value), which uses the default pickle module implicitly. It is possible to construct malicious pickle data which will execute arbitrary code during unpickling (See https://github.com/pytorch/pytorch/blob/main/SECURITY.md#untrusted-models for more details). In a future release, the default value for `weights_only` will be flipped to `True`. This limits the functions that could be executed during unpickling. Arbitrary objects will no longer be allowed to be loaded via this mode unless they are explicitly allowlisted by the user via `torch.serialization.add_safe_globals`. We recommend you start setting `weights_only=True` for any use case where you don't have full control of the loaded file. Please open an issue on GitHub for any issues related to this experimental feature.\n",
      "  state = torch.load(file, map_location=device, **torch_load_kwargs)\n"
     ]
    },
    {
     "name": "stdout",
     "output_type": "stream",
     "text": [
      "initial learning rate= 0.00019054606673307717\n"
     ]
    },
    {
     "data": {
      "text/html": [
       "\n",
       "<style>\n",
       "    /* Turns off some styling */\n",
       "    progress {\n",
       "        /* gets rid of default border in Firefox and Opera. */\n",
       "        border: none;\n",
       "        /* Needs to be in here for Safari polyfill so background images work as expected. */\n",
       "        background-size: auto;\n",
       "    }\n",
       "    progress:not([value]), progress:not([value])::-webkit-progress-bar {\n",
       "        background: repeating-linear-gradient(45deg, #7e7e7e, #7e7e7e 10px, #5c5c5c 10px, #5c5c5c 20px);\n",
       "    }\n",
       "    .progress-bar-interrupted, .progress-bar-interrupted::-webkit-progress-bar {\n",
       "        background: #F44336;\n",
       "    }\n",
       "</style>\n"
      ],
      "text/plain": [
       "<IPython.core.display.HTML object>"
      ]
     },
     "metadata": {},
     "output_type": "display_data"
    },
    {
     "data": {
      "text/html": [
       "<table border=\"1\" class=\"dataframe\">\n",
       "  <thead>\n",
       "    <tr style=\"text-align: left;\">\n",
       "      <th>epoch</th>\n",
       "      <th>train_loss</th>\n",
       "      <th>valid_loss</th>\n",
       "      <th>accuracy_multi</th>\n",
       "      <th>f1_score</th>\n",
       "      <th>roc_auc_score</th>\n",
       "      <th>time</th>\n",
       "    </tr>\n",
       "  </thead>\n",
       "  <tbody>\n",
       "  </tbody>\n",
       "</table>"
      ],
      "text/plain": [
       "<IPython.core.display.HTML object>"
      ]
     },
     "metadata": {},
     "output_type": "display_data"
    },
    {
     "data": {
      "text/html": [
       "\n",
       "<style>\n",
       "    /* Turns off some styling */\n",
       "    progress {\n",
       "        /* gets rid of default border in Firefox and Opera. */\n",
       "        border: none;\n",
       "        /* Needs to be in here for Safari polyfill so background images work as expected. */\n",
       "        background-size: auto;\n",
       "    }\n",
       "    progress:not([value]), progress:not([value])::-webkit-progress-bar {\n",
       "        background: repeating-linear-gradient(45deg, #7e7e7e, #7e7e7e 10px, #5c5c5c 10px, #5c5c5c 20px);\n",
       "    }\n",
       "    .progress-bar-interrupted, .progress-bar-interrupted::-webkit-progress-bar {\n",
       "        background: #F44336;\n",
       "    }\n",
       "</style>\n"
      ],
      "text/plain": [
       "<IPython.core.display.HTML object>"
      ]
     },
     "metadata": {},
     "output_type": "display_data"
    },
    {
     "data": {
      "text/html": [
       "<table border=\"1\" class=\"dataframe\">\n",
       "  <thead>\n",
       "    <tr style=\"text-align: left;\">\n",
       "      <th>epoch</th>\n",
       "      <th>train_loss</th>\n",
       "      <th>valid_loss</th>\n",
       "      <th>accuracy_multi</th>\n",
       "      <th>f1_score</th>\n",
       "      <th>roc_auc_score</th>\n",
       "      <th>time</th>\n",
       "    </tr>\n",
       "  </thead>\n",
       "  <tbody>\n",
       "    <tr>\n",
       "      <td>0</td>\n",
       "      <td>0.317529</td>\n",
       "      <td>0.299562</td>\n",
       "      <td>0.889248</td>\n",
       "      <td>0.000770</td>\n",
       "      <td>0.542714</td>\n",
       "      <td>08:15</td>\n",
       "    </tr>\n",
       "    <tr>\n",
       "      <td>1</td>\n",
       "      <td>0.290127</td>\n",
       "      <td>0.276745</td>\n",
       "      <td>0.893960</td>\n",
       "      <td>0.088636</td>\n",
       "      <td>0.689771</td>\n",
       "      <td>08:07</td>\n",
       "    </tr>\n",
       "    <tr>\n",
       "      <td>2</td>\n",
       "      <td>0.264986</td>\n",
       "      <td>0.256714</td>\n",
       "      <td>0.899411</td>\n",
       "      <td>0.181009</td>\n",
       "      <td>0.764403</td>\n",
       "      <td>08:02</td>\n",
       "    </tr>\n",
       "  </tbody>\n",
       "</table>"
      ],
      "text/plain": [
       "<IPython.core.display.HTML object>"
      ]
     },
     "metadata": {},
     "output_type": "display_data"
    },
    {
     "name": "stdout",
     "output_type": "stream",
     "text": [
      "Better model found at epoch 0 with valid_loss value: 0.29956233501434326.\n",
      "Better model found at epoch 0 with valid_loss value: 0.29956233501434326.\n",
      "Better model found at epoch 0 with valid_loss value: 0.29956233501434326.\n"
     ]
    },
    {
     "data": {
      "image/png": "[encoded data removed]",
      "text/plain": [
       "<Figure size 600x400 with 1 Axes>"
      ]
     },
     "metadata": {},
     "output_type": "display_data"
    },
    {
     "name": "stdout",
     "output_type": "stream",
     "text": [
      "Better model found at epoch 1 with valid_loss value: 0.27674534916877747.\n",
      "Better model found at epoch 1 with valid_loss value: 0.27674534916877747.\n",
      "Better model found at epoch 1 with valid_loss value: 0.27674534916877747.\n",
      "Better model found at epoch 2 with valid_loss value: 0.2567141354084015.\n",
      "Better model found at epoch 2 with valid_loss value: 0.2567141354084015.\n",
      "Better model found at epoch 2 with valid_loss value: 0.2567141354084015.\n"
     ]
    },
    {
     "name": "stderr",
     "output_type": "stream",
     "text": [
      "/usr/local/lib/python3.11/dist-packages/fastai/learner.py:53: FutureWarning: You are using `torch.load` with `weights_only=False` (the current default value), which uses the default pickle module implicitly. It is possible to construct malicious pickle data which will execute arbitrary code during unpickling (See https://github.com/pytorch/pytorch/blob/main/SECURITY.md#untrusted-models for more details). In a future release, the default value for `weights_only` will be flipped to `True`. This limits the functions that could be executed during unpickling. Arbitrary objects will no longer be allowed to be loaded via this mode unless they are explicitly allowlisted by the user via `torch.serialization.add_safe_globals`. We recommend you start setting `weights_only=True` for any use case where you don't have full control of the loaded file. Please open an issue on GitHub for any issues related to this experimental feature.\n",
      "  state = torch.load(file, map_location=device, **torch_load_kwargs)\n",
      "/usr/local/lib/python3.11/dist-packages/fastai/callback/fp16.py:47: FutureWarning: `torch.cuda.amp.autocast(args...)` is deprecated. Please use `torch.amp.autocast('cuda', args...)` instead.\n",
      "  self.autocast,self.learn.scaler,self.scales = autocast(dtype=dtype),GradScaler(**self.kwargs),L()\n",
      "/usr/local/lib/python3.11/dist-packages/fastai/callback/fp16.py:47: FutureWarning: `torch.cuda.amp.GradScaler(args...)` is deprecated. Please use `torch.amp.GradScaler('cuda', args...)` instead.\n",
      "  self.autocast,self.learn.scaler,self.scales = autocast(dtype=dtype),GradScaler(**self.kwargs),L()\n"
     ]
    },
    {
     "data": {
      "text/html": [
       "\n",
       "<style>\n",
       "    /* Turns off some styling */\n",
       "    progress {\n",
       "        /* gets rid of default border in Firefox and Opera. */\n",
       "        border: none;\n",
       "        /* Needs to be in here for Safari polyfill so background images work as expected. */\n",
       "        background-size: auto;\n",
       "    }\n",
       "    progress:not([value]), progress:not([value])::-webkit-progress-bar {\n",
       "        background: repeating-linear-gradient(45deg, #7e7e7e, #7e7e7e 10px, #5c5c5c 10px, #5c5c5c 20px);\n",
       "    }\n",
       "    .progress-bar-interrupted, .progress-bar-interrupted::-webkit-progress-bar {\n",
       "        background: #F44336;\n",
       "    }\n",
       "</style>\n"
      ],
      "text/plain": [
       "<IPython.core.display.HTML object>"
      ]
     },
     "metadata": {},
     "output_type": "display_data"
    },
    {
     "data": {
      "text/html": [
       "<table border=\"1\" class=\"dataframe\">\n",
       "  <thead>\n",
       "    <tr style=\"text-align: left;\">\n",
       "      <th>epoch</th>\n",
       "      <th>train_loss</th>\n",
       "      <th>valid_loss</th>\n",
       "      <th>accuracy_multi</th>\n",
       "      <th>f1_score</th>\n",
       "      <th>roc_auc_score</th>\n",
       "      <th>time</th>\n",
       "    </tr>\n",
       "  </thead>\n",
       "  <tbody>\n",
       "  </tbody>\n",
       "</table>"
      ],
      "text/plain": [
       "<IPython.core.display.HTML object>"
      ]
     },
     "metadata": {},
     "output_type": "display_data"
    },
    {
     "data": {
      "text/html": [
       "\n",
       "<style>\n",
       "    /* Turns off some styling */\n",
       "    progress {\n",
       "        /* gets rid of default border in Firefox and Opera. */\n",
       "        border: none;\n",
       "        /* Needs to be in here for Safari polyfill so background images work as expected. */\n",
       "        background-size: auto;\n",
       "    }\n",
       "    progress:not([value]), progress:not([value])::-webkit-progress-bar {\n",
       "        background: repeating-linear-gradient(45deg, #7e7e7e, #7e7e7e 10px, #5c5c5c 10px, #5c5c5c 20px);\n",
       "    }\n",
       "    .progress-bar-interrupted, .progress-bar-interrupted::-webkit-progress-bar {\n",
       "        background: #F44336;\n",
       "    }\n",
       "</style>\n"
      ],
      "text/plain": [
       "<IPython.core.display.HTML object>"
      ]
     },
     "metadata": {},
     "output_type": "display_data"
    },
    {
     "data": {
      "text/html": [
       "<table border=\"1\" class=\"dataframe\">\n",
       "  <thead>\n",
       "    <tr style=\"text-align: left;\">\n",
       "      <th>epoch</th>\n",
       "      <th>train_loss</th>\n",
       "      <th>valid_loss</th>\n",
       "      <th>accuracy_multi</th>\n",
       "      <th>f1_score</th>\n",
       "      <th>roc_auc_score</th>\n",
       "      <th>time</th>\n",
       "    </tr>\n",
       "  </thead>\n",
       "  <tbody>\n",
       "    <tr>\n",
       "      <td>0</td>\n",
       "      <td>0.249697</td>\n",
       "      <td>0.249740</td>\n",
       "      <td>0.902219</td>\n",
       "      <td>0.233912</td>\n",
       "      <td>0.781831</td>\n",
       "      <td>08:07</td>\n",
       "    </tr>\n",
       "    <tr>\n",
       "      <td>1</td>\n",
       "      <td>0.244327</td>\n",
       "      <td>0.247294</td>\n",
       "      <td>0.902862</td>\n",
       "      <td>0.241384</td>\n",
       "      <td>0.787923</td>\n",
       "      <td>08:06</td>\n",
       "    </tr>\n",
       "    <tr>\n",
       "      <td>2</td>\n",
       "      <td>0.242840</td>\n",
       "      <td>0.245499</td>\n",
       "      <td>0.902808</td>\n",
       "      <td>0.246460</td>\n",
       "      <td>0.798548</td>\n",
       "      <td>08:11</td>\n",
       "    </tr>\n",
       "    <tr>\n",
       "      <td>3</td>\n",
       "      <td>0.236465</td>\n",
       "      <td>0.246443</td>\n",
       "      <td>0.902493</td>\n",
       "      <td>0.249891</td>\n",
       "      <td>0.802534</td>\n",
       "      <td>08:11</td>\n",
       "    </tr>\n",
       "    <tr>\n",
       "      <td>4</td>\n",
       "      <td>0.236362</td>\n",
       "      <td>0.245159</td>\n",
       "      <td>0.903671</td>\n",
       "      <td>0.277876</td>\n",
       "      <td>0.802583</td>\n",
       "      <td>08:06</td>\n",
       "    </tr>\n",
       "    <tr>\n",
       "      <td>5</td>\n",
       "      <td>0.229649</td>\n",
       "      <td>0.244184</td>\n",
       "      <td>0.903986</td>\n",
       "      <td>0.306984</td>\n",
       "      <td>0.800973</td>\n",
       "      <td>08:06</td>\n",
       "    </tr>\n",
       "    <tr>\n",
       "      <td>6</td>\n",
       "      <td>0.220882</td>\n",
       "      <td>0.246528</td>\n",
       "      <td>0.903493</td>\n",
       "      <td>0.318390</td>\n",
       "      <td>0.809002</td>\n",
       "      <td>08:03</td>\n",
       "    </tr>\n",
       "    <tr>\n",
       "      <td>7</td>\n",
       "      <td>0.211585</td>\n",
       "      <td>0.251054</td>\n",
       "      <td>0.902110</td>\n",
       "      <td>0.322517</td>\n",
       "      <td>0.804133</td>\n",
       "      <td>08:05</td>\n",
       "    </tr>\n",
       "    <tr>\n",
       "      <td>8</td>\n",
       "      <td>0.200316</td>\n",
       "      <td>0.253995</td>\n",
       "      <td>0.899521</td>\n",
       "      <td>0.343406</td>\n",
       "      <td>0.804405</td>\n",
       "      <td>08:08</td>\n",
       "    </tr>\n",
       "  </tbody>\n",
       "</table>"
      ],
      "text/plain": [
       "<IPython.core.display.HTML object>"
      ]
     },
     "metadata": {},
     "output_type": "display_data"
    },
    {
     "name": "stdout",
     "output_type": "stream",
     "text": [
      "Better model found at epoch 0 with valid_loss value: 0.2497396171092987.\n",
      "Better model found at epoch 0 with valid_loss value: 0.2497396171092987.\n",
      "Better model found at epoch 0 with valid_loss value: 0.2497396171092987.\n"
     ]
    },
    {
     "data": {
      "image/png": "[encoded data removed]",
      "text/plain": [
       "<Figure size 600x400 with 1 Axes>"
      ]
     },
     "metadata": {},
     "output_type": "display_data"
    },
    {
     "name": "stdout",
     "output_type": "stream",
     "text": [
      "Better model found at epoch 1 with valid_loss value: 0.2472941279411316.\n",
      "Better model found at epoch 1 with valid_loss value: 0.2472941279411316.\n",
      "Better model found at epoch 1 with valid_loss value: 0.2472941279411316.\n",
      "Better model found at epoch 2 with valid_loss value: 0.24549852311611176.\n",
      "Better model found at epoch 2 with valid_loss value: 0.24549852311611176.\n",
      "Better model found at epoch 2 with valid_loss value: 0.24549852311611176.\n",
      "Better model found at epoch 4 with valid_loss value: 0.24515892565250397.\n",
      "Better model found at epoch 4 with valid_loss value: 0.24515892565250397.\n",
      "Better model found at epoch 4 with valid_loss value: 0.24515892565250397.\n",
      "Better model found at epoch 5 with valid_loss value: 0.2441844493150711.\n",
      "Better model found at epoch 5 with valid_loss value: 0.2441844493150711.\n",
      "Better model found at epoch 5 with valid_loss value: 0.2441844493150711.\n",
      "No improvement since epoch 5: early stopping\n"
     ]
    },
    {
     "name": "stderr",
     "output_type": "stream",
     "text": [
      "/usr/local/lib/python3.11/dist-packages/fastai/learner.py:53: FutureWarning: You are using `torch.load` with `weights_only=False` (the current default value), which uses the default pickle module implicitly. It is possible to construct malicious pickle data which will execute arbitrary code during unpickling (See https://github.com/pytorch/pytorch/blob/main/SECURITY.md#untrusted-models for more details). In a future release, the default value for `weights_only` will be flipped to `True`. This limits the functions that could be executed during unpickling. Arbitrary objects will no longer be allowed to be loaded via this mode unless they are explicitly allowlisted by the user via `torch.serialization.add_safe_globals`. We recommend you start setting `weights_only=True` for any use case where you don't have full control of the loaded file. Please open an issue on GitHub for any issues related to this experimental feature.\n",
      "  state = torch.load(file, map_location=device, **torch_load_kwargs)\n"
     ]
    },
    {
     "name": "stdout",
     "output_type": "stream",
     "text": [
      "--------------Phase1-Done---------------\n",
      "--------------Begin-Phase2---------------\n"
     ]
    },
    {
     "name": "stderr",
     "output_type": "stream",
     "text": [
      "/usr/local/lib/python3.11/dist-packages/torchvision/models/_utils.py:208: UserWarning: The parameter 'pretrained' is deprecated since 0.13 and may be removed in the future, please use 'weights' instead.\n",
      "  warnings.warn(\n",
      "/usr/local/lib/python3.11/dist-packages/torchvision/models/_utils.py:223: UserWarning: Arguments other than a weight enum or `None` for 'weights' are deprecated since 0.13 and may be removed in the future. The current behavior is equivalent to passing `weights=EfficientNet_V2_S_Weights.IMAGENET1K_V1`. You can also use `weights=EfficientNet_V2_S_Weights.DEFAULT` to get the most up-to-date weights.\n",
      "  warnings.warn(msg)\n",
      "/usr/local/lib/python3.11/dist-packages/fastai/callback/fp16.py:47: FutureWarning: `torch.cuda.amp.autocast(args...)` is deprecated. Please use `torch.amp.autocast('cuda', args...)` instead.\n",
      "  self.autocast,self.learn.scaler,self.scales = autocast(dtype=dtype),GradScaler(**self.kwargs),L()\n",
      "/usr/local/lib/python3.11/dist-packages/fastai/callback/fp16.py:47: FutureWarning: `torch.cuda.amp.GradScaler(args...)` is deprecated. Please use `torch.amp.GradScaler('cuda', args...)` instead.\n",
      "  self.autocast,self.learn.scaler,self.scales = autocast(dtype=dtype),GradScaler(**self.kwargs),L()\n"
     ]
    },
    {
     "data": {
      "text/html": [
       "\n",
       "<style>\n",
       "    /* Turns off some styling */\n",
       "    progress {\n",
       "        /* gets rid of default border in Firefox and Opera. */\n",
       "        border: none;\n",
       "        /* Needs to be in here for Safari polyfill so background images work as expected. */\n",
       "        background-size: auto;\n",
       "    }\n",
       "    progress:not([value]), progress:not([value])::-webkit-progress-bar {\n",
       "        background: repeating-linear-gradient(45deg, #7e7e7e, #7e7e7e 10px, #5c5c5c 10px, #5c5c5c 20px);\n",
       "    }\n",
       "    .progress-bar-interrupted, .progress-bar-interrupted::-webkit-progress-bar {\n",
       "        background: #F44336;\n",
       "    }\n",
       "</style>\n"
      ],
      "text/plain": [
       "<IPython.core.display.HTML object>"
      ]
     },
     "metadata": {},
     "output_type": "display_data"
    },
    {
     "data": {
      "text/html": [
       "<table border=\"1\" class=\"dataframe\">\n",
       "  <thead>\n",
       "    <tr style=\"text-align: left;\">\n",
       "      <th>epoch</th>\n",
       "      <th>train_loss</th>\n",
       "      <th>valid_loss</th>\n",
       "      <th>accuracy_multi</th>\n",
       "      <th>f1_score</th>\n",
       "      <th>roc_auc_score</th>\n",
       "      <th>time</th>\n",
       "    </tr>\n",
       "  </thead>\n",
       "  <tbody>\n",
       "  </tbody>\n",
       "</table>"
      ],
      "text/plain": [
       "<IPython.core.display.HTML object>"
      ]
     },
     "metadata": {},
     "output_type": "display_data"
    },
    {
     "data": {
      "text/html": [
       "\n",
       "<style>\n",
       "    /* Turns off some styling */\n",
       "    progress {\n",
       "        /* gets rid of default border in Firefox and Opera. */\n",
       "        border: none;\n",
       "        /* Needs to be in here for Safari polyfill so background images work as expected. */\n",
       "        background-size: auto;\n",
       "    }\n",
       "    progress:not([value]), progress:not([value])::-webkit-progress-bar {\n",
       "        background: repeating-linear-gradient(45deg, #7e7e7e, #7e7e7e 10px, #5c5c5c 10px, #5c5c5c 20px);\n",
       "    }\n",
       "    .progress-bar-interrupted, .progress-bar-interrupted::-webkit-progress-bar {\n",
       "        background: #F44336;\n",
       "    }\n",
       "</style>\n"
      ],
      "text/plain": [
       "<IPython.core.display.HTML object>"
      ]
     },
     "metadata": {},
     "output_type": "display_data"
    },
    {
     "data": {
      "text/html": [
       "<table border=\"1\" class=\"dataframe\">\n",
       "  <thead>\n",
       "    <tr style=\"text-align: left;\">\n",
       "      <th>epoch</th>\n",
       "      <th>train_loss</th>\n",
       "      <th>valid_loss</th>\n",
       "      <th>accuracy_multi</th>\n",
       "      <th>f1_score</th>\n",
       "      <th>roc_auc_score</th>\n",
       "      <th>time</th>\n",
       "    </tr>\n",
       "  </thead>\n",
       "  <tbody>\n",
       "    <tr>\n",
       "      <td>0</td>\n",
       "      <td>0.030035</td>\n",
       "      <td>0.028468</td>\n",
       "      <td>0.937478</td>\n",
       "      <td>0.351829</td>\n",
       "      <td>0.864144</td>\n",
       "      <td>17:57</td>\n",
       "    </tr>\n",
       "    <tr>\n",
       "      <td>1</td>\n",
       "      <td>0.029178</td>\n",
       "      <td>0.028066</td>\n",
       "      <td>0.938063</td>\n",
       "      <td>0.353283</td>\n",
       "      <td>0.870299</td>\n",
       "      <td>17:58</td>\n",
       "    </tr>\n",
       "    <tr>\n",
       "      <td>2</td>\n",
       "      <td>0.028543</td>\n",
       "      <td>0.027774</td>\n",
       "      <td>0.939381</td>\n",
       "      <td>0.368232</td>\n",
       "      <td>0.875421</td>\n",
       "      <td>18:00</td>\n",
       "    </tr>\n",
       "    <tr>\n",
       "      <td>3</td>\n",
       "      <td>0.027933</td>\n",
       "      <td>0.027522</td>\n",
       "      <td>0.937465</td>\n",
       "      <td>0.373726</td>\n",
       "      <td>0.878017</td>\n",
       "      <td>17:49</td>\n",
       "    </tr>\n",
       "  </tbody>\n",
       "</table>"
      ],
      "text/plain": [
       "<IPython.core.display.HTML object>"
      ]
     },
     "metadata": {},
     "output_type": "display_data"
    },
    {
     "name": "stdout",
     "output_type": "stream",
     "text": [
      "Better model found at epoch 0 with valid_loss value: 0.02846839837729931.\n",
      "Better model found at epoch 0 with valid_loss value: 0.02846839837729931.\n",
      "Better model found at epoch 0 with valid_loss value: 0.02846839837729931.\n"
     ]
    },
    {
     "data": {
      "image/png": "[encoded data removed]",
      "text/plain": [
       "<Figure size 600x400 with 1 Axes>"
      ]
     },
     "metadata": {},
     "output_type": "display_data"
    },
    {
     "name": "stdout",
     "output_type": "stream",
     "text": [
      "Better model found at epoch 1 with valid_loss value: 0.02806624211370945.\n",
      "Better model found at epoch 1 with valid_loss value: 0.02806624211370945.\n",
      "Better model found at epoch 1 with valid_loss value: 0.02806624211370945.\n",
      "Better model found at epoch 2 with valid_loss value: 0.02777428738772869.\n",
      "Better model found at epoch 2 with valid_loss value: 0.02777428738772869.\n",
      "Better model found at epoch 2 with valid_loss value: 0.02777428738772869.\n",
      "Better model found at epoch 3 with valid_loss value: 0.027522476390004158.\n",
      "Better model found at epoch 3 with valid_loss value: 0.027522476390004158.\n",
      "Better model found at epoch 3 with valid_loss value: 0.027522476390004158.\n",
      "No improvement since epoch 0: early stopping\n"
     ]
    },
    {
     "name": "stderr",
     "output_type": "stream",
     "text": [
      "/usr/local/lib/python3.11/dist-packages/fastai/learner.py:53: FutureWarning: You are using `torch.load` with `weights_only=False` (the current default value), which uses the default pickle module implicitly. It is possible to construct malicious pickle data which will execute arbitrary code during unpickling (See https://github.com/pytorch/pytorch/blob/main/SECURITY.md#untrusted-models for more details). In a future release, the default value for `weights_only` will be flipped to `True`. This limits the functions that could be executed during unpickling. Arbitrary objects will no longer be allowed to be loaded via this mode unless they are explicitly allowlisted by the user via `torch.serialization.add_safe_globals`. We recommend you start setting `weights_only=True` for any use case where you don't have full control of the loaded file. Please open an issue on GitHub for any issues related to this experimental feature.\n",
      "  state = torch.load(file, map_location=device, **torch_load_kwargs)\n"
     ]
    },
    {
     "name": "stdout",
     "output_type": "stream",
     "text": [
      "--------------Phase2-Done---------------\n",
      "--------------Begin-Testing---------------\n"
     ]
    },
    {
     "name": "stderr",
     "output_type": "stream",
     "text": [
      "/usr/local/lib/python3.11/dist-packages/torchvision/models/_utils.py:208: UserWarning: The parameter 'pretrained' is deprecated since 0.13 and may be removed in the future, please use 'weights' instead.\n",
      "  warnings.warn(\n",
      "/usr/local/lib/python3.11/dist-packages/torchvision/models/_utils.py:223: UserWarning: Arguments other than a weight enum or `None` for 'weights' are deprecated since 0.13 and may be removed in the future. The current behavior is equivalent to passing `weights=EfficientNet_V2_S_Weights.IMAGENET1K_V1`. You can also use `weights=EfficientNet_V2_S_Weights.DEFAULT` to get the most up-to-date weights.\n",
      "  warnings.warn(msg)\n",
      "/usr/local/lib/python3.11/dist-packages/fastai/callback/fp16.py:47: FutureWarning: `torch.cuda.amp.autocast(args...)` is deprecated. Please use `torch.amp.autocast('cuda', args...)` instead.\n",
      "  self.autocast,self.learn.scaler,self.scales = autocast(dtype=dtype),GradScaler(**self.kwargs),L()\n",
      "/usr/local/lib/python3.11/dist-packages/fastai/callback/fp16.py:47: FutureWarning: `torch.cuda.amp.GradScaler(args...)` is deprecated. Please use `torch.amp.GradScaler('cuda', args...)` instead.\n",
      "  self.autocast,self.learn.scaler,self.scales = autocast(dtype=dtype),GradScaler(**self.kwargs),L()\n"
     ]
    },
    {
     "data": {
      "text/html": [
       "\n",
       "<style>\n",
       "    /* Turns off some styling */\n",
       "    progress {\n",
       "        /* gets rid of default border in Firefox and Opera. */\n",
       "        border: none;\n",
       "        /* Needs to be in here for Safari polyfill so background images work as expected. */\n",
       "        background-size: auto;\n",
       "    }\n",
       "    progress:not([value]), progress:not([value])::-webkit-progress-bar {\n",
       "        background: repeating-linear-gradient(45deg, #7e7e7e, #7e7e7e 10px, #5c5c5c 10px, #5c5c5c 20px);\n",
       "    }\n",
       "    .progress-bar-interrupted, .progress-bar-interrupted::-webkit-progress-bar {\n",
       "        background: #F44336;\n",
       "    }\n",
       "</style>\n"
      ],
      "text/plain": [
       "<IPython.core.display.HTML object>"
      ]
     },
     "metadata": {},
     "output_type": "display_data"
    },
    {
     "data": {
      "text/html": [],
      "text/plain": [
       "<IPython.core.display.HTML object>"
      ]
     },
     "metadata": {},
     "output_type": "display_data"
    },
    {
     "data": {
      "text/html": [
       "\n",
       "<style>\n",
       "    /* Turns off some styling */\n",
       "    progress {\n",
       "        /* gets rid of default border in Firefox and Opera. */\n",
       "        border: none;\n",
       "        /* Needs to be in here for Safari polyfill so background images work as expected. */\n",
       "        background-size: auto;\n",
       "    }\n",
       "    progress:not([value]), progress:not([value])::-webkit-progress-bar {\n",
       "        background: repeating-linear-gradient(45deg, #7e7e7e, #7e7e7e 10px, #5c5c5c 10px, #5c5c5c 20px);\n",
       "    }\n",
       "    .progress-bar-interrupted, .progress-bar-interrupted::-webkit-progress-bar {\n",
       "        background: #F44336;\n",
       "    }\n",
       "</style>\n"
      ],
      "text/plain": [
       "<IPython.core.display.HTML object>"
      ]
     },
     "metadata": {},
     "output_type": "display_data"
    },
    {
     "data": {
      "text/html": [],
      "text/plain": [
       "<IPython.core.display.HTML object>"
      ]
     },
     "metadata": {},
     "output_type": "display_data"
    },
    {
     "name": "stdout",
     "output_type": "stream",
     "text": [
      "ROC_AUC_Labels: [('Atelectasis', 0.8230890788023499), ('Consolidation', 0.8252907665092697), ('Infiltration', 0.7290405539953476), ('Pneumothorax', 0.9137066396806657), ('Edema', 0.9019892789638396), ('Emphysema', 0.9310544487572645), ('Fibrosis', 0.853407016495735), ('Effusion', 0.9111457409414934), ('Pneumonia', 0.8145338400427774), ('Pleural_Thickening', 0.863364094229717), ('Cardiomegaly', 0.9180657777137956), ('Nodule', 0.8250040056827286), ('Mass', 0.9079625262054508), ('Hernia', 0.9952440775305098)]\n",
      "SCORE: 0.8723498461107818\n",
      "Error in experiment: 'class_auc'\n",
      "\n",
      "Experiment 4/4\n",
      "\n",
      "=== Running experiment: momentum=0.99, k=5, threshold=0.2 ===\n",
      "--------------Begin-Phase1---------------\n"
     ]
    },
    {
     "name": "stderr",
     "output_type": "stream",
     "text": [
      "/usr/local/lib/python3.11/dist-packages/torchvision/models/_utils.py:208: UserWarning: The parameter 'pretrained' is deprecated since 0.13 and may be removed in the future, please use 'weights' instead.\n",
      "  warnings.warn(\n",
      "/usr/local/lib/python3.11/dist-packages/torchvision/models/_utils.py:223: UserWarning: Arguments other than a weight enum or `None` for 'weights' are deprecated since 0.13 and may be removed in the future. The current behavior is equivalent to passing `weights=EfficientNet_V2_S_Weights.IMAGENET1K_V1`. You can also use `weights=EfficientNet_V2_S_Weights.DEFAULT` to get the most up-to-date weights.\n",
      "  warnings.warn(msg)\n",
      "/usr/local/lib/python3.11/dist-packages/fastai/callback/fp16.py:47: FutureWarning: `torch.cuda.amp.autocast(args...)` is deprecated. Please use `torch.amp.autocast('cuda', args...)` instead.\n",
      "  self.autocast,self.learn.scaler,self.scales = autocast(dtype=dtype),GradScaler(**self.kwargs),L()\n",
      "/usr/local/lib/python3.11/dist-packages/fastai/callback/fp16.py:47: FutureWarning: `torch.cuda.amp.GradScaler(args...)` is deprecated. Please use `torch.amp.GradScaler('cuda', args...)` instead.\n",
      "  self.autocast,self.learn.scaler,self.scales = autocast(dtype=dtype),GradScaler(**self.kwargs),L()\n"
     ]
    },
    {
     "data": {
      "text/html": [
       "\n",
       "<style>\n",
       "    /* Turns off some styling */\n",
       "    progress {\n",
       "        /* gets rid of default border in Firefox and Opera. */\n",
       "        border: none;\n",
       "        /* Needs to be in here for Safari polyfill so background images work as expected. */\n",
       "        background-size: auto;\n",
       "    }\n",
       "    progress:not([value]), progress:not([value])::-webkit-progress-bar {\n",
       "        background: repeating-linear-gradient(45deg, #7e7e7e, #7e7e7e 10px, #5c5c5c 10px, #5c5c5c 20px);\n",
       "    }\n",
       "    .progress-bar-interrupted, .progress-bar-interrupted::-webkit-progress-bar {\n",
       "        background: #F44336;\n",
       "    }\n",
       "</style>\n"
      ],
      "text/plain": [
       "<IPython.core.display.HTML object>"
      ]
     },
     "metadata": {},
     "output_type": "display_data"
    },
    {
     "data": {
      "text/html": [],
      "text/plain": [
       "<IPython.core.display.HTML object>"
      ]
     },
     "metadata": {},
     "output_type": "display_data"
    },
    {
     "data": {
      "text/html": [
       "\n",
       "<style>\n",
       "    /* Turns off some styling */\n",
       "    progress {\n",
       "        /* gets rid of default border in Firefox and Opera. */\n",
       "        border: none;\n",
       "        /* Needs to be in here for Safari polyfill so background images work as expected. */\n",
       "        background-size: auto;\n",
       "    }\n",
       "    progress:not([value]), progress:not([value])::-webkit-progress-bar {\n",
       "        background: repeating-linear-gradient(45deg, #7e7e7e, #7e7e7e 10px, #5c5c5c 10px, #5c5c5c 20px);\n",
       "    }\n",
       "    .progress-bar-interrupted, .progress-bar-interrupted::-webkit-progress-bar {\n",
       "        background: #F44336;\n",
       "    }\n",
       "</style>\n"
      ],
      "text/plain": [
       "<IPython.core.display.HTML object>"
      ]
     },
     "metadata": {},
     "output_type": "display_data"
    },
    {
     "data": {
      "text/html": [],
      "text/plain": [
       "<IPython.core.display.HTML object>"
      ]
     },
     "metadata": {},
     "output_type": "display_data"
    },
    {
     "name": "stderr",
     "output_type": "stream",
     "text": [
      "/usr/local/lib/python3.11/dist-packages/fastai/learner.py:53: FutureWarning: You are using `torch.load` with `weights_only=False` (the current default value), which uses the default pickle module implicitly. It is possible to construct malicious pickle data which will execute arbitrary code during unpickling (See https://github.com/pytorch/pytorch/blob/main/SECURITY.md#untrusted-models for more details). In a future release, the default value for `weights_only` will be flipped to `True`. This limits the functions that could be executed during unpickling. Arbitrary objects will no longer be allowed to be loaded via this mode unless they are explicitly allowlisted by the user via `torch.serialization.add_safe_globals`. We recommend you start setting `weights_only=True` for any use case where you don't have full control of the loaded file. Please open an issue on GitHub for any issues related to this experimental feature.\n",
      "  state = torch.load(file, map_location=device, **torch_load_kwargs)\n"
     ]
    },
    {
     "name": "stdout",
     "output_type": "stream",
     "text": [
      "initial learning rate= 0.0002290867705596611\n"
     ]
    },
    {
     "data": {
      "text/html": [
       "\n",
       "<style>\n",
       "    /* Turns off some styling */\n",
       "    progress {\n",
       "        /* gets rid of default border in Firefox and Opera. */\n",
       "        border: none;\n",
       "        /* Needs to be in here for Safari polyfill so background images work as expected. */\n",
       "        background-size: auto;\n",
       "    }\n",
       "    progress:not([value]), progress:not([value])::-webkit-progress-bar {\n",
       "        background: repeating-linear-gradient(45deg, #7e7e7e, #7e7e7e 10px, #5c5c5c 10px, #5c5c5c 20px);\n",
       "    }\n",
       "    .progress-bar-interrupted, .progress-bar-interrupted::-webkit-progress-bar {\n",
       "        background: #F44336;\n",
       "    }\n",
       "</style>\n"
      ],
      "text/plain": [
       "<IPython.core.display.HTML object>"
      ]
     },
     "metadata": {},
     "output_type": "display_data"
    },
    {
     "data": {
      "text/html": [
       "<table border=\"1\" class=\"dataframe\">\n",
       "  <thead>\n",
       "    <tr style=\"text-align: left;\">\n",
       "      <th>epoch</th>\n",
       "      <th>train_loss</th>\n",
       "      <th>valid_loss</th>\n",
       "      <th>accuracy_multi</th>\n",
       "      <th>f1_score</th>\n",
       "      <th>roc_auc_score</th>\n",
       "      <th>time</th>\n",
       "    </tr>\n",
       "  </thead>\n",
       "  <tbody>\n",
       "  </tbody>\n",
       "</table>"
      ],
      "text/plain": [
       "<IPython.core.display.HTML object>"
      ]
     },
     "metadata": {},
     "output_type": "display_data"
    },
    {
     "data": {
      "text/html": [
       "\n",
       "<style>\n",
       "    /* Turns off some styling */\n",
       "    progress {\n",
       "        /* gets rid of default border in Firefox and Opera. */\n",
       "        border: none;\n",
       "        /* Needs to be in here for Safari polyfill so background images work as expected. */\n",
       "        background-size: auto;\n",
       "    }\n",
       "    progress:not([value]), progress:not([value])::-webkit-progress-bar {\n",
       "        background: repeating-linear-gradient(45deg, #7e7e7e, #7e7e7e 10px, #5c5c5c 10px, #5c5c5c 20px);\n",
       "    }\n",
       "    .progress-bar-interrupted, .progress-bar-interrupted::-webkit-progress-bar {\n",
       "        background: #F44336;\n",
       "    }\n",
       "</style>\n"
      ],
      "text/plain": [
       "<IPython.core.display.HTML object>"
      ]
     },
     "metadata": {},
     "output_type": "display_data"
    },
    {
     "data": {
      "text/html": [
       "<table border=\"1\" class=\"dataframe\">\n",
       "  <thead>\n",
       "    <tr style=\"text-align: left;\">\n",
       "      <th>epoch</th>\n",
       "      <th>train_loss</th>\n",
       "      <th>valid_loss</th>\n",
       "      <th>accuracy_multi</th>\n",
       "      <th>f1_score</th>\n",
       "      <th>roc_auc_score</th>\n",
       "      <th>time</th>\n",
       "    </tr>\n",
       "  </thead>\n",
       "  <tbody>\n",
       "    <tr>\n",
       "      <td>0</td>\n",
       "      <td>0.332695</td>\n",
       "      <td>0.317452</td>\n",
       "      <td>0.889344</td>\n",
       "      <td>0.000772</td>\n",
       "      <td>0.501462</td>\n",
       "      <td>08:19</td>\n",
       "    </tr>\n",
       "    <tr>\n",
       "      <td>1</td>\n",
       "      <td>0.304476</td>\n",
       "      <td>0.296250</td>\n",
       "      <td>0.889686</td>\n",
       "      <td>0.006814</td>\n",
       "      <td>0.606446</td>\n",
       "      <td>08:07</td>\n",
       "    </tr>\n",
       "    <tr>\n",
       "      <td>2</td>\n",
       "      <td>0.274170</td>\n",
       "      <td>0.267049</td>\n",
       "      <td>0.895398</td>\n",
       "      <td>0.129000</td>\n",
       "      <td>0.732828</td>\n",
       "      <td>07:57</td>\n",
       "    </tr>\n",
       "  </tbody>\n",
       "</table>"
      ],
      "text/plain": [
       "<IPython.core.display.HTML object>"
      ]
     },
     "metadata": {},
     "output_type": "display_data"
    },
    {
     "name": "stdout",
     "output_type": "stream",
     "text": [
      "Better model found at epoch 0 with valid_loss value: 0.3174523115158081.\n",
      "Better model found at epoch 0 with valid_loss value: 0.3174523115158081.\n",
      "Better model found at epoch 0 with valid_loss value: 0.3174523115158081.\n"
     ]
    },
    {
     "data": {
      "image/png": "[encoded data removed]",
      "text/plain": [
       "<Figure size 600x400 with 1 Axes>"
      ]
     },
     "metadata": {},
     "output_type": "display_data"
    },
    {
     "name": "stdout",
     "output_type": "stream",
     "text": [
      "Better model found at epoch 1 with valid_loss value: 0.29625049233436584.\n",
      "Better model found at epoch 1 with valid_loss value: 0.29625049233436584.\n",
      "Better model found at epoch 1 with valid_loss value: 0.29625049233436584.\n",
      "Better model found at epoch 2 with valid_loss value: 0.2670486271381378.\n",
      "Better model found at epoch 2 with valid_loss value: 0.2670486271381378.\n",
      "Better model found at epoch 2 with valid_loss value: 0.2670486271381378.\n"
     ]
    },
    {
     "name": "stderr",
     "output_type": "stream",
     "text": [
      "/usr/local/lib/python3.11/dist-packages/fastai/learner.py:53: FutureWarning: You are using `torch.load` with `weights_only=False` (the current default value), which uses the default pickle module implicitly. It is possible to construct malicious pickle data which will execute arbitrary code during unpickling (See https://github.com/pytorch/pytorch/blob/main/SECURITY.md#untrusted-models for more details). In a future release, the default value for `weights_only` will be flipped to `True`. This limits the functions that could be executed during unpickling. Arbitrary objects will no longer be allowed to be loaded via this mode unless they are explicitly allowlisted by the user via `torch.serialization.add_safe_globals`. We recommend you start setting `weights_only=True` for any use case where you don't have full control of the loaded file. Please open an issue on GitHub for any issues related to this experimental feature.\n",
      "  state = torch.load(file, map_location=device, **torch_load_kwargs)\n",
      "/usr/local/lib/python3.11/dist-packages/fastai/callback/fp16.py:47: FutureWarning: `torch.cuda.amp.autocast(args...)` is deprecated. Please use `torch.amp.autocast('cuda', args...)` instead.\n",
      "  self.autocast,self.learn.scaler,self.scales = autocast(dtype=dtype),GradScaler(**self.kwargs),L()\n",
      "/usr/local/lib/python3.11/dist-packages/fastai/callback/fp16.py:47: FutureWarning: `torch.cuda.amp.GradScaler(args...)` is deprecated. Please use `torch.amp.GradScaler('cuda', args...)` instead.\n",
      "  self.autocast,self.learn.scaler,self.scales = autocast(dtype=dtype),GradScaler(**self.kwargs),L()\n"
     ]
    },
    {
     "data": {
      "text/html": [
       "\n",
       "<style>\n",
       "    /* Turns off some styling */\n",
       "    progress {\n",
       "        /* gets rid of default border in Firefox and Opera. */\n",
       "        border: none;\n",
       "        /* Needs to be in here for Safari polyfill so background images work as expected. */\n",
       "        background-size: auto;\n",
       "    }\n",
       "    progress:not([value]), progress:not([value])::-webkit-progress-bar {\n",
       "        background: repeating-linear-gradient(45deg, #7e7e7e, #7e7e7e 10px, #5c5c5c 10px, #5c5c5c 20px);\n",
       "    }\n",
       "    .progress-bar-interrupted, .progress-bar-interrupted::-webkit-progress-bar {\n",
       "        background: #F44336;\n",
       "    }\n",
       "</style>\n"
      ],
      "text/plain": [
       "<IPython.core.display.HTML object>"
      ]
     },
     "metadata": {},
     "output_type": "display_data"
    },
    {
     "data": {
      "text/html": [
       "<table border=\"1\" class=\"dataframe\">\n",
       "  <thead>\n",
       "    <tr style=\"text-align: left;\">\n",
       "      <th>epoch</th>\n",
       "      <th>train_loss</th>\n",
       "      <th>valid_loss</th>\n",
       "      <th>accuracy_multi</th>\n",
       "      <th>f1_score</th>\n",
       "      <th>roc_auc_score</th>\n",
       "      <th>time</th>\n",
       "    </tr>\n",
       "  </thead>\n",
       "  <tbody>\n",
       "  </tbody>\n",
       "</table>"
      ],
      "text/plain": [
       "<IPython.core.display.HTML object>"
      ]
     },
     "metadata": {},
     "output_type": "display_data"
    },
    {
     "data": {
      "text/html": [
       "\n",
       "<style>\n",
       "    /* Turns off some styling */\n",
       "    progress {\n",
       "        /* gets rid of default border in Firefox and Opera. */\n",
       "        border: none;\n",
       "        /* Needs to be in here for Safari polyfill so background images work as expected. */\n",
       "        background-size: auto;\n",
       "    }\n",
       "    progress:not([value]), progress:not([value])::-webkit-progress-bar {\n",
       "        background: repeating-linear-gradient(45deg, #7e7e7e, #7e7e7e 10px, #5c5c5c 10px, #5c5c5c 20px);\n",
       "    }\n",
       "    .progress-bar-interrupted, .progress-bar-interrupted::-webkit-progress-bar {\n",
       "        background: #F44336;\n",
       "    }\n",
       "</style>\n"
      ],
      "text/plain": [
       "<IPython.core.display.HTML object>"
      ]
     },
     "metadata": {},
     "output_type": "display_data"
    },
    {
     "data": {
      "text/html": [
       "<table border=\"1\" class=\"dataframe\">\n",
       "  <thead>\n",
       "    <tr style=\"text-align: left;\">\n",
       "      <th>epoch</th>\n",
       "      <th>train_loss</th>\n",
       "      <th>valid_loss</th>\n",
       "      <th>accuracy_multi</th>\n",
       "      <th>f1_score</th>\n",
       "      <th>roc_auc_score</th>\n",
       "      <th>time</th>\n",
       "    </tr>\n",
       "  </thead>\n",
       "  <tbody>\n",
       "    <tr>\n",
       "      <td>0</td>\n",
       "      <td>0.263637</td>\n",
       "      <td>0.257099</td>\n",
       "      <td>0.899959</td>\n",
       "      <td>0.184776</td>\n",
       "      <td>0.757328</td>\n",
       "      <td>08:03</td>\n",
       "    </tr>\n",
       "    <tr>\n",
       "      <td>1</td>\n",
       "      <td>0.257302</td>\n",
       "      <td>0.252503</td>\n",
       "      <td>0.901657</td>\n",
       "      <td>0.206615</td>\n",
       "      <td>0.774877</td>\n",
       "      <td>07:59</td>\n",
       "    </tr>\n",
       "    <tr>\n",
       "      <td>2</td>\n",
       "      <td>0.251788</td>\n",
       "      <td>0.250111</td>\n",
       "      <td>0.901794</td>\n",
       "      <td>0.227752</td>\n",
       "      <td>0.780270</td>\n",
       "      <td>08:01</td>\n",
       "    </tr>\n",
       "    <tr>\n",
       "      <td>3</td>\n",
       "      <td>0.247724</td>\n",
       "      <td>0.248552</td>\n",
       "      <td>0.901877</td>\n",
       "      <td>0.230480</td>\n",
       "      <td>0.789164</td>\n",
       "      <td>07:58</td>\n",
       "    </tr>\n",
       "    <tr>\n",
       "      <td>4</td>\n",
       "      <td>0.242867</td>\n",
       "      <td>0.247113</td>\n",
       "      <td>0.902616</td>\n",
       "      <td>0.240797</td>\n",
       "      <td>0.795388</td>\n",
       "      <td>08:00</td>\n",
       "    </tr>\n",
       "    <tr>\n",
       "      <td>5</td>\n",
       "      <td>0.237772</td>\n",
       "      <td>0.246961</td>\n",
       "      <td>0.902589</td>\n",
       "      <td>0.245257</td>\n",
       "      <td>0.797511</td>\n",
       "      <td>08:05</td>\n",
       "    </tr>\n",
       "    <tr>\n",
       "      <td>6</td>\n",
       "      <td>0.229861</td>\n",
       "      <td>0.246589</td>\n",
       "      <td>0.903191</td>\n",
       "      <td>0.301092</td>\n",
       "      <td>0.804911</td>\n",
       "      <td>07:58</td>\n",
       "    </tr>\n",
       "    <tr>\n",
       "      <td>7</td>\n",
       "      <td>0.222784</td>\n",
       "      <td>0.245976</td>\n",
       "      <td>0.903822</td>\n",
       "      <td>0.314154</td>\n",
       "      <td>0.806063</td>\n",
       "      <td>07:57</td>\n",
       "    </tr>\n",
       "    <tr>\n",
       "      <td>8</td>\n",
       "      <td>0.214780</td>\n",
       "      <td>0.250821</td>\n",
       "      <td>0.901424</td>\n",
       "      <td>0.318666</td>\n",
       "      <td>0.804599</td>\n",
       "      <td>07:57</td>\n",
       "    </tr>\n",
       "    <tr>\n",
       "      <td>9</td>\n",
       "      <td>0.204718</td>\n",
       "      <td>0.254083</td>\n",
       "      <td>0.902411</td>\n",
       "      <td>0.328286</td>\n",
       "      <td>0.798902</td>\n",
       "      <td>08:01</td>\n",
       "    </tr>\n",
       "    <tr>\n",
       "      <td>10</td>\n",
       "      <td>0.194540</td>\n",
       "      <td>0.257040</td>\n",
       "      <td>0.901123</td>\n",
       "      <td>0.349623</td>\n",
       "      <td>0.800230</td>\n",
       "      <td>08:01</td>\n",
       "    </tr>\n",
       "  </tbody>\n",
       "</table>"
      ],
      "text/plain": [
       "<IPython.core.display.HTML object>"
      ]
     },
     "metadata": {},
     "output_type": "display_data"
    },
    {
     "name": "stdout",
     "output_type": "stream",
     "text": [
      "Better model found at epoch 0 with valid_loss value: 0.2570986747741699.\n",
      "Better model found at epoch 0 with valid_loss value: 0.2570986747741699.\n",
      "Better model found at epoch 0 with valid_loss value: 0.2570986747741699.\n"
     ]
    },
    {
     "data": {
      "image/png": "[encoded data removed]",
      "text/plain": [
       "<Figure size 600x400 with 1 Axes>"
      ]
     },
     "metadata": {},
     "output_type": "display_data"
    },
    {
     "name": "stdout",
     "output_type": "stream",
     "text": [
      "Better model found at epoch 1 with valid_loss value: 0.25250303745269775.\n",
      "Better model found at epoch 1 with valid_loss value: 0.25250303745269775.\n",
      "Better model found at epoch 1 with valid_loss value: 0.25250303745269775.\n",
      "Better model found at epoch 2 with valid_loss value: 0.2501109838485718.\n",
      "Better model found at epoch 2 with valid_loss value: 0.2501109838485718.\n",
      "Better model found at epoch 2 with valid_loss value: 0.2501109838485718.\n",
      "Better model found at epoch 3 with valid_loss value: 0.24855220317840576.\n",
      "Better model found at epoch 3 with valid_loss value: 0.24855220317840576.\n",
      "Better model found at epoch 3 with valid_loss value: 0.24855220317840576.\n",
      "Better model found at epoch 4 with valid_loss value: 0.24711312353610992.\n",
      "Better model found at epoch 4 with valid_loss value: 0.24711312353610992.\n",
      "Better model found at epoch 4 with valid_loss value: 0.24711312353610992.\n",
      "Better model found at epoch 5 with valid_loss value: 0.24696053564548492.\n",
      "Better model found at epoch 5 with valid_loss value: 0.24696053564548492.\n",
      "Better model found at epoch 5 with valid_loss value: 0.24696053564548492.\n",
      "Better model found at epoch 6 with valid_loss value: 0.24658933281898499.\n",
      "Better model found at epoch 6 with valid_loss value: 0.24658933281898499.\n",
      "Better model found at epoch 6 with valid_loss value: 0.24658933281898499.\n",
      "Better model found at epoch 7 with valid_loss value: 0.24597595632076263.\n",
      "Better model found at epoch 7 with valid_loss value: 0.24597595632076263.\n",
      "Better model found at epoch 7 with valid_loss value: 0.24597595632076263.\n",
      "No improvement since epoch 7: early stopping\n"
     ]
    },
    {
     "name": "stderr",
     "output_type": "stream",
     "text": [
      "/usr/local/lib/python3.11/dist-packages/fastai/learner.py:53: FutureWarning: You are using `torch.load` with `weights_only=False` (the current default value), which uses the default pickle module implicitly. It is possible to construct malicious pickle data which will execute arbitrary code during unpickling (See https://github.com/pytorch/pytorch/blob/main/SECURITY.md#untrusted-models for more details). In a future release, the default value for `weights_only` will be flipped to `True`. This limits the functions that could be executed during unpickling. Arbitrary objects will no longer be allowed to be loaded via this mode unless they are explicitly allowlisted by the user via `torch.serialization.add_safe_globals`. We recommend you start setting `weights_only=True` for any use case where you don't have full control of the loaded file. Please open an issue on GitHub for any issues related to this experimental feature.\n",
      "  state = torch.load(file, map_location=device, **torch_load_kwargs)\n"
     ]
    },
    {
     "name": "stdout",
     "output_type": "stream",
     "text": [
      "--------------Phase1-Done---------------\n",
      "--------------Begin-Phase2---------------\n"
     ]
    },
    {
     "name": "stderr",
     "output_type": "stream",
     "text": [
      "/usr/local/lib/python3.11/dist-packages/torchvision/models/_utils.py:208: UserWarning: The parameter 'pretrained' is deprecated since 0.13 and may be removed in the future, please use 'weights' instead.\n",
      "  warnings.warn(\n",
      "/usr/local/lib/python3.11/dist-packages/torchvision/models/_utils.py:223: UserWarning: Arguments other than a weight enum or `None` for 'weights' are deprecated since 0.13 and may be removed in the future. The current behavior is equivalent to passing `weights=EfficientNet_V2_S_Weights.IMAGENET1K_V1`. You can also use `weights=EfficientNet_V2_S_Weights.DEFAULT` to get the most up-to-date weights.\n",
      "  warnings.warn(msg)\n",
      "/usr/local/lib/python3.11/dist-packages/fastai/callback/fp16.py:47: FutureWarning: `torch.cuda.amp.autocast(args...)` is deprecated. Please use `torch.amp.autocast('cuda', args...)` instead.\n",
      "  self.autocast,self.learn.scaler,self.scales = autocast(dtype=dtype),GradScaler(**self.kwargs),L()\n",
      "/usr/local/lib/python3.11/dist-packages/fastai/callback/fp16.py:47: FutureWarning: `torch.cuda.amp.GradScaler(args...)` is deprecated. Please use `torch.amp.GradScaler('cuda', args...)` instead.\n",
      "  self.autocast,self.learn.scaler,self.scales = autocast(dtype=dtype),GradScaler(**self.kwargs),L()\n"
     ]
    },
    {
     "data": {
      "text/html": [
       "\n",
       "<style>\n",
       "    /* Turns off some styling */\n",
       "    progress {\n",
       "        /* gets rid of default border in Firefox and Opera. */\n",
       "        border: none;\n",
       "        /* Needs to be in here for Safari polyfill so background images work as expected. */\n",
       "        background-size: auto;\n",
       "    }\n",
       "    progress:not([value]), progress:not([value])::-webkit-progress-bar {\n",
       "        background: repeating-linear-gradient(45deg, #7e7e7e, #7e7e7e 10px, #5c5c5c 10px, #5c5c5c 20px);\n",
       "    }\n",
       "    .progress-bar-interrupted, .progress-bar-interrupted::-webkit-progress-bar {\n",
       "        background: #F44336;\n",
       "    }\n",
       "</style>\n"
      ],
      "text/plain": [
       "<IPython.core.display.HTML object>"
      ]
     },
     "metadata": {},
     "output_type": "display_data"
    },
    {
     "data": {
      "text/html": [
       "<table border=\"1\" class=\"dataframe\">\n",
       "  <thead>\n",
       "    <tr style=\"text-align: left;\">\n",
       "      <th>epoch</th>\n",
       "      <th>train_loss</th>\n",
       "      <th>valid_loss</th>\n",
       "      <th>accuracy_multi</th>\n",
       "      <th>f1_score</th>\n",
       "      <th>roc_auc_score</th>\n",
       "      <th>time</th>\n",
       "    </tr>\n",
       "  </thead>\n",
       "  <tbody>\n",
       "  </tbody>\n",
       "</table>"
      ],
      "text/plain": [
       "<IPython.core.display.HTML object>"
      ]
     },
     "metadata": {},
     "output_type": "display_data"
    },
    {
     "data": {
      "text/html": [
       "\n",
       "<style>\n",
       "    /* Turns off some styling */\n",
       "    progress {\n",
       "        /* gets rid of default border in Firefox and Opera. */\n",
       "        border: none;\n",
       "        /* Needs to be in here for Safari polyfill so background images work as expected. */\n",
       "        background-size: auto;\n",
       "    }\n",
       "    progress:not([value]), progress:not([value])::-webkit-progress-bar {\n",
       "        background: repeating-linear-gradient(45deg, #7e7e7e, #7e7e7e 10px, #5c5c5c 10px, #5c5c5c 20px);\n",
       "    }\n",
       "    .progress-bar-interrupted, .progress-bar-interrupted::-webkit-progress-bar {\n",
       "        background: #F44336;\n",
       "    }\n",
       "</style>\n"
      ],
      "text/plain": [
       "<IPython.core.display.HTML object>"
      ]
     },
     "metadata": {},
     "output_type": "display_data"
    },
    {
     "data": {
      "text/html": [
       "<table border=\"1\" class=\"dataframe\">\n",
       "  <thead>\n",
       "    <tr style=\"text-align: left;\">\n",
       "      <th>epoch</th>\n",
       "      <th>train_loss</th>\n",
       "      <th>valid_loss</th>\n",
       "      <th>accuracy_multi</th>\n",
       "      <th>f1_score</th>\n",
       "      <th>roc_auc_score</th>\n",
       "      <th>time</th>\n",
       "    </tr>\n",
       "  </thead>\n",
       "  <tbody>\n",
       "    <tr>\n",
       "      <td>0</td>\n",
       "      <td>0.029402</td>\n",
       "      <td>0.027894</td>\n",
       "      <td>0.939133</td>\n",
       "      <td>0.371049</td>\n",
       "      <td>0.872317</td>\n",
       "      <td>17:59</td>\n",
       "    </tr>\n",
       "    <tr>\n",
       "      <td>1</td>\n",
       "      <td>0.028504</td>\n",
       "      <td>0.027591</td>\n",
       "      <td>0.942316</td>\n",
       "      <td>0.384654</td>\n",
       "      <td>0.873962</td>\n",
       "      <td>18:01</td>\n",
       "    </tr>\n",
       "    <tr>\n",
       "      <td>2</td>\n",
       "      <td>0.028078</td>\n",
       "      <td>0.027159</td>\n",
       "      <td>0.939184</td>\n",
       "      <td>0.398289</td>\n",
       "      <td>0.881254</td>\n",
       "      <td>17:55</td>\n",
       "    </tr>\n",
       "    <tr>\n",
       "      <td>3</td>\n",
       "      <td>0.027251</td>\n",
       "      <td>0.027115</td>\n",
       "      <td>0.940406</td>\n",
       "      <td>0.400257</td>\n",
       "      <td>0.880156</td>\n",
       "      <td>17:55</td>\n",
       "    </tr>\n",
       "  </tbody>\n",
       "</table>"
      ],
      "text/plain": [
       "<IPython.core.display.HTML object>"
      ]
     },
     "metadata": {},
     "output_type": "display_data"
    },
    {
     "name": "stdout",
     "output_type": "stream",
     "text": [
      "Better model found at epoch 0 with valid_loss value: 0.027894211933016777.\n",
      "Better model found at epoch 0 with valid_loss value: 0.027894211933016777.\n",
      "Better model found at epoch 0 with valid_loss value: 0.027894211933016777.\n"
     ]
    },
    {
     "data": {
      "image/png": "[encoded data removed]",
      "text/plain": [
       "<Figure size 600x400 with 1 Axes>"
      ]
     },
     "metadata": {},
     "output_type": "display_data"
    },
    {
     "name": "stdout",
     "output_type": "stream",
     "text": [
      "Better model found at epoch 1 with valid_loss value: 0.027591129764914513.\n",
      "Better model found at epoch 1 with valid_loss value: 0.027591129764914513.\n",
      "Better model found at epoch 1 with valid_loss value: 0.027591129764914513.\n",
      "Better model found at epoch 2 with valid_loss value: 0.027159325778484344.\n",
      "Better model found at epoch 2 with valid_loss value: 0.027159325778484344.\n",
      "Better model found at epoch 2 with valid_loss value: 0.027159325778484344.\n",
      "Better model found at epoch 3 with valid_loss value: 0.027115248143672943.\n",
      "No improvement since epoch 0: early stopping\n"
     ]
    },
    {
     "name": "stderr",
     "output_type": "stream",
     "text": [
      "/usr/local/lib/python3.11/dist-packages/fastai/learner.py:53: FutureWarning: You are using `torch.load` with `weights_only=False` (the current default value), which uses the default pickle module implicitly. It is possible to construct malicious pickle data which will execute arbitrary code during unpickling (See https://github.com/pytorch/pytorch/blob/main/SECURITY.md#untrusted-models for more details). In a future release, the default value for `weights_only` will be flipped to `True`. This limits the functions that could be executed during unpickling. Arbitrary objects will no longer be allowed to be loaded via this mode unless they are explicitly allowlisted by the user via `torch.serialization.add_safe_globals`. We recommend you start setting `weights_only=True` for any use case where you don't have full control of the loaded file. Please open an issue on GitHub for any issues related to this experimental feature.\n",
      "  state = torch.load(file, map_location=device, **torch_load_kwargs)\n",
      "/usr/local/lib/python3.11/dist-packages/fastai/learner.py:61: UserWarning: Saved file doesn't contain an optimizer state.\n",
      "  elif with_opt: warn(\"Saved file doesn't contain an optimizer state.\")\n"
     ]
    },
    {
     "name": "stdout",
     "output_type": "stream",
     "text": [
      "--------------Phase2-Done---------------\n",
      "--------------Begin-Testing---------------\n"
     ]
    },
    {
     "name": "stderr",
     "output_type": "stream",
     "text": [
      "/usr/local/lib/python3.11/dist-packages/torchvision/models/_utils.py:208: UserWarning: The parameter 'pretrained' is deprecated since 0.13 and may be removed in the future, please use 'weights' instead.\n",
      "  warnings.warn(\n",
      "/usr/local/lib/python3.11/dist-packages/torchvision/models/_utils.py:223: UserWarning: Arguments other than a weight enum or `None` for 'weights' are deprecated since 0.13 and may be removed in the future. The current behavior is equivalent to passing `weights=EfficientNet_V2_S_Weights.IMAGENET1K_V1`. You can also use `weights=EfficientNet_V2_S_Weights.DEFAULT` to get the most up-to-date weights.\n",
      "  warnings.warn(msg)\n",
      "/usr/local/lib/python3.11/dist-packages/fastai/callback/fp16.py:47: FutureWarning: `torch.cuda.amp.autocast(args...)` is deprecated. Please use `torch.amp.autocast('cuda', args...)` instead.\n",
      "  self.autocast,self.learn.scaler,self.scales = autocast(dtype=dtype),GradScaler(**self.kwargs),L()\n",
      "/usr/local/lib/python3.11/dist-packages/fastai/callback/fp16.py:47: FutureWarning: `torch.cuda.amp.GradScaler(args...)` is deprecated. Please use `torch.amp.GradScaler('cuda', args...)` instead.\n",
      "  self.autocast,self.learn.scaler,self.scales = autocast(dtype=dtype),GradScaler(**self.kwargs),L()\n"
     ]
    },
    {
     "data": {
      "text/html": [
       "\n",
       "<style>\n",
       "    /* Turns off some styling */\n",
       "    progress {\n",
       "        /* gets rid of default border in Firefox and Opera. */\n",
       "        border: none;\n",
       "        /* Needs to be in here for Safari polyfill so background images work as expected. */\n",
       "        background-size: auto;\n",
       "    }\n",
       "    progress:not([value]), progress:not([value])::-webkit-progress-bar {\n",
       "        background: repeating-linear-gradient(45deg, #7e7e7e, #7e7e7e 10px, #5c5c5c 10px, #5c5c5c 20px);\n",
       "    }\n",
       "    .progress-bar-interrupted, .progress-bar-interrupted::-webkit-progress-bar {\n",
       "        background: #F44336;\n",
       "    }\n",
       "</style>\n"
      ],
      "text/plain": [
       "<IPython.core.display.HTML object>"
      ]
     },
     "metadata": {},
     "output_type": "display_data"
    },
    {
     "data": {
      "text/html": [],
      "text/plain": [
       "<IPython.core.display.HTML object>"
      ]
     },
     "metadata": {},
     "output_type": "display_data"
    },
    {
     "data": {
      "text/html": [
       "\n",
       "<style>\n",
       "    /* Turns off some styling */\n",
       "    progress {\n",
       "        /* gets rid of default border in Firefox and Opera. */\n",
       "        border: none;\n",
       "        /* Needs to be in here for Safari polyfill so background images work as expected. */\n",
       "        background-size: auto;\n",
       "    }\n",
       "    progress:not([value]), progress:not([value])::-webkit-progress-bar {\n",
       "        background: repeating-linear-gradient(45deg, #7e7e7e, #7e7e7e 10px, #5c5c5c 10px, #5c5c5c 20px);\n",
       "    }\n",
       "    .progress-bar-interrupted, .progress-bar-interrupted::-webkit-progress-bar {\n",
       "        background: #F44336;\n",
       "    }\n",
       "</style>\n"
      ],
      "text/plain": [
       "<IPython.core.display.HTML object>"
      ]
     },
     "metadata": {},
     "output_type": "display_data"
    },
    {
     "data": {
      "text/html": [],
      "text/plain": [
       "<IPython.core.display.HTML object>"
      ]
     },
     "metadata": {},
     "output_type": "display_data"
    },
    {
     "name": "stdout",
     "output_type": "stream",
     "text": [
      "ROC_AUC_Labels: [('Atelectasis', 0.8333766499098691), ('Consolidation', 0.8193751479949299), ('Infiltration', 0.7392748233045947), ('Pneumothorax', 0.9082326043365004), ('Edema', 0.9184891395283983), ('Emphysema', 0.9456263001007913), ('Fibrosis', 0.8608682664542467), ('Effusion', 0.9169705331625111), ('Pneumonia', 0.7758288136887939), ('Pleural_Thickening', 0.8781900685482574), ('Cardiomegaly', 0.931487046601045), ('Nodule', 0.8301141886623157), ('Mass', 0.9090395702306079), ('Hernia', 0.9854181622397704)]\n",
      "SCORE: 0.875163665340188\n",
      "Error in experiment: 'class_auc'\n"
     ]
    },
    {
     "data": {
      "image/png": "[encoded data removed]",
      "text/plain": [
       "<Figure size 640x480 with 1 Axes>"
      ]
     },
     "metadata": {},
     "output_type": "display_data"
    },
    {
     "data": {
      "image/png": "[encoded data removed]",
      "text/plain": [
       "<Figure size 640x480 with 1 Axes>"
      ]
     },
     "metadata": {},
     "output_type": "display_data"
    },
    {
     "data": {
      "image/png": "[encoded data removed]",
      "text/plain": [
       "<Figure size 640x480 with 1 Axes>"
      ]
     },
     "metadata": {},
     "output_type": "display_data"
    },
    {
     "data": {
      "image/png": "[encoded data removed]",
      "text/plain": [
       "<Figure size 640x480 with 1 Axes>"
      ]
     },
     "metadata": {},
     "output_type": "display_data"
    }
   ],
   "source": [
    "from fastai.vision.all import *\n",
    "import torch\n",
    "import pandas as pd\n",
    "import numpy as np\n",
    "import matplotlib.pyplot as plt\n",
    "import seaborn as sns\n",
    "from sklearn.metrics import roc_auc_score\n",
    "import itertools\n",
    "import time\n",
    "import os\n",
    "\n",
    "\n",
    "# Define the parameter grid\n",
    "momentum_values = [0.99]\n",
    "k_values = [2, 3, 4, 5]\n",
    "threshold_values = [0.2]\n",
    "\n",
    "# Define results directory\n",
    "results_dir = '/kaggle/working/parameter_search_results'\n",
    "os.makedirs(results_dir, exist_ok=True)\n",
    "\n",
    "# Prepare to store results\n",
    "results = []\n",
    "\n",
    "# Define base callbacks for all runs\n",
    "base_cbs = [\n",
    "    SaveModelCallback(monitor='valid_loss', min_delta=0.0001, with_opt=True),\n",
    "    EarlyStoppingCallback(monitor='valid_loss', min_delta=0.001, patience=3),\n",
    "    ShowGraphCallback()\n",
    "    ]\n",
    "def run_experiment(momentum, k, threshold, exp_name):\n",
    "    \"\"\"Run a single experiment with specified parameters.\"\"\"\n",
    "    print(f\"\\n=== Running experiment: momentum={momentum}, k={k}, threshold={threshold} ===\")\n",
    "    \n",
    "    # Modify the ModelConfig class attributes directly\n",
    "    ModelConfig.MOMENTUM = momentum\n",
    "    ModelConfig.RETRIEVAL_K = k\n",
    "    ModelConfig.RARITY_THRESHOLD = threshold\n",
    "    \n",
    "    # Create a model-specific save callback\n",
    "    save_cb = SaveModelCallback(monitor='valid_loss', min_delta=0.0001, \n",
    "                             fname=f\"model_{exp_name}\", with_opt=True)\n",
    "    \n",
    "    # Combine callbacks\n",
    "    cbs = base_cbs + [save_cb]\n",
    "    \n",
    "    try:\n",
    "        start_time = time.time()\n",
    "        \n",
    "        # Phase 1: Initial training\n",
    "        print('--------------Begin-Phase1---------------')\n",
    "        learn = create_fastai_learner(dls, cbs=cbs, loss_type='bce')\n",
    "        \n",
    "        # Find learning rate\n",
    "        lrs = learn.lr_find(suggest_funcs=(minimum, steep, valley, slide))\n",
    "        lr = lrs.valley if lrs.valley is not None else 1e-4\n",
    "        print('initial learning rate=', lr)\n",
    "        \n",
    "        # Training\n",
    "        learn.fine_tune(freeze_epochs=3, epochs=20, base_lr=lr)\n",
    "        \n",
    "        # Phase 2\n",
    "        print('--------------Phase1-Done---------------')\n",
    "        print('--------------Begin-Phase2---------------')\n",
    "        learn = create_fastai_learner(dls_phase2, cbs=cbs, loss_type='asymmetric')\n",
    "        learn = learn.load(f\"/kaggle/working/models/model_{exp_name}\")\n",
    "        learn.unfreeze()\n",
    "        learn.fit_one_cycle(5, slice(2e-5, 8e-5))\n",
    "        \n",
    "        # Testing phase\n",
    "        print('--------------Phase2-Done---------------')\n",
    "        print('--------------Begin-Testing---------------')\n",
    "        test_learn = create_fastai_learner(dls_test, cbs=cbs, loss_type='asymmetric')\n",
    "        test_learn = test_learn.load(f\"/kaggle/working/models/model_{exp_name}\")\n",
    "        \n",
    "        # Get results\n",
    "        model_result = get_roc_auc(test_learn)\n",
    "        preds = model_result['preds']\n",
    "        auc_scores = model_result['class_auc']\n",
    "        mean_auc = model_result['mean_auc']\n",
    "        \n",
    "        # Save predictions\n",
    "        torch.save(preds, f'{results_dir}/preds_{exp_name}.pt')\n",
    "        \n",
    "        training_time = time.time() - start_time\n",
    "        \n",
    "        result = {\n",
    "            'momentum': momentum,\n",
    "            'k': k,\n",
    "            'threshold': threshold,\n",
    "            'mean_auc': mean_auc,\n",
    "            'class_auc': auc_scores,\n",
    "            'training_time': training_time,\n",
    "            'exp_name': exp_name\n",
    "        }\n",
    "        \n",
    "        print(f\"Experiment completed. Mean AUC: {mean_auc:.4f}, Time: {training_time:.1f}s\")\n",
    "        return result\n",
    "        \n",
    "    except Exception as e:\n",
    "        print(f\"Error in experiment: {str(e)}\")\n",
    "        return {\n",
    "            'momentum': momentum,\n",
    "            'k': k,\n",
    "            'threshold': threshold,\n",
    "            'mean_auc': float('nan'),\n",
    "            'class_auc': [],\n",
    "            'training_time': float('nan'),\n",
    "            'exp_name': exp_name,\n",
    "            'error': str(e)\n",
    "        }\n",
    "\n",
    "# Main script\n",
    "if __name__ == \"__main__\":\n",
    "    # Get all parameter combinations\n",
    "    all_combinations = list(itertools.product(momentum_values, k_values, threshold_values))\n",
    "    total_experiments = len(all_combinations)\n",
    "    \n",
    "    print(f\"Starting grid search with {total_experiments} parameter combinations\")\n",
    "    \n",
    "    # Run all experiments\n",
    "    for i, (momentum, k, threshold) in enumerate(all_combinations):\n",
    "        exp_name = f\"m{momentum}_k{k}_t{threshold}\"\n",
    "        print(f\"\\nExperiment {i+1}/{total_experiments}\")\n",
    "        \n",
    "        result = run_experiment(momentum, k, threshold, exp_name)\n",
    "        results.append(result)\n",
    "        \n",
    "        # Save intermediate results after each experiment\n",
    "        pd.DataFrame(results).to_csv(f'{results_dir}/grid_search_results.csv', index=False)\n",
    "    \n",
    "    # Convert results to DataFrame for analysis\n",
    "    results_df = pd.DataFrame(results)\n",
    "    \n",
    "    # Find best parameters\n",
    "    if not results_df.empty and not all(np.isnan(results_df['mean_auc'])):\n",
    "        best_idx = results_df['mean_auc'].idxmax()\n",
    "        best_params = results_df.iloc[best_idx]\n",
    "        \n",
    "        print(\"\\n=== Best Parameter Combination ===\")\n",
    "        print(f\"Momentum: {best_params['momentum']}\")\n",
    "        print(f\"K-value: {best_params['k']}\")\n",
    "        print(f\"Threshold: {best_params['threshold']}\")\n",
    "        print(f\"Mean AUC: {best_params['mean_auc']:.4f}\")\n",
    "        print(f\"Experiment name: {best_params['exp_name']}\")\n",
    "        \n",
    "        # Create visualizations\n",
    "        \n",
    "        # 1. Heatmaps for each momentum value\n",
    "        for m in momentum_values:\n",
    "            df_m = results_df[results_df['momentum'] == m]\n",
    "            if not df_m.empty:\n",
    "                pivot = df_m.pivot_table(index='k', columns='threshold', values='mean_auc')\n",
    "                \n",
    "                plt.figure(figsize=(10, 8))\n",
    "                sns.heatmap(pivot, annot=True, fmt='.4f', cmap='viridis')\n",
    "                plt.title(f'Mean AUC for Momentum = {m}')\n",
    "                plt.tight_layout()\n",
    "                plt.savefig(f'{results_dir}/heatmap_momentum_{m}.png')\n",
    "                plt.close()\n",
    "        \n",
    "        # 2. Effect of individual parameters\n",
    "        plt.figure(figsize=(18, 6))\n",
    "        \n",
    "        # Effect of momentum\n",
    "        plt.subplot(1, 3, 1)\n",
    "        momentum_effect = results_df.groupby('momentum')['mean_auc'].mean().reset_index()\n",
    "        sns.barplot(x='momentum', y='mean_auc', data=momentum_effect)\n",
    "        plt.title('Effect of Momentum')\n",
    "        plt.ylim(momentum_effect['mean_auc'].min() * 0.99, momentum_effect['mean_auc'].max() * 1.01)\n",
    "        \n",
    "        # Effect of k\n",
    "        plt.subplot(1, 3, 2)\n",
    "        k_effect = results_df.groupby('k')['mean_auc'].mean().reset_index()\n",
    "        sns.barplot(x='k', y='mean_auc', data=k_effect)\n",
    "        plt.title('Effect of K Value')\n",
    "        plt.ylim(k_effect['mean_auc'].min() * 0.99, k_effect['mean_auc'].max() * 1.01)\n",
    "        \n",
    "        # Effect of threshold\n",
    "        plt.subplot(1, 3, 3)\n",
    "        threshold_effect = results_df.groupby('threshold')['mean_auc'].mean().reset_index()\n",
    "        sns.barplot(x='threshold', y='mean_auc', data=threshold_effect)\n",
    "        plt.title('Effect of Threshold')\n",
    "        plt.ylim(threshold_effect['mean_auc'].min() * 0.99, threshold_effect['mean_auc'].max() * 1.01)\n",
    "        \n",
    "        plt.tight_layout()\n",
    "        plt.savefig(f'{results_dir}/parameter_effects.png')\n",
    "        plt.close()\n",
    "        \n",
    "        # 3. Top 10 combinations\n",
    "        top10 = results_df.nlargest(10, 'mean_auc')\n",
    "        plt.figure(figsize=(14, 8))\n",
    "        \n",
    "        # Create labels for x-axis\n",
    "        labels = [f\"m={row['momentum']}\\nk={row['k']}\\nt={row['threshold']}\" for _, row in top10.iterrows()]\n",
    "        \n",
    "        plt.bar(range(len(labels)), top10['mean_auc'])\n",
    "        plt.xticks(range(len(labels)), labels, rotation=45, ha='right')\n",
    "        plt.title('Top 10 Parameter Combinations')\n",
    "        plt.ylabel('Mean AUC')\n",
    "        plt.tight_layout()\n",
    "        plt.savefig(f'{results_dir}/top10_combinations.png')\n",
    "        plt.close()\n",
    "        "
   ]
  },
  {
   "cell_type": "code",
   "execution_count": null,
   "id": "160f348c",
   "metadata": {
    "papermill": {
     "duration": 0.030527,
     "end_time": "2025-05-08T15:37:33.999992",
     "exception": false,
     "start_time": "2025-05-08T15:37:33.969465",
     "status": "completed"
    },
    "tags": []
   },
   "outputs": [],
   "source": []
  },
  {
   "cell_type": "markdown",
   "id": "37328895",
   "metadata": {
    "papermill": {
     "duration": 0.028674,
     "end_time": "2025-05-08T15:37:34.057077",
     "exception": false,
     "start_time": "2025-05-08T15:37:34.028403",
     "status": "completed"
    },
    "tags": []
   },
   "source": [
    "# Evaluation"
   ]
  },
  {
   "cell_type": "code",
   "execution_count": null,
   "id": "1d1d824f",
   "metadata": {
    "papermill": {
     "duration": 0.030151,
     "end_time": "2025-05-08T15:37:34.117333",
     "exception": false,
     "start_time": "2025-05-08T15:37:34.087182",
     "status": "completed"
    },
    "tags": []
   },
   "outputs": [],
   "source": []
  },
  {
   "cell_type": "code",
   "execution_count": null,
   "id": "7705f1fa",
   "metadata": {
    "papermill": {
     "duration": 0.030546,
     "end_time": "2025-05-08T15:37:34.178213",
     "exception": false,
     "start_time": "2025-05-08T15:37:34.147667",
     "status": "completed"
    },
    "tags": []
   },
   "outputs": [],
   "source": []
  },
  {
   "cell_type": "code",
   "execution_count": null,
   "id": "e90b5ec7",
   "metadata": {
    "papermill": {
     "duration": 0.02958,
     "end_time": "2025-05-08T15:37:34.237774",
     "exception": false,
     "start_time": "2025-05-08T15:37:34.208194",
     "status": "completed"
    },
    "tags": []
   },
   "outputs": [],
   "source": []
  },
  {
   "cell_type": "code",
   "execution_count": null,
   "id": "638248ce",
   "metadata": {
    "papermill": {
     "duration": 0.029167,
     "end_time": "2025-05-08T15:37:34.295454",
     "exception": false,
     "start_time": "2025-05-08T15:37:34.266287",
     "status": "completed"
    },
    "tags": []
   },
   "outputs": [],
   "source": []
  },
  {
   "cell_type": "code",
   "execution_count": null,
   "id": "1cbb8500",
   "metadata": {
    "papermill": {
     "duration": 0.028974,
     "end_time": "2025-05-08T15:37:34.352876",
     "exception": false,
     "start_time": "2025-05-08T15:37:34.323902",
     "status": "completed"
    },
    "tags": []
   },
   "outputs": [],
   "source": []
  },
  {
   "cell_type": "code",
   "execution_count": null,
   "id": "7872f74b",
   "metadata": {
    "papermill": {
     "duration": 0.028219,
     "end_time": "2025-05-08T15:37:34.409449",
     "exception": false,
     "start_time": "2025-05-08T15:37:34.381230",
     "status": "completed"
    },
    "tags": []
   },
   "outputs": [],
   "source": []
  },
  {
   "cell_type": "code",
   "execution_count": null,
   "id": "e3614a44",
   "metadata": {
    "papermill": {
     "duration": 0.028817,
     "end_time": "2025-05-08T15:37:34.466594",
     "exception": false,
     "start_time": "2025-05-08T15:37:34.437777",
     "status": "completed"
    },
    "tags": []
   },
   "outputs": [],
   "source": []
  },
  {
   "cell_type": "code",
   "execution_count": null,
   "id": "c77d3376",
   "metadata": {
    "papermill": {
     "duration": 0.02823,
     "end_time": "2025-05-08T15:37:34.523441",
     "exception": false,
     "start_time": "2025-05-08T15:37:34.495211",
     "status": "completed"
    },
    "tags": []
   },
   "outputs": [],
   "source": []
  },
  {
   "cell_type": "code",
   "execution_count": null,
   "id": "4fcfcde8",
   "metadata": {
    "papermill": {
     "duration": 0.029896,
     "end_time": "2025-05-08T15:37:34.581642",
     "exception": false,
     "start_time": "2025-05-08T15:37:34.551746",
     "status": "completed"
    },
    "tags": []
   },
   "outputs": [],
   "source": []
  },
  {
   "cell_type": "code",
   "execution_count": null,
   "id": "20f9aa45",
   "metadata": {
    "papermill": {
     "duration": 0.0294,
     "end_time": "2025-05-08T15:37:34.639561",
     "exception": false,
     "start_time": "2025-05-08T15:37:34.610161",
     "status": "completed"
    },
    "tags": []
   },
   "outputs": [],
   "source": []
  },
  {
   "cell_type": "code",
   "execution_count": null,
   "id": "db321224",
   "metadata": {
    "papermill": {
     "duration": 0.029134,
     "end_time": "2025-05-08T15:37:34.697303",
     "exception": false,
     "start_time": "2025-05-08T15:37:34.668169",
     "status": "completed"
    },
    "tags": []
   },
   "outputs": [],
   "source": []
  },
  {
   "cell_type": "code",
   "execution_count": null,
   "id": "2962fc78",
   "metadata": {
    "papermill": {
     "duration": 0.029259,
     "end_time": "2025-05-08T15:37:34.755198",
     "exception": false,
     "start_time": "2025-05-08T15:37:34.725939",
     "status": "completed"
    },
    "tags": []
   },
   "outputs": [],
   "source": []
  },
  {
   "cell_type": "code",
   "execution_count": null,
   "id": "b32400a9",
   "metadata": {
    "papermill": {
     "duration": 0.028303,
     "end_time": "2025-05-08T15:37:34.813793",
     "exception": false,
     "start_time": "2025-05-08T15:37:34.785490",
     "status": "completed"
    },
    "tags": []
   },
   "outputs": [],
   "source": []
  },
  {
   "cell_type": "code",
   "execution_count": null,
   "id": "e6bb294c",
   "metadata": {
    "papermill": {
     "duration": 0.028418,
     "end_time": "2025-05-08T15:37:34.870634",
     "exception": false,
     "start_time": "2025-05-08T15:37:34.842216",
     "status": "completed"
    },
    "tags": []
   },
   "outputs": [],
   "source": []
  },
  {
   "cell_type": "code",
   "execution_count": null,
   "id": "f48eb721",
   "metadata": {
    "papermill": {
     "duration": 0.028886,
     "end_time": "2025-05-08T15:37:34.927725",
     "exception": false,
     "start_time": "2025-05-08T15:37:34.898839",
     "status": "completed"
    },
    "tags": []
   },
   "outputs": [],
   "source": []
  },
  {
   "cell_type": "code",
   "execution_count": null,
   "id": "f170b43c",
   "metadata": {
    "papermill": {
     "duration": 0.029138,
     "end_time": "2025-05-08T15:37:34.986092",
     "exception": false,
     "start_time": "2025-05-08T15:37:34.956954",
     "status": "completed"
    },
    "tags": []
   },
   "outputs": [],
   "source": []
  },
  {
   "cell_type": "code",
   "execution_count": null,
   "id": "690640f6",
   "metadata": {
    "papermill": {
     "duration": 0.029208,
     "end_time": "2025-05-08T15:37:35.044722",
     "exception": false,
     "start_time": "2025-05-08T15:37:35.015514",
     "status": "completed"
    },
    "tags": []
   },
   "outputs": [],
   "source": []
  },
  {
   "cell_type": "code",
   "execution_count": null,
   "id": "ad7898e3",
   "metadata": {
    "papermill": {
     "duration": 0.028627,
     "end_time": "2025-05-08T15:37:35.102248",
     "exception": false,
     "start_time": "2025-05-08T15:37:35.073621",
     "status": "completed"
    },
    "tags": []
   },
   "outputs": [],
   "source": []
  },
  {
   "cell_type": "code",
   "execution_count": null,
   "id": "e8126b2f",
   "metadata": {
    "papermill": {
     "duration": 0.028513,
     "end_time": "2025-05-08T15:37:35.159082",
     "exception": false,
     "start_time": "2025-05-08T15:37:35.130569",
     "status": "completed"
    },
    "tags": []
   },
   "outputs": [],
   "source": []
  },
  {
   "cell_type": "code",
   "execution_count": null,
   "id": "3f86c54e",
   "metadata": {
    "papermill": {
     "duration": 0.028778,
     "end_time": "2025-05-08T15:37:35.216245",
     "exception": false,
     "start_time": "2025-05-08T15:37:35.187467",
     "status": "completed"
    },
    "tags": []
   },
   "outputs": [],
   "source": []
  },
  {
   "cell_type": "code",
   "execution_count": null,
   "id": "bccc7532",
   "metadata": {
    "papermill": {
     "duration": 0.029391,
     "end_time": "2025-05-08T15:37:35.275103",
     "exception": false,
     "start_time": "2025-05-08T15:37:35.245712",
     "status": "completed"
    },
    "tags": []
   },
   "outputs": [],
   "source": []
  },
  {
   "cell_type": "code",
   "execution_count": null,
   "id": "7cdcbf54",
   "metadata": {
    "papermill": {
     "duration": 0.028804,
     "end_time": "2025-05-08T15:37:35.334190",
     "exception": false,
     "start_time": "2025-05-08T15:37:35.305386",
     "status": "completed"
    },
    "tags": []
   },
   "outputs": [],
   "source": []
  },
  {
   "cell_type": "code",
   "execution_count": null,
   "id": "2cb55b9e",
   "metadata": {
    "papermill": {
     "duration": 0.028427,
     "end_time": "2025-05-08T15:37:35.391434",
     "exception": false,
     "start_time": "2025-05-08T15:37:35.363007",
     "status": "completed"
    },
    "tags": []
   },
   "outputs": [],
   "source": []
  },
  {
   "cell_type": "code",
   "execution_count": null,
   "id": "00e29ac2",
   "metadata": {
    "papermill": {
     "duration": 0.027951,
     "end_time": "2025-05-08T15:37:35.448365",
     "exception": false,
     "start_time": "2025-05-08T15:37:35.420414",
     "status": "completed"
    },
    "tags": []
   },
   "outputs": [],
   "source": []
  },
  {
   "cell_type": "code",
   "execution_count": null,
   "id": "5964b786",
   "metadata": {
    "papermill": {
     "duration": 0.02805,
     "end_time": "2025-05-08T15:37:35.504347",
     "exception": false,
     "start_time": "2025-05-08T15:37:35.476297",
     "status": "completed"
    },
    "tags": []
   },
   "outputs": [],
   "source": []
  },
  {
   "cell_type": "code",
   "execution_count": null,
   "id": "95533874",
   "metadata": {
    "papermill": {
     "duration": 0.027969,
     "end_time": "2025-05-08T15:37:35.561164",
     "exception": false,
     "start_time": "2025-05-08T15:37:35.533195",
     "status": "completed"
    },
    "tags": []
   },
   "outputs": [],
   "source": []
  },
  {
   "cell_type": "code",
   "execution_count": null,
   "id": "bba55908",
   "metadata": {
    "papermill": {
     "duration": 0.028525,
     "end_time": "2025-05-08T15:37:35.618781",
     "exception": false,
     "start_time": "2025-05-08T15:37:35.590256",
     "status": "completed"
    },
    "tags": []
   },
   "outputs": [],
   "source": []
  },
  {
   "cell_type": "code",
   "execution_count": null,
   "id": "01c0bd24",
   "metadata": {
    "papermill": {
     "duration": 0.028298,
     "end_time": "2025-05-08T15:37:35.675350",
     "exception": false,
     "start_time": "2025-05-08T15:37:35.647052",
     "status": "completed"
    },
    "tags": []
   },
   "outputs": [],
   "source": []
  },
  {
   "cell_type": "code",
   "execution_count": null,
   "id": "9d71fd8c",
   "metadata": {
    "papermill": {
     "duration": 0.028066,
     "end_time": "2025-05-08T15:37:35.732278",
     "exception": false,
     "start_time": "2025-05-08T15:37:35.704212",
     "status": "completed"
    },
    "tags": []
   },
   "outputs": [],
   "source": []
  },
  {
   "cell_type": "code",
   "execution_count": null,
   "id": "266a3720",
   "metadata": {
    "papermill": {
     "duration": 0.029753,
     "end_time": "2025-05-08T15:37:35.790370",
     "exception": false,
     "start_time": "2025-05-08T15:37:35.760617",
     "status": "completed"
    },
    "tags": []
   },
   "outputs": [],
   "source": []
  },
  {
   "cell_type": "code",
   "execution_count": null,
   "id": "3ad3a764",
   "metadata": {
    "papermill": {
     "duration": 0.029044,
     "end_time": "2025-05-08T15:37:35.847819",
     "exception": false,
     "start_time": "2025-05-08T15:37:35.818775",
     "status": "completed"
    },
    "tags": []
   },
   "outputs": [],
   "source": []
  },
  {
   "cell_type": "code",
   "execution_count": null,
   "id": "4f4ee771",
   "metadata": {
    "papermill": {
     "duration": 0.028141,
     "end_time": "2025-05-08T15:37:35.904161",
     "exception": false,
     "start_time": "2025-05-08T15:37:35.876020",
     "status": "completed"
    },
    "tags": []
   },
   "outputs": [],
   "source": []
  },
  {
   "cell_type": "code",
   "execution_count": null,
   "id": "1470204b",
   "metadata": {
    "papermill": {
     "duration": 0.028274,
     "end_time": "2025-05-08T15:37:35.961156",
     "exception": false,
     "start_time": "2025-05-08T15:37:35.932882",
     "status": "completed"
    },
    "tags": []
   },
   "outputs": [],
   "source": []
  },
  {
   "cell_type": "code",
   "execution_count": null,
   "id": "18cbfea9",
   "metadata": {
    "papermill": {
     "duration": 0.028304,
     "end_time": "2025-05-08T15:37:36.017628",
     "exception": false,
     "start_time": "2025-05-08T15:37:35.989324",
     "status": "completed"
    },
    "tags": []
   },
   "outputs": [],
   "source": []
  },
  {
   "cell_type": "code",
   "execution_count": null,
   "id": "6fd59f3f",
   "metadata": {
    "papermill": {
     "duration": 0.028753,
     "end_time": "2025-05-08T15:37:36.074808",
     "exception": false,
     "start_time": "2025-05-08T15:37:36.046055",
     "status": "completed"
    },
    "tags": []
   },
   "outputs": [],
   "source": []
  },
  {
   "cell_type": "code",
   "execution_count": null,
   "id": "ede2cd82",
   "metadata": {
    "papermill": {
     "duration": 0.02828,
     "end_time": "2025-05-08T15:37:36.131547",
     "exception": false,
     "start_time": "2025-05-08T15:37:36.103267",
     "status": "completed"
    },
    "tags": []
   },
   "outputs": [],
   "source": []
  },
  {
   "cell_type": "code",
   "execution_count": null,
   "id": "a1763668",
   "metadata": {
    "papermill": {
     "duration": 0.02828,
     "end_time": "2025-05-08T15:37:36.188288",
     "exception": false,
     "start_time": "2025-05-08T15:37:36.160008",
     "status": "completed"
    },
    "tags": []
   },
   "outputs": [],
   "source": []
  },
  {
   "cell_type": "code",
   "execution_count": null,
   "id": "f5fe0c61",
   "metadata": {
    "papermill": {
     "duration": 0.028112,
     "end_time": "2025-05-08T15:37:36.244550",
     "exception": false,
     "start_time": "2025-05-08T15:37:36.216438",
     "status": "completed"
    },
    "tags": []
   },
   "outputs": [],
   "source": []
  },
  {
   "cell_type": "code",
   "execution_count": null,
   "id": "d4f55141",
   "metadata": {
    "papermill": {
     "duration": 0.02836,
     "end_time": "2025-05-08T15:37:36.301398",
     "exception": false,
     "start_time": "2025-05-08T15:37:36.273038",
     "status": "completed"
    },
    "tags": []
   },
   "outputs": [],
   "source": []
  }
 ],
 "metadata": {
  "kaggle": {
   "accelerator": "nvidiaTeslaT4",
   "dataSources": [
    {
     "datasetId": 5839,
     "sourceId": 18613,
     "sourceType": "datasetVersion"
    },
    {
     "datasetId": 6860298,
     "sourceId": 11017890,
     "sourceType": "datasetVersion"
    },
    {
     "datasetId": 6874312,
     "sourceId": 11036714,
     "sourceType": "datasetVersion"
    },
    {
     "datasetId": 6880199,
     "sourceId": 11045044,
     "sourceType": "datasetVersion"
    },
    {
     "datasetId": 6883195,
     "sourceId": 11049091,
     "sourceType": "datasetVersion"
    },
    {
     "datasetId": 6887807,
     "sourceId": 11055588,
     "sourceType": "datasetVersion"
    },
    {
     "datasetId": 6929273,
     "sourceId": 11113694,
     "sourceType": "datasetVersion"
    },
    {
     "datasetId": 6987097,
     "sourceId": 11192316,
     "sourceType": "datasetVersion"
    },
    {
     "datasetId": 7049098,
     "sourceId": 11275614,
     "sourceType": "datasetVersion"
    },
    {
     "datasetId": 7050929,
     "sourceId": 11278122,
     "sourceType": "datasetVersion"
    },
    {
     "datasetId": 7050970,
     "sourceId": 11278172,
     "sourceType": "datasetVersion"
    }
   ],
   "dockerImageVersionId": 31011,
   "isGpuEnabled": true,
   "isInternetEnabled": true,
   "language": "python",
   "sourceType": "notebook"
  },
  "kernelspec": {
   "display_name": "Python 3",
   "language": "python",
   "name": "python3"
  },
  "language_info": {
   "codemirror_mode": {
    "name": "ipython",
    "version": 3
   },
   "file_extension": ".py",
   "mimetype": "text/x-python",
   "name": "python",
   "nbconvert_exporter": "python",
   "pygments_lexer": "ipython3",
   "version": "3.11.11"
  },
  "papermill": {
   "default_parameters": {},
   "duration": 39955.809902,
   "end_time": "2025-05-08T15:37:39.305438",
   "environment_variables": {},
   "exception": null,
   "input_path": "__notebook__.ipynb",
   "output_path": "__notebook__.ipynb",
   "parameters": {},
   "start_time": "2025-05-08T04:31:43.495536",
   "version": "2.6.0"
  }
 },
 "nbformat": 4,
 "nbformat_minor": 5
}
